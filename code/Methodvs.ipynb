{
 "cells": [
  {
   "cell_type": "code",
   "execution_count": null,
   "id": "b03a0822",
   "metadata": {
    "tags": []
   },
   "outputs": [],
   "source": [
    "## 加载包"
   ]
  },
  {
   "cell_type": "code",
   "execution_count": 1,
   "id": "59ffcc88",
   "metadata": {
    "ExecuteTime": {
     "end_time": "2022-07-05T02:17:03.633419Z",
     "start_time": "2022-07-05T02:17:03.613669Z"
    }
   },
   "outputs": [
    {
     "name": "stderr",
     "output_type": "stream",
     "text": [
      "/tmp/ipykernel_26160/2962704818.py:10: FutureWarning: pandas.Int64Index is deprecated and will be removed from pandas in a future version. Use pandas.Index with the appropriate dtype instead.\n",
      "  from pandas import MultiIndex, Int64Index\n",
      "/home/wjy/miniconda3/envs/jupyter/lib/python3.10/site-packages/xgboost/compat.py:36: FutureWarning: pandas.Int64Index is deprecated and will be removed from pandas in a future version. Use pandas.Index with the appropriate dtype instead.\n",
      "  from pandas import MultiIndex, Int64Index\n"
     ]
    }
   ],
   "source": [
    "import numpy as np\n",
    "import pandas as pd\n",
    "import seaborn as sns \n",
    "import os\n",
    "import matplotlib.pyplot as plt\n",
    "\n",
    "from scipy.stats import boxcox\n",
    "from matplotlib import pyplot\n",
    "import matplotlib as mpl\n",
    "from pandas import MultiIndex, Int64Index\n",
    "\n",
    "from sklearn.ensemble import RandomForestClassifier, AdaBoostClassifier, GradientBoostingClassifier, ExtraTreesClassifier, VotingClassifier\n",
    "from sklearn.tree import DecisionTreeClassifier\n",
    "from sklearn.model_selection import GridSearchCV, cross_val_score, StratifiedKFold, learning_curve, train_test_split, cross_val_predict\n",
    "from xgboost import XGBClassifier\n",
    "from sklearn.metrics import log_loss, accuracy_score, fbeta_score, make_scorer, confusion_matrix, roc_curve, roc_auc_score, accuracy_score\n",
    "from sklearn.metrics import classification_report\n",
    "from sklearn.metrics import confusion_matrix\n",
    "from sklearn.preprocessing import LabelEncoder\n",
    "from sklearn.neighbors import KNeighborsClassifier\n",
    "from sklearn.linear_model import LogisticRegression\n",
    "from sklearn.naive_bayes import GaussianNB\n",
    "from sklearn.svm import SVC, LinearSVC, NuSVC\n",
    "from sklearn.calibration import CalibratedClassifierCV\n",
    "from tqdm import tqdm\n",
    "from collections import Counter\n",
    "\n",
    "from sklearn.neural_network import MLPClassifier\n",
    "from sklearn.discriminant_analysis import LinearDiscriminantAnalysis\n",
    "from sklearn.discriminant_analysis import QuadraticDiscriminantAnalysis\n",
    "\n",
    "import joblib  # 暂时存储模型\n",
    "import gc # “垃圾”回收"
   ]
  },
  {
   "cell_type": "code",
   "execution_count": 2,
   "id": "58c8c054",
   "metadata": {
    "ExecuteTime": {
     "end_time": "2022-07-05T02:17:05.619930Z",
     "start_time": "2022-07-05T02:17:05.613030Z"
    }
   },
   "outputs": [],
   "source": [
    "mpl.rcParams['figure.figsize'] = (12, 10)"
   ]
  },
  {
   "cell_type": "markdown",
   "id": "9b5bda3c-7df5-4485-b9ca-92446527364f",
   "metadata": {
    "tags": []
   },
   "source": [
    "# 数据集准备"
   ]
  },
  {
   "cell_type": "code",
   "execution_count": 3,
   "id": "c639b07f",
   "metadata": {
    "ExecuteTime": {
     "end_time": "2022-07-05T02:17:28.308305Z",
     "start_time": "2022-07-05T02:17:28.139555Z"
    }
   },
   "outputs": [
    {
     "name": "stdout",
     "output_type": "stream",
     "text": [
      "(1186, 81)\n",
      "(284, 81)\n"
     ]
    }
   ],
   "source": [
    "data_train = pd.read_csv(\"dataset/trainall.csv\")\n",
    "print(data_train.shape)\n",
    "\n",
    "data_test = pd.read_csv(\"dataset/testall.csv\")\n",
    "print(data_test.shape)"
   ]
  },
  {
   "cell_type": "code",
   "execution_count": 4,
   "id": "0a20afed",
   "metadata": {},
   "outputs": [
    {
     "name": "stdout",
     "output_type": "stream",
     "text": [
      "['BP10MB[0]' 'BP10MB[1]' 'BP10MB[2]' 'BP10MB[3]' 'BP10MB[4]' 'BP10MB[5]'\n",
      " 'BP10MB[>5]' 'BPArm[0]' 'BPArm[1]' 'BPArm[2]' 'BPArm[3]' 'BPArm[4]'\n",
      " 'BPArm[5]' 'BPArm[6]' 'BPArm[7]' 'BPArm[8]' 'BPArm[9]' 'BPArm[10]'\n",
      " 'BPArm[>10 & <=20]' 'BPArm[>20 & <=30]' 'BPArm[>30]' 'CN[0]' 'CN[1]'\n",
      " 'CN[2]' 'CN[3]' 'CN[4]' 'CN[>4 & <=8]' 'CN[>8]' 'CNCP[0]' 'CNCP[1]'\n",
      " 'CNCP[2]' 'CNCP[3]' 'CNCP[4]' 'CNCP[>4 & <=8]' 'CNCP[>8]' 'OsCN[0]'\n",
      " 'OsCN[1]' 'OsCN[2]' 'OsCN[3]' 'OsCN[4]' 'OsCN[>4 & <=10]' 'OsCN[>10]'\n",
      " 'SS[<=2]' 'SS[>2 & <=3]' 'SS[>3 & <=4]' 'SS[>4 & <=5]' 'SS[>5 & <=6]'\n",
      " 'SS[>6 & <=7]' 'SS[>7 & <=8]' 'SS[>8]' 'NC50[<=2]' 'NC50[3]' 'NC50[4]'\n",
      " 'NC50[5]' 'NC50[6]' 'NC50[7]' 'NC50[>7]' 'BoChr[1]' 'BoChr[2]' 'BoChr[3]'\n",
      " 'BoChr[4]' 'BoChr[5]' 'BoChr[6]' 'BoChr[7]' 'BoChr[8]' 'BoChr[9]'\n",
      " 'BoChr[10]' 'BoChr[11]' 'BoChr[12]' 'BoChr[13]' 'BoChr[14]' 'BoChr[15]'\n",
      " 'BoChr[16]' 'BoChr[17]' 'BoChr[18]' 'BoChr[19]' 'BoChr[20]' 'BoChr[21]'\n",
      " 'BoChr[22]' 'BoChr[23]' 'type']\n"
     ]
    }
   ],
   "source": [
    "print(data_train.columns.values)"
   ]
  },
  {
   "cell_type": "code",
   "execution_count": 5,
   "id": "627fe080",
   "metadata": {
    "ExecuteTime": {
     "end_time": "2022-07-05T02:19:10.330994Z",
     "start_time": "2022-07-05T02:19:10.317091Z"
    }
   },
   "outputs": [
    {
     "data": {
      "text/plain": [
       "(1186, 80)"
      ]
     },
     "execution_count": 5,
     "metadata": {},
     "output_type": "execute_result"
    }
   ],
   "source": [
    "# 将特征封装成numpy数组  Train\n",
    "label_train = data_train.pop(\"type\")\n",
    "X = np.array(data_train)\n",
    "X.shape"
   ]
  },
  {
   "cell_type": "code",
   "execution_count": 6,
   "id": "9870d262",
   "metadata": {
    "ExecuteTime": {
     "end_time": "2022-07-05T02:38:29.004783Z",
     "start_time": "2022-07-05T02:38:28.993166Z"
    }
   },
   "outputs": [
    {
     "data": {
      "text/plain": [
       "Counter({0: 1081, 1: 105})"
      ]
     },
     "execution_count": 6,
     "metadata": {},
     "output_type": "execute_result"
    }
   ],
   "source": [
    "# 得出训练集的类别比\n",
    "count = Counter(label_train)\n",
    "Counter(label_train)"
   ]
  },
  {
   "cell_type": "code",
   "execution_count": 7,
   "id": "d9678e92",
   "metadata": {
    "ExecuteTime": {
     "end_time": "2022-07-05T02:19:49.508148Z",
     "start_time": "2022-07-05T02:19:49.495645Z"
    }
   },
   "outputs": [
    {
     "data": {
      "text/plain": [
       "(284, 80)"
      ]
     },
     "execution_count": 7,
     "metadata": {},
     "output_type": "execute_result"
    }
   ],
   "source": [
    "# 将特征封装成numpy数组  Test\n",
    "label_test = data_test.pop(\"type\")\n",
    "X_test = np.array(data_test)\n",
    "X_test.shape"
   ]
  },
  {
   "cell_type": "code",
   "execution_count": 8,
   "id": "4a7f1a54",
   "metadata": {
    "ExecuteTime": {
     "end_time": "2022-07-05T02:40:19.528893Z",
     "start_time": "2022-07-05T02:40:19.520545Z"
    }
   },
   "outputs": [
    {
     "name": "stdout",
     "output_type": "stream",
     "text": [
      "positive weight is 22.590476190476192\n",
      "negative weight is 2.1942645698427383\n"
     ]
    }
   ],
   "source": [
    "# 样本不平衡，设置正负样本的权重 (谁的样本少，谁的权重大)\n",
    "w_positive = 2*len(label_train)/count[1]\n",
    "w_negative = 2*len(label_train)/count[0]\n",
    "print(\"positive weight is %s\" % str(w_positive))\n",
    "print(\"negative weight is %s\" % str(w_negative))"
   ]
  },
  {
   "cell_type": "markdown",
   "id": "a86e87d9-c12d-4e54-b33f-259c842eae6e",
   "metadata": {
    "tags": []
   },
   "source": [
    "# 初步验证模型"
   ]
  },
  {
   "cell_type": "code",
   "execution_count": 10,
   "id": "44e3ffb7-94a5-4930-bd6a-c3e3b96d3eee",
   "metadata": {},
   "outputs": [],
   "source": [
    "models = list()\n",
    "# 列出我们想要测试的模型 \n",
    "# random_state=20220706，保证结果的可重复性\n",
    "# 设置正负样本权重--类别权重\n",
    "class_weight = {0:w_negative, 1:w_positive}  \n",
    "\n",
    "# 设置正负样本权重--样本权重，用于GradientBoostingClassifier、XGBClassifier、KNeighborsClassifier\n",
    "w_array = np.array([1.0] * X.shape[0])\n",
    "w_array[label_train == 1] = 22.59\n",
    "w_array[label_train == 0] = 2.19\n",
    "\n",
    "models.append(LogisticRegression(random_state=20220706, class_weight=class_weight,max_iter=15000))  # 逻辑回归\n",
    "models.append(DecisionTreeClassifier(random_state=20220706, class_weight=class_weight,max_features=None))  # 决策树\n",
    "models.append(RandomForestClassifier(random_state=20220706, class_weight=class_weight,max_features=None))  # 随机森林\n",
    "models.append(SVC(random_state=20220706, class_weight=class_weight))                     # 支持向量机\n",
    "models.append(ExtraTreesClassifier(random_state=20220706, class_weight=class_weight,max_features=None))    # 极端随机树\n",
    "models.append(GradientBoostingClassifier(random_state=20220706,max_features=None)) # 梯度提升树\n",
    "models.append(AdaBoostClassifier(DecisionTreeClassifier(random_state=20220706, class_weight=class_weight,max_features=None)))  # 自适应增强\n",
    "models.append(KNeighborsClassifier())   # K近邻算法\n",
    "models.append(XGBClassifier(random_state=20220706,max_features=None))  # xgboost，万能模型"
   ]
  },
  {
   "cell_type": "code",
   "execution_count": 28,
   "id": "ed987280",
   "metadata": {
    "ExecuteTime": {
     "end_time": "2022-07-05T02:28:58.780276Z",
     "start_time": "2022-07-05T02:28:54.677259Z"
    }
   },
   "outputs": [
    {
     "name": "stdout",
     "output_type": "stream",
     "text": [
      "go: LogisticRegression(class_weight={0: 2.1942645698427383, 1: 22.590476190476192},\n",
      "                   max_iter=15000, random_state=20220706)\n"
     ]
    },
    {
     "name": "stderr",
     "output_type": "stream",
     "text": [
      "/home/wjy/miniconda3/envs/jupyter/lib/python3.10/site-packages/sklearn/linear_model/_logistic.py:814: ConvergenceWarning: lbfgs failed to converge (status=1):\n",
      "STOP: TOTAL NO. of f AND g EVALUATIONS EXCEEDS LIMIT.\n",
      "\n",
      "Increase the number of iterations (max_iter) or scale the data as shown in:\n",
      "    https://scikit-learn.org/stable/modules/preprocessing.html\n",
      "Please also refer to the documentation for alternative solver options:\n",
      "    https://scikit-learn.org/stable/modules/linear_model.html#logistic-regression\n",
      "  n_iter_i = _check_optimize_result(\n"
     ]
    },
    {
     "name": "stdout",
     "output_type": "stream",
     "text": [
      "end: LogisticRegression(class_weight={0: 2.1942645698427383, 1: 22.590476190476192},\n",
      "                   max_iter=15000, random_state=20220706)\n",
      "go: DecisionTreeClassifier(class_weight={0: 2.1942645698427383,\n",
      "                                     1: 22.590476190476192},\n",
      "                       random_state=20220706)\n",
      "end: DecisionTreeClassifier(class_weight={0: 2.1942645698427383,\n",
      "                                     1: 22.590476190476192},\n",
      "                       random_state=20220706)\n",
      "go: RandomForestClassifier(class_weight={0: 2.1942645698427383,\n",
      "                                     1: 22.590476190476192},\n",
      "                       max_features=None, random_state=20220706)\n",
      "end: RandomForestClassifier(class_weight={0: 2.1942645698427383,\n",
      "                                     1: 22.590476190476192},\n",
      "                       max_features=None, random_state=20220706)\n",
      "go: SVC(class_weight={0: 2.1942645698427383, 1: 22.590476190476192},\n",
      "    random_state=20220706)\n",
      "end: SVC(class_weight={0: 2.1942645698427383, 1: 22.590476190476192},\n",
      "    random_state=20220706)\n",
      "go: ExtraTreesClassifier(class_weight={0: 2.1942645698427383,\n",
      "                                   1: 22.590476190476192},\n",
      "                     max_features=None, random_state=20220706)\n",
      "end: ExtraTreesClassifier(class_weight={0: 2.1942645698427383,\n",
      "                                   1: 22.590476190476192},\n",
      "                     max_features=None, random_state=20220706)\n",
      "go: GradientBoostingClassifier(random_state=20220706)\n",
      "end GradientBoostingClassifier(random_state=20220706)\n",
      "go: AdaBoostClassifier(base_estimator=DecisionTreeClassifier(class_weight={0: 2.1942645698427383,\n",
      "                                                                       1: 22.590476190476192},\n",
      "                                                         random_state=20220706))\n",
      "end: AdaBoostClassifier(base_estimator=DecisionTreeClassifier(class_weight={0: 2.1942645698427383,\n",
      "                                                                       1: 22.590476190476192},\n",
      "                                                         random_state=20220706))\n",
      "go: KNeighborsClassifier()\n",
      "end: KNeighborsClassifier()\n",
      "go: XGBClassifier(base_score=None, booster=None, colsample_bylevel=None,\n",
      "              colsample_bynode=None, colsample_bytree=None,\n",
      "              enable_categorical=False, gamma=None, gpu_id=None,\n",
      "              importance_type=None, interaction_constraints=None,\n",
      "              learning_rate=None, max_delta_step=None, max_depth=None,\n",
      "              max_features=None, min_child_weight=None, missing=nan,\n",
      "              monotone_constraints=None, n_estimators=100, n_jobs=None,\n",
      "              num_parallel_tree=None, predictor=None, random_state=20220706,\n",
      "              reg_alpha=None, reg_lambda=None, scale_pos_weight=None,\n",
      "              subsample=None, tree_method=None, validate_parameters=None,\n",
      "              verbosity=None)\n"
     ]
    },
    {
     "name": "stderr",
     "output_type": "stream",
     "text": [
      "/home/wjy/miniconda3/envs/jupyter/lib/python3.10/site-packages/xgboost/compat.py:36: FutureWarning: pandas.Int64Index is deprecated and will be removed from pandas in a future version. Use pandas.Index with the appropriate dtype instead.\n",
      "  from pandas import MultiIndex, Int64Index\n",
      "/home/wjy/miniconda3/envs/jupyter/lib/python3.10/site-packages/xgboost/compat.py:36: FutureWarning: pandas.Int64Index is deprecated and will be removed from pandas in a future version. Use pandas.Index with the appropriate dtype instead.\n",
      "  from pandas import MultiIndex, Int64Index\n",
      "/home/wjy/miniconda3/envs/jupyter/lib/python3.10/site-packages/xgboost/compat.py:36: FutureWarning: pandas.Int64Index is deprecated and will be removed from pandas in a future version. Use pandas.Index with the appropriate dtype instead.\n",
      "  from pandas import MultiIndex, Int64Index\n",
      "/home/wjy/miniconda3/envs/jupyter/lib/python3.10/site-packages/xgboost/compat.py:36: FutureWarning: pandas.Int64Index is deprecated and will be removed from pandas in a future version. Use pandas.Index with the appropriate dtype instead.\n",
      "  from pandas import MultiIndex, Int64Index\n",
      "/home/wjy/miniconda3/envs/jupyter/lib/python3.10/site-packages/xgboost/compat.py:36: FutureWarning: pandas.Int64Index is deprecated and will be removed from pandas in a future version. Use pandas.Index with the appropriate dtype instead.\n",
      "  from pandas import MultiIndex, Int64Index\n",
      "/home/wjy/miniconda3/envs/jupyter/lib/python3.10/site-packages/xgboost/compat.py:36: FutureWarning: pandas.Int64Index is deprecated and will be removed from pandas in a future version. Use pandas.Index with the appropriate dtype instead.\n",
      "  from pandas import MultiIndex, Int64Index\n",
      "/home/wjy/miniconda3/envs/jupyter/lib/python3.10/site-packages/xgboost/compat.py:36: FutureWarning: pandas.Int64Index is deprecated and will be removed from pandas in a future version. Use pandas.Index with the appropriate dtype instead.\n",
      "  from pandas import MultiIndex, Int64Index\n",
      "/home/wjy/miniconda3/envs/jupyter/lib/python3.10/site-packages/xgboost/compat.py:36: FutureWarning: pandas.Int64Index is deprecated and will be removed from pandas in a future version. Use pandas.Index with the appropriate dtype instead.\n",
      "  from pandas import MultiIndex, Int64Index\n",
      "/home/wjy/miniconda3/envs/jupyter/lib/python3.10/site-packages/xgboost/compat.py:36: FutureWarning: pandas.Int64Index is deprecated and will be removed from pandas in a future version. Use pandas.Index with the appropriate dtype instead.\n",
      "  from pandas import MultiIndex, Int64Index\n",
      "/home/wjy/miniconda3/envs/jupyter/lib/python3.10/site-packages/xgboost/compat.py:36: FutureWarning: pandas.Int64Index is deprecated and will be removed from pandas in a future version. Use pandas.Index with the appropriate dtype instead.\n",
      "  from pandas import MultiIndex, Int64Index\n",
      "/home/wjy/miniconda3/envs/jupyter/lib/python3.10/site-packages/xgboost/sklearn.py:1224: UserWarning: The use of label encoder in XGBClassifier is deprecated and will be removed in a future release. To remove this warning, do the following: 1) Pass option use_label_encoder=False when constructing XGBClassifier object; and 2) Encode your labels (y) as integers starting with 0, i.e. 0, 1, 2, ..., [num_class - 1].\n",
      "  warnings.warn(label_encoder_deprecation_msg, UserWarning)\n",
      "/home/wjy/miniconda3/envs/jupyter/lib/python3.10/site-packages/xgboost/sklearn.py:1224: UserWarning: The use of label encoder in XGBClassifier is deprecated and will be removed in a future release. To remove this warning, do the following: 1) Pass option use_label_encoder=False when constructing XGBClassifier object; and 2) Encode your labels (y) as integers starting with 0, i.e. 0, 1, 2, ..., [num_class - 1].\n",
      "  warnings.warn(label_encoder_deprecation_msg, UserWarning)\n",
      "/home/wjy/miniconda3/envs/jupyter/lib/python3.10/site-packages/xgboost/sklearn.py:1224: UserWarning: The use of label encoder in XGBClassifier is deprecated and will be removed in a future release. To remove this warning, do the following: 1) Pass option use_label_encoder=False when constructing XGBClassifier object; and 2) Encode your labels (y) as integers starting with 0, i.e. 0, 1, 2, ..., [num_class - 1].\n",
      "  warnings.warn(label_encoder_deprecation_msg, UserWarning)\n",
      "/home/wjy/miniconda3/envs/jupyter/lib/python3.10/site-packages/xgboost/sklearn.py:1224: UserWarning: The use of label encoder in XGBClassifier is deprecated and will be removed in a future release. To remove this warning, do the following: 1) Pass option use_label_encoder=False when constructing XGBClassifier object; and 2) Encode your labels (y) as integers starting with 0, i.e. 0, 1, 2, ..., [num_class - 1].\n",
      "  warnings.warn(label_encoder_deprecation_msg, UserWarning)\n",
      "/home/wjy/miniconda3/envs/jupyter/lib/python3.10/site-packages/xgboost/sklearn.py:1224: UserWarning: The use of label encoder in XGBClassifier is deprecated and will be removed in a future release. To remove this warning, do the following: 1) Pass option use_label_encoder=False when constructing XGBClassifier object; and 2) Encode your labels (y) as integers starting with 0, i.e. 0, 1, 2, ..., [num_class - 1].\n",
      "  warnings.warn(label_encoder_deprecation_msg, UserWarning)\n",
      "/home/wjy/miniconda3/envs/jupyter/lib/python3.10/site-packages/xgboost/sklearn.py:1224: UserWarning: The use of label encoder in XGBClassifier is deprecated and will be removed in a future release. To remove this warning, do the following: 1) Pass option use_label_encoder=False when constructing XGBClassifier object; and 2) Encode your labels (y) as integers starting with 0, i.e. 0, 1, 2, ..., [num_class - 1].\n",
      "  warnings.warn(label_encoder_deprecation_msg, UserWarning)\n",
      "/home/wjy/miniconda3/envs/jupyter/lib/python3.10/site-packages/xgboost/sklearn.py:1224: UserWarning: The use of label encoder in XGBClassifier is deprecated and will be removed in a future release. To remove this warning, do the following: 1) Pass option use_label_encoder=False when constructing XGBClassifier object; and 2) Encode your labels (y) as integers starting with 0, i.e. 0, 1, 2, ..., [num_class - 1].\n",
      "  warnings.warn(label_encoder_deprecation_msg, UserWarning)\n",
      "/home/wjy/miniconda3/envs/jupyter/lib/python3.10/site-packages/xgboost/sklearn.py:1224: UserWarning: The use of label encoder in XGBClassifier is deprecated and will be removed in a future release. To remove this warning, do the following: 1) Pass option use_label_encoder=False when constructing XGBClassifier object; and 2) Encode your labels (y) as integers starting with 0, i.e. 0, 1, 2, ..., [num_class - 1].\n",
      "  warnings.warn(label_encoder_deprecation_msg, UserWarning)\n",
      "/home/wjy/miniconda3/envs/jupyter/lib/python3.10/site-packages/xgboost/sklearn.py:1224: UserWarning: The use of label encoder in XGBClassifier is deprecated and will be removed in a future release. To remove this warning, do the following: 1) Pass option use_label_encoder=False when constructing XGBClassifier object; and 2) Encode your labels (y) as integers starting with 0, i.e. 0, 1, 2, ..., [num_class - 1].\n",
      "  warnings.warn(label_encoder_deprecation_msg, UserWarning)\n",
      "/home/wjy/miniconda3/envs/jupyter/lib/python3.10/site-packages/xgboost/sklearn.py:1224: UserWarning: The use of label encoder in XGBClassifier is deprecated and will be removed in a future release. To remove this warning, do the following: 1) Pass option use_label_encoder=False when constructing XGBClassifier object; and 2) Encode your labels (y) as integers starting with 0, i.e. 0, 1, 2, ..., [num_class - 1].\n",
      "  warnings.warn(label_encoder_deprecation_msg, UserWarning)\n"
     ]
    },
    {
     "name": "stdout",
     "output_type": "stream",
     "text": [
      "end XGBClassifier(base_score=None, booster=None, colsample_bylevel=None,\n",
      "              colsample_bynode=None, colsample_bytree=None,\n",
      "              enable_categorical=False, gamma=None, gpu_id=None,\n",
      "              importance_type=None, interaction_constraints=None,\n",
      "              learning_rate=None, max_delta_step=None, max_depth=None,\n",
      "              max_features=None, min_child_weight=None, missing=nan,\n",
      "              monotone_constraints=None, n_estimators=100, n_jobs=None,\n",
      "              num_parallel_tree=None, predictor=None, random_state=20220706,\n",
      "              reg_alpha=None, reg_lambda=None, scale_pos_weight=None,\n",
      "              subsample=None, tree_method=None, validate_parameters=None,\n",
      "              verbosity=None)\n"
     ]
    }
   ],
   "source": [
    "kfold = StratifiedKFold(n_splits = 10)   # 10折交叉验证\n",
    "\n",
    "pred_results = []\n",
    "pred_names = []\n",
    "\n",
    "# 模型先不设最优参数，使用默认参数试一下\n",
    "# 此举目的在于测试模型\n",
    "# 注意，模型在训练集上训练并测试！！！并不代表测试集的结果\n",
    "for model in models:   # 将之前保存的模型逐个取出\n",
    "    \n",
    "    if model.__class__.__name__ not in ['GradientBoostingClassifier', 'XGBClassifier']:\n",
    "        \n",
    "        print(\"go:\", model)  # 模型开始\n",
    "        \n",
    "        pred_results.append(cross_val_score(model, \n",
    "                                  X, \n",
    "                                  label_train, \n",
    "                                  scoring = \"roc_auc\", \n",
    "                                  cv = kfold, n_jobs=15)  # 开15个线程加快进度\n",
    "                           )  # 以roc_auc作为评估模型的标准\n",
    "\n",
    "        pred_names.append(model.__class__.__name__)  # 保存每个模型的name\n",
    "\n",
    "        print(\"end:\", model)  # 模型结束\n",
    "    else:\n",
    "        print(\"go:\", model)\n",
    "        \n",
    "        pred_results.append(cross_val_score(model, \n",
    "                          X, \n",
    "                          y = label_train, \n",
    "                          scoring = \"roc_auc\", \n",
    "                          cv = kfold, n_jobs=15, fit_params={'sample_weight': w_array})  # 开15个线程加快进度\n",
    "                   )  # 以roc_auc作为评估模型的标准\n",
    "\n",
    "        pred_names.append(model.__class__.__name__)  # 保存每个模型的name\n",
    "        \n",
    "        print(\"end\", model)\n",
    "\n",
    "pred_means = []\n",
    "pred_std = []\n",
    "\n",
    "for pred_result in pred_results:  # 10折交叉验证，每个模型重复训练10次，有10个accuracy，我们取个平均\n",
    "    pred_means.append(pred_result.mean())\n",
    "    pred_std.append(pred_result.std())\n",
    "    \n",
    "pred_res = pd.DataFrame({\"CrossValMeans\":pred_means,\n",
    "                         \"CrossValerrors\": pred_std,\n",
    "                         \"Algorithm\":pred_names})\n",
    "\n",
    "\n"
   ]
  },
  {
   "cell_type": "code",
   "execution_count": 29,
   "id": "d278ec49",
   "metadata": {
    "ExecuteTime": {
     "end_time": "2022-07-05T02:29:05.270257Z",
     "start_time": "2022-07-05T02:29:05.260807Z"
    },
    "scrolled": true
   },
   "outputs": [
    {
     "data": {
      "text/plain": [
       "['LogisticRegression',\n",
       " 'DecisionTreeClassifier',\n",
       " 'RandomForestClassifier',\n",
       " 'SVC',\n",
       " 'ExtraTreesClassifier',\n",
       " 'GradientBoostingClassifier',\n",
       " 'AdaBoostClassifier',\n",
       " 'KNeighborsClassifier',\n",
       " 'XGBClassifier']"
      ]
     },
     "execution_count": 29,
     "metadata": {},
     "output_type": "execute_result"
    }
   ],
   "source": [
    "# 列出模型的名称\n",
    "pred_names"
   ]
  },
  {
   "cell_type": "code",
   "execution_count": 30,
   "id": "b51c95c9",
   "metadata": {
    "ExecuteTime": {
     "end_time": "2022-07-05T02:29:08.342010Z",
     "start_time": "2022-07-05T02:29:08.317815Z"
    }
   },
   "outputs": [
    {
     "data": {
      "text/html": [
       "<div>\n",
       "<style scoped>\n",
       "    .dataframe tbody tr th:only-of-type {\n",
       "        vertical-align: middle;\n",
       "    }\n",
       "\n",
       "    .dataframe tbody tr th {\n",
       "        vertical-align: top;\n",
       "    }\n",
       "\n",
       "    .dataframe thead th {\n",
       "        text-align: right;\n",
       "    }\n",
       "</style>\n",
       "<table border=\"1\" class=\"dataframe\">\n",
       "  <thead>\n",
       "    <tr style=\"text-align: right;\">\n",
       "      <th></th>\n",
       "      <th>CrossValMeans</th>\n",
       "      <th>CrossValerrors</th>\n",
       "      <th>Algorithm</th>\n",
       "    </tr>\n",
       "  </thead>\n",
       "  <tbody>\n",
       "    <tr>\n",
       "      <th>0</th>\n",
       "      <td>0.988278</td>\n",
       "      <td>0.012915</td>\n",
       "      <td>SVC</td>\n",
       "    </tr>\n",
       "    <tr>\n",
       "      <th>1</th>\n",
       "      <td>0.986604</td>\n",
       "      <td>0.017046</td>\n",
       "      <td>XGBClassifier</td>\n",
       "    </tr>\n",
       "    <tr>\n",
       "      <th>2</th>\n",
       "      <td>0.971882</td>\n",
       "      <td>0.044848</td>\n",
       "      <td>GradientBoostingClassifier</td>\n",
       "    </tr>\n",
       "    <tr>\n",
       "      <th>3</th>\n",
       "      <td>0.971571</td>\n",
       "      <td>0.024901</td>\n",
       "      <td>ExtraTreesClassifier</td>\n",
       "    </tr>\n",
       "    <tr>\n",
       "      <th>4</th>\n",
       "      <td>0.964679</td>\n",
       "      <td>0.034977</td>\n",
       "      <td>RandomForestClassifier</td>\n",
       "    </tr>\n",
       "    <tr>\n",
       "      <th>5</th>\n",
       "      <td>0.959659</td>\n",
       "      <td>0.022608</td>\n",
       "      <td>KNeighborsClassifier</td>\n",
       "    </tr>\n",
       "    <tr>\n",
       "      <th>6</th>\n",
       "      <td>0.937380</td>\n",
       "      <td>0.038835</td>\n",
       "      <td>LogisticRegression</td>\n",
       "    </tr>\n",
       "    <tr>\n",
       "      <th>7</th>\n",
       "      <td>0.798279</td>\n",
       "      <td>0.094721</td>\n",
       "      <td>AdaBoostClassifier</td>\n",
       "    </tr>\n",
       "    <tr>\n",
       "      <th>8</th>\n",
       "      <td>0.783654</td>\n",
       "      <td>0.085213</td>\n",
       "      <td>DecisionTreeClassifier</td>\n",
       "    </tr>\n",
       "  </tbody>\n",
       "</table>\n",
       "</div>"
      ],
      "text/plain": [
       "   CrossValMeans  CrossValerrors                   Algorithm\n",
       "0       0.988278        0.012915                         SVC\n",
       "1       0.986604        0.017046               XGBClassifier\n",
       "2       0.971882        0.044848  GradientBoostingClassifier\n",
       "3       0.971571        0.024901        ExtraTreesClassifier\n",
       "4       0.964679        0.034977      RandomForestClassifier\n",
       "5       0.959659        0.022608        KNeighborsClassifier\n",
       "6       0.937380        0.038835          LogisticRegression\n",
       "7       0.798279        0.094721          AdaBoostClassifier\n",
       "8       0.783654        0.085213      DecisionTreeClassifier"
      ]
     },
     "execution_count": 30,
     "metadata": {},
     "output_type": "execute_result"
    }
   ],
   "source": [
    "# 展示结果\n",
    "pred_res.sort_values(by='CrossValMeans', ascending = False, ignore_index=True)\n"
   ]
  },
  {
   "cell_type": "code",
   "execution_count": 31,
   "id": "ca003a69",
   "metadata": {},
   "outputs": [],
   "source": [
    "pred_res=pred_res.sort_values(by='CrossValMeans', ascending = False, ignore_index=True)"
   ]
  },
  {
   "cell_type": "code",
   "execution_count": 33,
   "id": "76e4d1ed",
   "metadata": {},
   "outputs": [
    {
     "name": "stderr",
     "output_type": "stream",
     "text": [
      "/home/wjy/miniconda3/envs/jupyter/lib/python3.10/site-packages/seaborn/_decorators.py:36: FutureWarning: Pass the following variables as keyword args: x, y. From version 0.12, the only valid positional argument will be `data`, and passing other arguments without an explicit keyword will result in an error or misinterpretation.\n",
      "  warnings.warn(\n",
      "findfont: Font family ['Arial'] not found. Falling back to DejaVu Sans.\n",
      "findfont: Font family ['Arial'] not found. Falling back to DejaVu Sans.\n"
     ]
    },
    {
     "data": {
      "image/png": "[encoded data removed]",
      "text/plain": [
       "<Figure size 864x720 with 1 Axes>"
      ]
     },
     "metadata": {
      "needs_background": "light"
     },
     "output_type": "display_data"
    }
   ],
   "source": [
    "plt.rcParams.update({'font.family':'Arial'})\n",
    "g = sns.barplot(\"CrossValMeans\",\"Algorithm\",\n",
    "                data = pred_res,\n",
    "                orient = \"h\"\n",
    "                ,**{'xerr':pred_std},\n",
    "               palette=\"Set3\")\n",
    "g.set_xlabel(\"10-fold Average Accuracy\")\n",
    "g = g.set_title(\"K-fold Cross validation average AUC\")\n"
   ]
  },
  {
   "cell_type": "markdown",
   "id": "1fd7e7eb",
   "metadata": {
    "tags": []
   },
   "source": [
    "# 对模型的超参数进行优化"
   ]
  },
  {
   "cell_type": "markdown",
   "id": "605ef734",
   "metadata": {},
   "source": [
    "Select all algorithms previous trained in order to perform hyper-parameters optimization:\n",
    "* LogisticRegression\n",
    "* DecisionTreeClassifier\n",
    "* RandomForestClassifier\n",
    "* SVC\n",
    "* ExtraTreesClassifier\n",
    "* GradientBoostingClassifier\n",
    "* AdaBoostClassifier\n",
    "* KNeighborsClassifier\n",
    "* XGBClassifier"
   ]
  },
  {
   "cell_type": "code",
   "execution_count": 34,
   "id": "45af0350",
   "metadata": {
    "ExecuteTime": {
     "end_time": "2022-07-05T02:30:02.083316Z",
     "start_time": "2022-07-05T02:30:01.359010Z"
    }
   },
   "outputs": [
    {
     "data": {
      "text/plain": [
       "6100"
      ]
     },
     "execution_count": 34,
     "metadata": {},
     "output_type": "execute_result"
    }
   ],
   "source": [
    "# 内存回收\n",
    "gc.collect()"
   ]
  },
  {
   "cell_type": "markdown",
   "id": "4da0ef42-499b-4bbc-a692-08cf3306bf29",
   "metadata": {
    "tags": []
   },
   "source": [
    "# Logistic Regression 调优"
   ]
  },
  {
   "cell_type": "code",
   "execution_count": 13,
   "id": "c2f4743c",
   "metadata": {
    "ExecuteTime": {
     "end_time": "2022-07-05T03:02:48.770585Z",
     "start_time": "2022-07-05T02:58:49.527051Z"
    },
    "scrolled": true
   },
   "outputs": [
    {
     "name": "stdout",
     "output_type": "stream",
     "text": [
      "Fitting 10 folds for each of 50 candidates, totalling 500 fits\n"
     ]
    },
    {
     "name": "stderr",
     "output_type": "stream",
     "text": [
      "/home/wjy/miniconda3/envs/jupyter/lib/python3.10/site-packages/sklearn/linear_model/_logistic.py:814: ConvergenceWarning: lbfgs failed to converge (status=1):\n",
      "STOP: TOTAL NO. of f AND g EVALUATIONS EXCEEDS LIMIT.\n",
      "\n",
      "Increase the number of iterations (max_iter) or scale the data as shown in:\n",
      "    https://scikit-learn.org/stable/modules/preprocessing.html\n",
      "Please also refer to the documentation for alternative solver options:\n",
      "    https://scikit-learn.org/stable/modules/linear_model.html#logistic-regression\n",
      "  n_iter_i = _check_optimize_result(\n",
      "/home/wjy/miniconda3/envs/jupyter/lib/python3.10/site-packages/sklearn/linear_model/_logistic.py:814: ConvergenceWarning: lbfgs failed to converge (status=1):\n",
      "STOP: TOTAL NO. of f AND g EVALUATIONS EXCEEDS LIMIT.\n",
      "\n",
      "Increase the number of iterations (max_iter) or scale the data as shown in:\n",
      "    https://scikit-learn.org/stable/modules/preprocessing.html\n",
      "Please also refer to the documentation for alternative solver options:\n",
      "    https://scikit-learn.org/stable/modules/linear_model.html#logistic-regression\n",
      "  n_iter_i = _check_optimize_result(\n",
      "/home/wjy/miniconda3/envs/jupyter/lib/python3.10/site-packages/sklearn/linear_model/_logistic.py:814: ConvergenceWarning: lbfgs failed to converge (status=1):\n",
      "STOP: TOTAL NO. of f AND g EVALUATIONS EXCEEDS LIMIT.\n",
      "\n",
      "Increase the number of iterations (max_iter) or scale the data as shown in:\n",
      "    https://scikit-learn.org/stable/modules/preprocessing.html\n",
      "Please also refer to the documentation for alternative solver options:\n",
      "    https://scikit-learn.org/stable/modules/linear_model.html#logistic-regression\n",
      "  n_iter_i = _check_optimize_result(\n",
      "/home/wjy/miniconda3/envs/jupyter/lib/python3.10/site-packages/sklearn/linear_model/_logistic.py:814: ConvergenceWarning: lbfgs failed to converge (status=1):\n",
      "STOP: TOTAL NO. of f AND g EVALUATIONS EXCEEDS LIMIT.\n",
      "\n",
      "Increase the number of iterations (max_iter) or scale the data as shown in:\n",
      "    https://scikit-learn.org/stable/modules/preprocessing.html\n",
      "Please also refer to the documentation for alternative solver options:\n",
      "    https://scikit-learn.org/stable/modules/linear_model.html#logistic-regression\n",
      "  n_iter_i = _check_optimize_result(\n",
      "/home/wjy/miniconda3/envs/jupyter/lib/python3.10/site-packages/sklearn/linear_model/_logistic.py:814: ConvergenceWarning: lbfgs failed to converge (status=1):\n",
      "STOP: TOTAL NO. of f AND g EVALUATIONS EXCEEDS LIMIT.\n",
      "\n",
      "Increase the number of iterations (max_iter) or scale the data as shown in:\n",
      "    https://scikit-learn.org/stable/modules/preprocessing.html\n",
      "Please also refer to the documentation for alternative solver options:\n",
      "    https://scikit-learn.org/stable/modules/linear_model.html#logistic-regression\n",
      "  n_iter_i = _check_optimize_result(\n",
      "/home/wjy/miniconda3/envs/jupyter/lib/python3.10/site-packages/sklearn/linear_model/_logistic.py:814: ConvergenceWarning: lbfgs failed to converge (status=1):\n",
      "STOP: TOTAL NO. of f AND g EVALUATIONS EXCEEDS LIMIT.\n",
      "\n",
      "Increase the number of iterations (max_iter) or scale the data as shown in:\n",
      "    https://scikit-learn.org/stable/modules/preprocessing.html\n",
      "Please also refer to the documentation for alternative solver options:\n",
      "    https://scikit-learn.org/stable/modules/linear_model.html#logistic-regression\n",
      "  n_iter_i = _check_optimize_result(\n",
      "/home/wjy/miniconda3/envs/jupyter/lib/python3.10/site-packages/sklearn/linear_model/_logistic.py:814: ConvergenceWarning: lbfgs failed to converge (status=1):\n",
      "STOP: TOTAL NO. of f AND g EVALUATIONS EXCEEDS LIMIT.\n",
      "\n",
      "Increase the number of iterations (max_iter) or scale the data as shown in:\n",
      "    https://scikit-learn.org/stable/modules/preprocessing.html\n",
      "Please also refer to the documentation for alternative solver options:\n",
      "    https://scikit-learn.org/stable/modules/linear_model.html#logistic-regression\n",
      "  n_iter_i = _check_optimize_result(\n",
      "/home/wjy/miniconda3/envs/jupyter/lib/python3.10/site-packages/sklearn/linear_model/_logistic.py:814: ConvergenceWarning: lbfgs failed to converge (status=1):\n",
      "STOP: TOTAL NO. of f AND g EVALUATIONS EXCEEDS LIMIT.\n",
      "\n",
      "Increase the number of iterations (max_iter) or scale the data as shown in:\n",
      "    https://scikit-learn.org/stable/modules/preprocessing.html\n",
      "Please also refer to the documentation for alternative solver options:\n",
      "    https://scikit-learn.org/stable/modules/linear_model.html#logistic-regression\n",
      "  n_iter_i = _check_optimize_result(\n",
      "/home/wjy/miniconda3/envs/jupyter/lib/python3.10/site-packages/sklearn/linear_model/_logistic.py:814: ConvergenceWarning: lbfgs failed to converge (status=1):\n",
      "STOP: TOTAL NO. of f AND g EVALUATIONS EXCEEDS LIMIT.\n",
      "\n",
      "Increase the number of iterations (max_iter) or scale the data as shown in:\n",
      "    https://scikit-learn.org/stable/modules/preprocessing.html\n",
      "Please also refer to the documentation for alternative solver options:\n",
      "    https://scikit-learn.org/stable/modules/linear_model.html#logistic-regression\n",
      "  n_iter_i = _check_optimize_result(\n",
      "/home/wjy/miniconda3/envs/jupyter/lib/python3.10/site-packages/sklearn/linear_model/_logistic.py:814: ConvergenceWarning: lbfgs failed to converge (status=1):\n",
      "STOP: TOTAL NO. of f AND g EVALUATIONS EXCEEDS LIMIT.\n",
      "\n",
      "Increase the number of iterations (max_iter) or scale the data as shown in:\n",
      "    https://scikit-learn.org/stable/modules/preprocessing.html\n",
      "Please also refer to the documentation for alternative solver options:\n",
      "    https://scikit-learn.org/stable/modules/linear_model.html#logistic-regression\n",
      "  n_iter_i = _check_optimize_result(\n",
      "/home/wjy/miniconda3/envs/jupyter/lib/python3.10/site-packages/sklearn/linear_model/_logistic.py:814: ConvergenceWarning: lbfgs failed to converge (status=1):\n",
      "STOP: TOTAL NO. of f AND g EVALUATIONS EXCEEDS LIMIT.\n",
      "\n",
      "Increase the number of iterations (max_iter) or scale the data as shown in:\n",
      "    https://scikit-learn.org/stable/modules/preprocessing.html\n",
      "Please also refer to the documentation for alternative solver options:\n",
      "    https://scikit-learn.org/stable/modules/linear_model.html#logistic-regression\n",
      "  n_iter_i = _check_optimize_result(\n",
      "/home/wjy/miniconda3/envs/jupyter/lib/python3.10/site-packages/sklearn/linear_model/_logistic.py:814: ConvergenceWarning: lbfgs failed to converge (status=1):\n",
      "STOP: TOTAL NO. of f AND g EVALUATIONS EXCEEDS LIMIT.\n",
      "\n",
      "Increase the number of iterations (max_iter) or scale the data as shown in:\n",
      "    https://scikit-learn.org/stable/modules/preprocessing.html\n",
      "Please also refer to the documentation for alternative solver options:\n",
      "    https://scikit-learn.org/stable/modules/linear_model.html#logistic-regression\n",
      "  n_iter_i = _check_optimize_result(\n",
      "/home/wjy/miniconda3/envs/jupyter/lib/python3.10/site-packages/sklearn/linear_model/_logistic.py:814: ConvergenceWarning: lbfgs failed to converge (status=1):\n",
      "STOP: TOTAL NO. of f AND g EVALUATIONS EXCEEDS LIMIT.\n",
      "\n",
      "Increase the number of iterations (max_iter) or scale the data as shown in:\n",
      "    https://scikit-learn.org/stable/modules/preprocessing.html\n",
      "Please also refer to the documentation for alternative solver options:\n",
      "    https://scikit-learn.org/stable/modules/linear_model.html#logistic-regression\n",
      "  n_iter_i = _check_optimize_result(\n",
      "/home/wjy/miniconda3/envs/jupyter/lib/python3.10/site-packages/sklearn/linear_model/_logistic.py:814: ConvergenceWarning: lbfgs failed to converge (status=1):\n",
      "STOP: TOTAL NO. of f AND g EVALUATIONS EXCEEDS LIMIT.\n",
      "\n",
      "Increase the number of iterations (max_iter) or scale the data as shown in:\n",
      "    https://scikit-learn.org/stable/modules/preprocessing.html\n",
      "Please also refer to the documentation for alternative solver options:\n",
      "    https://scikit-learn.org/stable/modules/linear_model.html#logistic-regression\n",
      "  n_iter_i = _check_optimize_result(\n",
      "/home/wjy/miniconda3/envs/jupyter/lib/python3.10/site-packages/sklearn/linear_model/_logistic.py:814: ConvergenceWarning: lbfgs failed to converge (status=1):\n",
      "STOP: TOTAL NO. of f AND g EVALUATIONS EXCEEDS LIMIT.\n",
      "\n",
      "Increase the number of iterations (max_iter) or scale the data as shown in:\n",
      "    https://scikit-learn.org/stable/modules/preprocessing.html\n",
      "Please also refer to the documentation for alternative solver options:\n",
      "    https://scikit-learn.org/stable/modules/linear_model.html#logistic-regression\n",
      "  n_iter_i = _check_optimize_result(\n",
      "/home/wjy/miniconda3/envs/jupyter/lib/python3.10/site-packages/sklearn/linear_model/_logistic.py:814: ConvergenceWarning: lbfgs failed to converge (status=1):\n",
      "STOP: TOTAL NO. of f AND g EVALUATIONS EXCEEDS LIMIT.\n",
      "\n",
      "Increase the number of iterations (max_iter) or scale the data as shown in:\n",
      "    https://scikit-learn.org/stable/modules/preprocessing.html\n",
      "Please also refer to the documentation for alternative solver options:\n",
      "    https://scikit-learn.org/stable/modules/linear_model.html#logistic-regression\n",
      "  n_iter_i = _check_optimize_result(\n"
     ]
    },
    {
     "name": "stderr",
     "output_type": "stream",
     "text": [
      "/home/wjy/miniconda3/envs/jupyter/lib/python3.10/site-packages/sklearn/linear_model/_logistic.py:814: ConvergenceWarning: lbfgs failed to converge (status=1):\n",
      "STOP: TOTAL NO. of f AND g EVALUATIONS EXCEEDS LIMIT.\n",
      "\n",
      "Increase the number of iterations (max_iter) or scale the data as shown in:\n",
      "    https://scikit-learn.org/stable/modules/preprocessing.html\n",
      "Please also refer to the documentation for alternative solver options:\n",
      "    https://scikit-learn.org/stable/modules/linear_model.html#logistic-regression\n",
      "  n_iter_i = _check_optimize_result(\n",
      "/home/wjy/miniconda3/envs/jupyter/lib/python3.10/site-packages/sklearn/linear_model/_logistic.py:814: ConvergenceWarning: lbfgs failed to converge (status=1):\n",
      "STOP: TOTAL NO. of f AND g EVALUATIONS EXCEEDS LIMIT.\n",
      "\n",
      "Increase the number of iterations (max_iter) or scale the data as shown in:\n",
      "    https://scikit-learn.org/stable/modules/preprocessing.html\n",
      "Please also refer to the documentation for alternative solver options:\n",
      "    https://scikit-learn.org/stable/modules/linear_model.html#logistic-regression\n",
      "  n_iter_i = _check_optimize_result(\n",
      "/home/wjy/miniconda3/envs/jupyter/lib/python3.10/site-packages/sklearn/linear_model/_logistic.py:814: ConvergenceWarning: lbfgs failed to converge (status=1):\n",
      "STOP: TOTAL NO. of f AND g EVALUATIONS EXCEEDS LIMIT.\n",
      "\n",
      "Increase the number of iterations (max_iter) or scale the data as shown in:\n",
      "    https://scikit-learn.org/stable/modules/preprocessing.html\n",
      "Please also refer to the documentation for alternative solver options:\n",
      "    https://scikit-learn.org/stable/modules/linear_model.html#logistic-regression\n",
      "  n_iter_i = _check_optimize_result(\n",
      "/home/wjy/miniconda3/envs/jupyter/lib/python3.10/site-packages/sklearn/linear_model/_logistic.py:814: ConvergenceWarning: lbfgs failed to converge (status=1):\n",
      "STOP: TOTAL NO. of f AND g EVALUATIONS EXCEEDS LIMIT.\n",
      "\n",
      "Increase the number of iterations (max_iter) or scale the data as shown in:\n",
      "    https://scikit-learn.org/stable/modules/preprocessing.html\n",
      "Please also refer to the documentation for alternative solver options:\n",
      "    https://scikit-learn.org/stable/modules/linear_model.html#logistic-regression\n",
      "  n_iter_i = _check_optimize_result(\n",
      "/home/wjy/miniconda3/envs/jupyter/lib/python3.10/site-packages/sklearn/linear_model/_logistic.py:814: ConvergenceWarning: lbfgs failed to converge (status=1):\n",
      "STOP: TOTAL NO. of f AND g EVALUATIONS EXCEEDS LIMIT.\n",
      "\n",
      "Increase the number of iterations (max_iter) or scale the data as shown in:\n",
      "    https://scikit-learn.org/stable/modules/preprocessing.html\n",
      "Please also refer to the documentation for alternative solver options:\n",
      "    https://scikit-learn.org/stable/modules/linear_model.html#logistic-regression\n",
      "  n_iter_i = _check_optimize_result(\n",
      "/home/wjy/miniconda3/envs/jupyter/lib/python3.10/site-packages/sklearn/linear_model/_logistic.py:814: ConvergenceWarning: lbfgs failed to converge (status=1):\n",
      "STOP: TOTAL NO. of f AND g EVALUATIONS EXCEEDS LIMIT.\n",
      "\n",
      "Increase the number of iterations (max_iter) or scale the data as shown in:\n",
      "    https://scikit-learn.org/stable/modules/preprocessing.html\n",
      "Please also refer to the documentation for alternative solver options:\n",
      "    https://scikit-learn.org/stable/modules/linear_model.html#logistic-regression\n",
      "  n_iter_i = _check_optimize_result(\n",
      "/home/wjy/miniconda3/envs/jupyter/lib/python3.10/site-packages/sklearn/linear_model/_logistic.py:814: ConvergenceWarning: lbfgs failed to converge (status=1):\n",
      "STOP: TOTAL NO. of f AND g EVALUATIONS EXCEEDS LIMIT.\n",
      "\n",
      "Increase the number of iterations (max_iter) or scale the data as shown in:\n",
      "    https://scikit-learn.org/stable/modules/preprocessing.html\n",
      "Please also refer to the documentation for alternative solver options:\n",
      "    https://scikit-learn.org/stable/modules/linear_model.html#logistic-regression\n",
      "  n_iter_i = _check_optimize_result(\n",
      "/home/wjy/miniconda3/envs/jupyter/lib/python3.10/site-packages/sklearn/linear_model/_logistic.py:814: ConvergenceWarning: lbfgs failed to converge (status=1):\n",
      "STOP: TOTAL NO. of f AND g EVALUATIONS EXCEEDS LIMIT.\n",
      "\n",
      "Increase the number of iterations (max_iter) or scale the data as shown in:\n",
      "    https://scikit-learn.org/stable/modules/preprocessing.html\n",
      "Please also refer to the documentation for alternative solver options:\n",
      "    https://scikit-learn.org/stable/modules/linear_model.html#logistic-regression\n",
      "  n_iter_i = _check_optimize_result(\n",
      "/home/wjy/miniconda3/envs/jupyter/lib/python3.10/site-packages/sklearn/linear_model/_logistic.py:814: ConvergenceWarning: lbfgs failed to converge (status=1):\n",
      "STOP: TOTAL NO. of f AND g EVALUATIONS EXCEEDS LIMIT.\n",
      "\n",
      "Increase the number of iterations (max_iter) or scale the data as shown in:\n",
      "    https://scikit-learn.org/stable/modules/preprocessing.html\n",
      "Please also refer to the documentation for alternative solver options:\n",
      "    https://scikit-learn.org/stable/modules/linear_model.html#logistic-regression\n",
      "  n_iter_i = _check_optimize_result(\n",
      "/home/wjy/miniconda3/envs/jupyter/lib/python3.10/site-packages/sklearn/linear_model/_logistic.py:814: ConvergenceWarning: lbfgs failed to converge (status=1):\n",
      "STOP: TOTAL NO. of f AND g EVALUATIONS EXCEEDS LIMIT.\n",
      "\n",
      "Increase the number of iterations (max_iter) or scale the data as shown in:\n",
      "    https://scikit-learn.org/stable/modules/preprocessing.html\n",
      "Please also refer to the documentation for alternative solver options:\n",
      "    https://scikit-learn.org/stable/modules/linear_model.html#logistic-regression\n",
      "  n_iter_i = _check_optimize_result(\n",
      "/home/wjy/miniconda3/envs/jupyter/lib/python3.10/site-packages/sklearn/linear_model/_logistic.py:814: ConvergenceWarning: lbfgs failed to converge (status=1):\n",
      "STOP: TOTAL NO. of f AND g EVALUATIONS EXCEEDS LIMIT.\n",
      "\n",
      "Increase the number of iterations (max_iter) or scale the data as shown in:\n",
      "    https://scikit-learn.org/stable/modules/preprocessing.html\n",
      "Please also refer to the documentation for alternative solver options:\n",
      "    https://scikit-learn.org/stable/modules/linear_model.html#logistic-regression\n",
      "  n_iter_i = _check_optimize_result(\n",
      "/home/wjy/miniconda3/envs/jupyter/lib/python3.10/site-packages/sklearn/linear_model/_logistic.py:814: ConvergenceWarning: lbfgs failed to converge (status=1):\n",
      "STOP: TOTAL NO. of f AND g EVALUATIONS EXCEEDS LIMIT.\n",
      "\n",
      "Increase the number of iterations (max_iter) or scale the data as shown in:\n",
      "    https://scikit-learn.org/stable/modules/preprocessing.html\n",
      "Please also refer to the documentation for alternative solver options:\n",
      "    https://scikit-learn.org/stable/modules/linear_model.html#logistic-regression\n",
      "  n_iter_i = _check_optimize_result(\n",
      "/home/wjy/miniconda3/envs/jupyter/lib/python3.10/site-packages/sklearn/linear_model/_logistic.py:814: ConvergenceWarning: lbfgs failed to converge (status=1):\n",
      "STOP: TOTAL NO. of f AND g EVALUATIONS EXCEEDS LIMIT.\n",
      "\n",
      "Increase the number of iterations (max_iter) or scale the data as shown in:\n",
      "    https://scikit-learn.org/stable/modules/preprocessing.html\n",
      "Please also refer to the documentation for alternative solver options:\n",
      "    https://scikit-learn.org/stable/modules/linear_model.html#logistic-regression\n",
      "  n_iter_i = _check_optimize_result(\n",
      "/home/wjy/miniconda3/envs/jupyter/lib/python3.10/site-packages/sklearn/linear_model/_logistic.py:814: ConvergenceWarning: lbfgs failed to converge (status=1):\n",
      "STOP: TOTAL NO. of f AND g EVALUATIONS EXCEEDS LIMIT.\n",
      "\n",
      "Increase the number of iterations (max_iter) or scale the data as shown in:\n",
      "    https://scikit-learn.org/stable/modules/preprocessing.html\n",
      "Please also refer to the documentation for alternative solver options:\n",
      "    https://scikit-learn.org/stable/modules/linear_model.html#logistic-regression\n",
      "  n_iter_i = _check_optimize_result(\n",
      "/home/wjy/miniconda3/envs/jupyter/lib/python3.10/site-packages/sklearn/linear_model/_logistic.py:814: ConvergenceWarning: lbfgs failed to converge (status=1):\n",
      "STOP: TOTAL NO. of f AND g EVALUATIONS EXCEEDS LIMIT.\n",
      "\n",
      "Increase the number of iterations (max_iter) or scale the data as shown in:\n",
      "    https://scikit-learn.org/stable/modules/preprocessing.html\n",
      "Please also refer to the documentation for alternative solver options:\n",
      "    https://scikit-learn.org/stable/modules/linear_model.html#logistic-regression\n",
      "  n_iter_i = _check_optimize_result(\n",
      "/home/wjy/miniconda3/envs/jupyter/lib/python3.10/site-packages/sklearn/linear_model/_logistic.py:814: ConvergenceWarning: lbfgs failed to converge (status=1):\n",
      "STOP: TOTAL NO. of f AND g EVALUATIONS EXCEEDS LIMIT.\n",
      "\n",
      "Increase the number of iterations (max_iter) or scale the data as shown in:\n",
      "    https://scikit-learn.org/stable/modules/preprocessing.html\n",
      "Please also refer to the documentation for alternative solver options:\n",
      "    https://scikit-learn.org/stable/modules/linear_model.html#logistic-regression\n",
      "  n_iter_i = _check_optimize_result(\n"
     ]
    },
    {
     "name": "stderr",
     "output_type": "stream",
     "text": [
      "/home/wjy/miniconda3/envs/jupyter/lib/python3.10/site-packages/sklearn/linear_model/_logistic.py:814: ConvergenceWarning: lbfgs failed to converge (status=1):\n",
      "STOP: TOTAL NO. of f AND g EVALUATIONS EXCEEDS LIMIT.\n",
      "\n",
      "Increase the number of iterations (max_iter) or scale the data as shown in:\n",
      "    https://scikit-learn.org/stable/modules/preprocessing.html\n",
      "Please also refer to the documentation for alternative solver options:\n",
      "    https://scikit-learn.org/stable/modules/linear_model.html#logistic-regression\n",
      "  n_iter_i = _check_optimize_result(\n",
      "/home/wjy/miniconda3/envs/jupyter/lib/python3.10/site-packages/sklearn/linear_model/_logistic.py:814: ConvergenceWarning: lbfgs failed to converge (status=1):\n",
      "STOP: TOTAL NO. of f AND g EVALUATIONS EXCEEDS LIMIT.\n",
      "\n",
      "Increase the number of iterations (max_iter) or scale the data as shown in:\n",
      "    https://scikit-learn.org/stable/modules/preprocessing.html\n",
      "Please also refer to the documentation for alternative solver options:\n",
      "    https://scikit-learn.org/stable/modules/linear_model.html#logistic-regression\n",
      "  n_iter_i = _check_optimize_result(\n",
      "/home/wjy/miniconda3/envs/jupyter/lib/python3.10/site-packages/sklearn/linear_model/_logistic.py:814: ConvergenceWarning: lbfgs failed to converge (status=1):\n",
      "STOP: TOTAL NO. of f AND g EVALUATIONS EXCEEDS LIMIT.\n",
      "\n",
      "Increase the number of iterations (max_iter) or scale the data as shown in:\n",
      "    https://scikit-learn.org/stable/modules/preprocessing.html\n",
      "Please also refer to the documentation for alternative solver options:\n",
      "    https://scikit-learn.org/stable/modules/linear_model.html#logistic-regression\n",
      "  n_iter_i = _check_optimize_result(\n",
      "/home/wjy/miniconda3/envs/jupyter/lib/python3.10/site-packages/sklearn/linear_model/_logistic.py:814: ConvergenceWarning: lbfgs failed to converge (status=1):\n",
      "STOP: TOTAL NO. of f AND g EVALUATIONS EXCEEDS LIMIT.\n",
      "\n",
      "Increase the number of iterations (max_iter) or scale the data as shown in:\n",
      "    https://scikit-learn.org/stable/modules/preprocessing.html\n",
      "Please also refer to the documentation for alternative solver options:\n",
      "    https://scikit-learn.org/stable/modules/linear_model.html#logistic-regression\n",
      "  n_iter_i = _check_optimize_result(\n",
      "/home/wjy/miniconda3/envs/jupyter/lib/python3.10/site-packages/sklearn/linear_model/_logistic.py:814: ConvergenceWarning: lbfgs failed to converge (status=1):\n",
      "STOP: TOTAL NO. of f AND g EVALUATIONS EXCEEDS LIMIT.\n",
      "\n",
      "Increase the number of iterations (max_iter) or scale the data as shown in:\n",
      "    https://scikit-learn.org/stable/modules/preprocessing.html\n",
      "Please also refer to the documentation for alternative solver options:\n",
      "    https://scikit-learn.org/stable/modules/linear_model.html#logistic-regression\n",
      "  n_iter_i = _check_optimize_result(\n",
      "/home/wjy/miniconda3/envs/jupyter/lib/python3.10/site-packages/sklearn/linear_model/_logistic.py:814: ConvergenceWarning: lbfgs failed to converge (status=1):\n",
      "STOP: TOTAL NO. of f AND g EVALUATIONS EXCEEDS LIMIT.\n",
      "\n",
      "Increase the number of iterations (max_iter) or scale the data as shown in:\n",
      "    https://scikit-learn.org/stable/modules/preprocessing.html\n",
      "Please also refer to the documentation for alternative solver options:\n",
      "    https://scikit-learn.org/stable/modules/linear_model.html#logistic-regression\n",
      "  n_iter_i = _check_optimize_result(\n",
      "/home/wjy/miniconda3/envs/jupyter/lib/python3.10/site-packages/sklearn/linear_model/_logistic.py:814: ConvergenceWarning: lbfgs failed to converge (status=1):\n",
      "STOP: TOTAL NO. of f AND g EVALUATIONS EXCEEDS LIMIT.\n",
      "\n",
      "Increase the number of iterations (max_iter) or scale the data as shown in:\n",
      "    https://scikit-learn.org/stable/modules/preprocessing.html\n",
      "Please also refer to the documentation for alternative solver options:\n",
      "    https://scikit-learn.org/stable/modules/linear_model.html#logistic-regression\n",
      "  n_iter_i = _check_optimize_result(\n",
      "/home/wjy/miniconda3/envs/jupyter/lib/python3.10/site-packages/sklearn/linear_model/_logistic.py:814: ConvergenceWarning: lbfgs failed to converge (status=1):\n",
      "STOP: TOTAL NO. of f AND g EVALUATIONS EXCEEDS LIMIT.\n",
      "\n",
      "Increase the number of iterations (max_iter) or scale the data as shown in:\n",
      "    https://scikit-learn.org/stable/modules/preprocessing.html\n",
      "Please also refer to the documentation for alternative solver options:\n",
      "    https://scikit-learn.org/stable/modules/linear_model.html#logistic-regression\n",
      "  n_iter_i = _check_optimize_result(\n",
      "/home/wjy/miniconda3/envs/jupyter/lib/python3.10/site-packages/sklearn/linear_model/_logistic.py:814: ConvergenceWarning: lbfgs failed to converge (status=1):\n",
      "STOP: TOTAL NO. of f AND g EVALUATIONS EXCEEDS LIMIT.\n",
      "\n",
      "Increase the number of iterations (max_iter) or scale the data as shown in:\n",
      "    https://scikit-learn.org/stable/modules/preprocessing.html\n",
      "Please also refer to the documentation for alternative solver options:\n",
      "    https://scikit-learn.org/stable/modules/linear_model.html#logistic-regression\n",
      "  n_iter_i = _check_optimize_result(\n",
      "/home/wjy/miniconda3/envs/jupyter/lib/python3.10/site-packages/sklearn/linear_model/_logistic.py:814: ConvergenceWarning: lbfgs failed to converge (status=1):\n",
      "STOP: TOTAL NO. of f AND g EVALUATIONS EXCEEDS LIMIT.\n",
      "\n",
      "Increase the number of iterations (max_iter) or scale the data as shown in:\n",
      "    https://scikit-learn.org/stable/modules/preprocessing.html\n",
      "Please also refer to the documentation for alternative solver options:\n",
      "    https://scikit-learn.org/stable/modules/linear_model.html#logistic-regression\n",
      "  n_iter_i = _check_optimize_result(\n",
      "/home/wjy/miniconda3/envs/jupyter/lib/python3.10/site-packages/sklearn/linear_model/_logistic.py:814: ConvergenceWarning: lbfgs failed to converge (status=1):\n",
      "STOP: TOTAL NO. of f AND g EVALUATIONS EXCEEDS LIMIT.\n",
      "\n",
      "Increase the number of iterations (max_iter) or scale the data as shown in:\n",
      "    https://scikit-learn.org/stable/modules/preprocessing.html\n",
      "Please also refer to the documentation for alternative solver options:\n",
      "    https://scikit-learn.org/stable/modules/linear_model.html#logistic-regression\n",
      "  n_iter_i = _check_optimize_result(\n",
      "/home/wjy/miniconda3/envs/jupyter/lib/python3.10/site-packages/sklearn/linear_model/_logistic.py:814: ConvergenceWarning: lbfgs failed to converge (status=1):\n",
      "STOP: TOTAL NO. of f AND g EVALUATIONS EXCEEDS LIMIT.\n",
      "\n",
      "Increase the number of iterations (max_iter) or scale the data as shown in:\n",
      "    https://scikit-learn.org/stable/modules/preprocessing.html\n",
      "Please also refer to the documentation for alternative solver options:\n",
      "    https://scikit-learn.org/stable/modules/linear_model.html#logistic-regression\n",
      "  n_iter_i = _check_optimize_result(\n",
      "/home/wjy/miniconda3/envs/jupyter/lib/python3.10/site-packages/sklearn/linear_model/_logistic.py:814: ConvergenceWarning: lbfgs failed to converge (status=1):\n",
      "STOP: TOTAL NO. of f AND g EVALUATIONS EXCEEDS LIMIT.\n",
      "\n",
      "Increase the number of iterations (max_iter) or scale the data as shown in:\n",
      "    https://scikit-learn.org/stable/modules/preprocessing.html\n",
      "Please also refer to the documentation for alternative solver options:\n",
      "    https://scikit-learn.org/stable/modules/linear_model.html#logistic-regression\n",
      "  n_iter_i = _check_optimize_result(\n",
      "/home/wjy/miniconda3/envs/jupyter/lib/python3.10/site-packages/sklearn/linear_model/_logistic.py:814: ConvergenceWarning: lbfgs failed to converge (status=1):\n",
      "STOP: TOTAL NO. of f AND g EVALUATIONS EXCEEDS LIMIT.\n",
      "\n",
      "Increase the number of iterations (max_iter) or scale the data as shown in:\n",
      "    https://scikit-learn.org/stable/modules/preprocessing.html\n",
      "Please also refer to the documentation for alternative solver options:\n",
      "    https://scikit-learn.org/stable/modules/linear_model.html#logistic-regression\n",
      "  n_iter_i = _check_optimize_result(\n",
      "/home/wjy/miniconda3/envs/jupyter/lib/python3.10/site-packages/sklearn/linear_model/_logistic.py:814: ConvergenceWarning: lbfgs failed to converge (status=1):\n",
      "STOP: TOTAL NO. of f AND g EVALUATIONS EXCEEDS LIMIT.\n",
      "\n",
      "Increase the number of iterations (max_iter) or scale the data as shown in:\n",
      "    https://scikit-learn.org/stable/modules/preprocessing.html\n",
      "Please also refer to the documentation for alternative solver options:\n",
      "    https://scikit-learn.org/stable/modules/linear_model.html#logistic-regression\n",
      "  n_iter_i = _check_optimize_result(\n",
      "/home/wjy/miniconda3/envs/jupyter/lib/python3.10/site-packages/sklearn/linear_model/_logistic.py:814: ConvergenceWarning: lbfgs failed to converge (status=1):\n",
      "STOP: TOTAL NO. of f AND g EVALUATIONS EXCEEDS LIMIT.\n",
      "\n",
      "Increase the number of iterations (max_iter) or scale the data as shown in:\n",
      "    https://scikit-learn.org/stable/modules/preprocessing.html\n",
      "Please also refer to the documentation for alternative solver options:\n",
      "    https://scikit-learn.org/stable/modules/linear_model.html#logistic-regression\n",
      "  n_iter_i = _check_optimize_result(\n"
     ]
    },
    {
     "name": "stderr",
     "output_type": "stream",
     "text": [
      "/home/wjy/miniconda3/envs/jupyter/lib/python3.10/site-packages/sklearn/linear_model/_logistic.py:814: ConvergenceWarning: lbfgs failed to converge (status=1):\n",
      "STOP: TOTAL NO. of f AND g EVALUATIONS EXCEEDS LIMIT.\n",
      "\n",
      "Increase the number of iterations (max_iter) or scale the data as shown in:\n",
      "    https://scikit-learn.org/stable/modules/preprocessing.html\n",
      "Please also refer to the documentation for alternative solver options:\n",
      "    https://scikit-learn.org/stable/modules/linear_model.html#logistic-regression\n",
      "  n_iter_i = _check_optimize_result(\n",
      "/home/wjy/miniconda3/envs/jupyter/lib/python3.10/site-packages/sklearn/linear_model/_logistic.py:814: ConvergenceWarning: lbfgs failed to converge (status=1):\n",
      "STOP: TOTAL NO. of f AND g EVALUATIONS EXCEEDS LIMIT.\n",
      "\n",
      "Increase the number of iterations (max_iter) or scale the data as shown in:\n",
      "    https://scikit-learn.org/stable/modules/preprocessing.html\n",
      "Please also refer to the documentation for alternative solver options:\n",
      "    https://scikit-learn.org/stable/modules/linear_model.html#logistic-regression\n",
      "  n_iter_i = _check_optimize_result(\n",
      "/home/wjy/miniconda3/envs/jupyter/lib/python3.10/site-packages/sklearn/linear_model/_logistic.py:814: ConvergenceWarning: lbfgs failed to converge (status=1):\n",
      "STOP: TOTAL NO. of f AND g EVALUATIONS EXCEEDS LIMIT.\n",
      "\n",
      "Increase the number of iterations (max_iter) or scale the data as shown in:\n",
      "    https://scikit-learn.org/stable/modules/preprocessing.html\n",
      "Please also refer to the documentation for alternative solver options:\n",
      "    https://scikit-learn.org/stable/modules/linear_model.html#logistic-regression\n",
      "  n_iter_i = _check_optimize_result(\n",
      "/home/wjy/miniconda3/envs/jupyter/lib/python3.10/site-packages/sklearn/linear_model/_logistic.py:814: ConvergenceWarning: lbfgs failed to converge (status=1):\n",
      "STOP: TOTAL NO. of f AND g EVALUATIONS EXCEEDS LIMIT.\n",
      "\n",
      "Increase the number of iterations (max_iter) or scale the data as shown in:\n",
      "    https://scikit-learn.org/stable/modules/preprocessing.html\n",
      "Please also refer to the documentation for alternative solver options:\n",
      "    https://scikit-learn.org/stable/modules/linear_model.html#logistic-regression\n",
      "  n_iter_i = _check_optimize_result(\n",
      "/home/wjy/miniconda3/envs/jupyter/lib/python3.10/site-packages/sklearn/linear_model/_logistic.py:814: ConvergenceWarning: lbfgs failed to converge (status=1):\n",
      "STOP: TOTAL NO. of f AND g EVALUATIONS EXCEEDS LIMIT.\n",
      "\n",
      "Increase the number of iterations (max_iter) or scale the data as shown in:\n",
      "    https://scikit-learn.org/stable/modules/preprocessing.html\n",
      "Please also refer to the documentation for alternative solver options:\n",
      "    https://scikit-learn.org/stable/modules/linear_model.html#logistic-regression\n",
      "  n_iter_i = _check_optimize_result(\n",
      "/home/wjy/miniconda3/envs/jupyter/lib/python3.10/site-packages/sklearn/linear_model/_logistic.py:814: ConvergenceWarning: lbfgs failed to converge (status=1):\n",
      "STOP: TOTAL NO. of f AND g EVALUATIONS EXCEEDS LIMIT.\n",
      "\n",
      "Increase the number of iterations (max_iter) or scale the data as shown in:\n",
      "    https://scikit-learn.org/stable/modules/preprocessing.html\n",
      "Please also refer to the documentation for alternative solver options:\n",
      "    https://scikit-learn.org/stable/modules/linear_model.html#logistic-regression\n",
      "  n_iter_i = _check_optimize_result(\n",
      "/home/wjy/miniconda3/envs/jupyter/lib/python3.10/site-packages/sklearn/linear_model/_logistic.py:814: ConvergenceWarning: lbfgs failed to converge (status=1):\n",
      "STOP: TOTAL NO. of f AND g EVALUATIONS EXCEEDS LIMIT.\n",
      "\n",
      "Increase the number of iterations (max_iter) or scale the data as shown in:\n",
      "    https://scikit-learn.org/stable/modules/preprocessing.html\n",
      "Please also refer to the documentation for alternative solver options:\n",
      "    https://scikit-learn.org/stable/modules/linear_model.html#logistic-regression\n",
      "  n_iter_i = _check_optimize_result(\n",
      "/home/wjy/miniconda3/envs/jupyter/lib/python3.10/site-packages/sklearn/linear_model/_logistic.py:814: ConvergenceWarning: lbfgs failed to converge (status=1):\n",
      "STOP: TOTAL NO. of f AND g EVALUATIONS EXCEEDS LIMIT.\n",
      "\n",
      "Increase the number of iterations (max_iter) or scale the data as shown in:\n",
      "    https://scikit-learn.org/stable/modules/preprocessing.html\n",
      "Please also refer to the documentation for alternative solver options:\n",
      "    https://scikit-learn.org/stable/modules/linear_model.html#logistic-regression\n",
      "  n_iter_i = _check_optimize_result(\n",
      "/home/wjy/miniconda3/envs/jupyter/lib/python3.10/site-packages/sklearn/linear_model/_logistic.py:814: ConvergenceWarning: lbfgs failed to converge (status=1):\n",
      "STOP: TOTAL NO. of f AND g EVALUATIONS EXCEEDS LIMIT.\n",
      "\n",
      "Increase the number of iterations (max_iter) or scale the data as shown in:\n",
      "    https://scikit-learn.org/stable/modules/preprocessing.html\n",
      "Please also refer to the documentation for alternative solver options:\n",
      "    https://scikit-learn.org/stable/modules/linear_model.html#logistic-regression\n",
      "  n_iter_i = _check_optimize_result(\n",
      "/home/wjy/miniconda3/envs/jupyter/lib/python3.10/site-packages/sklearn/linear_model/_logistic.py:814: ConvergenceWarning: lbfgs failed to converge (status=1):\n",
      "STOP: TOTAL NO. of f AND g EVALUATIONS EXCEEDS LIMIT.\n",
      "\n",
      "Increase the number of iterations (max_iter) or scale the data as shown in:\n",
      "    https://scikit-learn.org/stable/modules/preprocessing.html\n",
      "Please also refer to the documentation for alternative solver options:\n",
      "    https://scikit-learn.org/stable/modules/linear_model.html#logistic-regression\n",
      "  n_iter_i = _check_optimize_result(\n",
      "/home/wjy/miniconda3/envs/jupyter/lib/python3.10/site-packages/sklearn/linear_model/_logistic.py:814: ConvergenceWarning: lbfgs failed to converge (status=1):\n",
      "STOP: TOTAL NO. of f AND g EVALUATIONS EXCEEDS LIMIT.\n",
      "\n",
      "Increase the number of iterations (max_iter) or scale the data as shown in:\n",
      "    https://scikit-learn.org/stable/modules/preprocessing.html\n",
      "Please also refer to the documentation for alternative solver options:\n",
      "    https://scikit-learn.org/stable/modules/linear_model.html#logistic-regression\n",
      "  n_iter_i = _check_optimize_result(\n",
      "/home/wjy/miniconda3/envs/jupyter/lib/python3.10/site-packages/sklearn/linear_model/_logistic.py:814: ConvergenceWarning: lbfgs failed to converge (status=1):\n",
      "STOP: TOTAL NO. of f AND g EVALUATIONS EXCEEDS LIMIT.\n",
      "\n",
      "Increase the number of iterations (max_iter) or scale the data as shown in:\n",
      "    https://scikit-learn.org/stable/modules/preprocessing.html\n",
      "Please also refer to the documentation for alternative solver options:\n",
      "    https://scikit-learn.org/stable/modules/linear_model.html#logistic-regression\n",
      "  n_iter_i = _check_optimize_result(\n",
      "/home/wjy/miniconda3/envs/jupyter/lib/python3.10/site-packages/sklearn/linear_model/_logistic.py:814: ConvergenceWarning: lbfgs failed to converge (status=1):\n",
      "STOP: TOTAL NO. of f AND g EVALUATIONS EXCEEDS LIMIT.\n",
      "\n",
      "Increase the number of iterations (max_iter) or scale the data as shown in:\n",
      "    https://scikit-learn.org/stable/modules/preprocessing.html\n",
      "Please also refer to the documentation for alternative solver options:\n",
      "    https://scikit-learn.org/stable/modules/linear_model.html#logistic-regression\n",
      "  n_iter_i = _check_optimize_result(\n",
      "/home/wjy/miniconda3/envs/jupyter/lib/python3.10/site-packages/sklearn/linear_model/_logistic.py:814: ConvergenceWarning: lbfgs failed to converge (status=1):\n",
      "STOP: TOTAL NO. of f AND g EVALUATIONS EXCEEDS LIMIT.\n",
      "\n",
      "Increase the number of iterations (max_iter) or scale the data as shown in:\n",
      "    https://scikit-learn.org/stable/modules/preprocessing.html\n",
      "Please also refer to the documentation for alternative solver options:\n",
      "    https://scikit-learn.org/stable/modules/linear_model.html#logistic-regression\n",
      "  n_iter_i = _check_optimize_result(\n",
      "/home/wjy/miniconda3/envs/jupyter/lib/python3.10/site-packages/sklearn/linear_model/_logistic.py:814: ConvergenceWarning: lbfgs failed to converge (status=1):\n",
      "STOP: TOTAL NO. of f AND g EVALUATIONS EXCEEDS LIMIT.\n",
      "\n",
      "Increase the number of iterations (max_iter) or scale the data as shown in:\n",
      "    https://scikit-learn.org/stable/modules/preprocessing.html\n",
      "Please also refer to the documentation for alternative solver options:\n",
      "    https://scikit-learn.org/stable/modules/linear_model.html#logistic-regression\n",
      "  n_iter_i = _check_optimize_result(\n",
      "/home/wjy/miniconda3/envs/jupyter/lib/python3.10/site-packages/sklearn/linear_model/_logistic.py:814: ConvergenceWarning: lbfgs failed to converge (status=1):\n",
      "STOP: TOTAL NO. of f AND g EVALUATIONS EXCEEDS LIMIT.\n",
      "\n",
      "Increase the number of iterations (max_iter) or scale the data as shown in:\n",
      "    https://scikit-learn.org/stable/modules/preprocessing.html\n",
      "Please also refer to the documentation for alternative solver options:\n",
      "    https://scikit-learn.org/stable/modules/linear_model.html#logistic-regression\n",
      "  n_iter_i = _check_optimize_result(\n"
     ]
    },
    {
     "name": "stderr",
     "output_type": "stream",
     "text": [
      "/home/wjy/miniconda3/envs/jupyter/lib/python3.10/site-packages/sklearn/linear_model/_logistic.py:814: ConvergenceWarning: lbfgs failed to converge (status=1):\n",
      "STOP: TOTAL NO. of f AND g EVALUATIONS EXCEEDS LIMIT.\n",
      "\n",
      "Increase the number of iterations (max_iter) or scale the data as shown in:\n",
      "    https://scikit-learn.org/stable/modules/preprocessing.html\n",
      "Please also refer to the documentation for alternative solver options:\n",
      "    https://scikit-learn.org/stable/modules/linear_model.html#logistic-regression\n",
      "  n_iter_i = _check_optimize_result(\n",
      "/home/wjy/miniconda3/envs/jupyter/lib/python3.10/site-packages/sklearn/linear_model/_logistic.py:814: ConvergenceWarning: lbfgs failed to converge (status=1):\n",
      "STOP: TOTAL NO. of f AND g EVALUATIONS EXCEEDS LIMIT.\n",
      "\n",
      "Increase the number of iterations (max_iter) or scale the data as shown in:\n",
      "    https://scikit-learn.org/stable/modules/preprocessing.html\n",
      "Please also refer to the documentation for alternative solver options:\n",
      "    https://scikit-learn.org/stable/modules/linear_model.html#logistic-regression\n",
      "  n_iter_i = _check_optimize_result(\n",
      "/home/wjy/miniconda3/envs/jupyter/lib/python3.10/site-packages/sklearn/linear_model/_logistic.py:814: ConvergenceWarning: lbfgs failed to converge (status=1):\n",
      "STOP: TOTAL NO. of f AND g EVALUATIONS EXCEEDS LIMIT.\n",
      "\n",
      "Increase the number of iterations (max_iter) or scale the data as shown in:\n",
      "    https://scikit-learn.org/stable/modules/preprocessing.html\n",
      "Please also refer to the documentation for alternative solver options:\n",
      "    https://scikit-learn.org/stable/modules/linear_model.html#logistic-regression\n",
      "  n_iter_i = _check_optimize_result(\n",
      "/home/wjy/miniconda3/envs/jupyter/lib/python3.10/site-packages/sklearn/linear_model/_logistic.py:814: ConvergenceWarning: lbfgs failed to converge (status=1):\n",
      "STOP: TOTAL NO. of f AND g EVALUATIONS EXCEEDS LIMIT.\n",
      "\n",
      "Increase the number of iterations (max_iter) or scale the data as shown in:\n",
      "    https://scikit-learn.org/stable/modules/preprocessing.html\n",
      "Please also refer to the documentation for alternative solver options:\n",
      "    https://scikit-learn.org/stable/modules/linear_model.html#logistic-regression\n",
      "  n_iter_i = _check_optimize_result(\n",
      "/home/wjy/miniconda3/envs/jupyter/lib/python3.10/site-packages/sklearn/linear_model/_logistic.py:814: ConvergenceWarning: lbfgs failed to converge (status=1):\n",
      "STOP: TOTAL NO. of f AND g EVALUATIONS EXCEEDS LIMIT.\n",
      "\n",
      "Increase the number of iterations (max_iter) or scale the data as shown in:\n",
      "    https://scikit-learn.org/stable/modules/preprocessing.html\n",
      "Please also refer to the documentation for alternative solver options:\n",
      "    https://scikit-learn.org/stable/modules/linear_model.html#logistic-regression\n",
      "  n_iter_i = _check_optimize_result(\n",
      "/home/wjy/miniconda3/envs/jupyter/lib/python3.10/site-packages/sklearn/linear_model/_logistic.py:814: ConvergenceWarning: lbfgs failed to converge (status=1):\n",
      "STOP: TOTAL NO. of f AND g EVALUATIONS EXCEEDS LIMIT.\n",
      "\n",
      "Increase the number of iterations (max_iter) or scale the data as shown in:\n",
      "    https://scikit-learn.org/stable/modules/preprocessing.html\n",
      "Please also refer to the documentation for alternative solver options:\n",
      "    https://scikit-learn.org/stable/modules/linear_model.html#logistic-regression\n",
      "  n_iter_i = _check_optimize_result(\n",
      "/home/wjy/miniconda3/envs/jupyter/lib/python3.10/site-packages/sklearn/linear_model/_logistic.py:814: ConvergenceWarning: lbfgs failed to converge (status=1):\n",
      "STOP: TOTAL NO. of f AND g EVALUATIONS EXCEEDS LIMIT.\n",
      "\n",
      "Increase the number of iterations (max_iter) or scale the data as shown in:\n",
      "    https://scikit-learn.org/stable/modules/preprocessing.html\n",
      "Please also refer to the documentation for alternative solver options:\n",
      "    https://scikit-learn.org/stable/modules/linear_model.html#logistic-regression\n",
      "  n_iter_i = _check_optimize_result(\n",
      "/home/wjy/miniconda3/envs/jupyter/lib/python3.10/site-packages/sklearn/linear_model/_logistic.py:814: ConvergenceWarning: lbfgs failed to converge (status=1):\n",
      "STOP: TOTAL NO. of f AND g EVALUATIONS EXCEEDS LIMIT.\n",
      "\n",
      "Increase the number of iterations (max_iter) or scale the data as shown in:\n",
      "    https://scikit-learn.org/stable/modules/preprocessing.html\n",
      "Please also refer to the documentation for alternative solver options:\n",
      "    https://scikit-learn.org/stable/modules/linear_model.html#logistic-regression\n",
      "  n_iter_i = _check_optimize_result(\n",
      "/home/wjy/miniconda3/envs/jupyter/lib/python3.10/site-packages/sklearn/linear_model/_logistic.py:814: ConvergenceWarning: lbfgs failed to converge (status=1):\n",
      "STOP: TOTAL NO. of f AND g EVALUATIONS EXCEEDS LIMIT.\n",
      "\n",
      "Increase the number of iterations (max_iter) or scale the data as shown in:\n",
      "    https://scikit-learn.org/stable/modules/preprocessing.html\n",
      "Please also refer to the documentation for alternative solver options:\n",
      "    https://scikit-learn.org/stable/modules/linear_model.html#logistic-regression\n",
      "  n_iter_i = _check_optimize_result(\n",
      "/home/wjy/miniconda3/envs/jupyter/lib/python3.10/site-packages/sklearn/linear_model/_logistic.py:814: ConvergenceWarning: lbfgs failed to converge (status=1):\n",
      "STOP: TOTAL NO. of f AND g EVALUATIONS EXCEEDS LIMIT.\n",
      "\n",
      "Increase the number of iterations (max_iter) or scale the data as shown in:\n",
      "    https://scikit-learn.org/stable/modules/preprocessing.html\n",
      "Please also refer to the documentation for alternative solver options:\n",
      "    https://scikit-learn.org/stable/modules/linear_model.html#logistic-regression\n",
      "  n_iter_i = _check_optimize_result(\n",
      "/home/wjy/miniconda3/envs/jupyter/lib/python3.10/site-packages/sklearn/linear_model/_logistic.py:814: ConvergenceWarning: lbfgs failed to converge (status=1):\n",
      "STOP: TOTAL NO. of f AND g EVALUATIONS EXCEEDS LIMIT.\n",
      "\n",
      "Increase the number of iterations (max_iter) or scale the data as shown in:\n",
      "    https://scikit-learn.org/stable/modules/preprocessing.html\n",
      "Please also refer to the documentation for alternative solver options:\n",
      "    https://scikit-learn.org/stable/modules/linear_model.html#logistic-regression\n",
      "  n_iter_i = _check_optimize_result(\n",
      "/home/wjy/miniconda3/envs/jupyter/lib/python3.10/site-packages/sklearn/linear_model/_logistic.py:814: ConvergenceWarning: lbfgs failed to converge (status=1):\n",
      "STOP: TOTAL NO. of f AND g EVALUATIONS EXCEEDS LIMIT.\n",
      "\n",
      "Increase the number of iterations (max_iter) or scale the data as shown in:\n",
      "    https://scikit-learn.org/stable/modules/preprocessing.html\n",
      "Please also refer to the documentation for alternative solver options:\n",
      "    https://scikit-learn.org/stable/modules/linear_model.html#logistic-regression\n",
      "  n_iter_i = _check_optimize_result(\n",
      "/home/wjy/miniconda3/envs/jupyter/lib/python3.10/site-packages/sklearn/linear_model/_logistic.py:814: ConvergenceWarning: lbfgs failed to converge (status=1):\n",
      "STOP: TOTAL NO. of f AND g EVALUATIONS EXCEEDS LIMIT.\n",
      "\n",
      "Increase the number of iterations (max_iter) or scale the data as shown in:\n",
      "    https://scikit-learn.org/stable/modules/preprocessing.html\n",
      "Please also refer to the documentation for alternative solver options:\n",
      "    https://scikit-learn.org/stable/modules/linear_model.html#logistic-regression\n",
      "  n_iter_i = _check_optimize_result(\n",
      "/home/wjy/miniconda3/envs/jupyter/lib/python3.10/site-packages/sklearn/linear_model/_logistic.py:814: ConvergenceWarning: lbfgs failed to converge (status=1):\n",
      "STOP: TOTAL NO. of f AND g EVALUATIONS EXCEEDS LIMIT.\n",
      "\n",
      "Increase the number of iterations (max_iter) or scale the data as shown in:\n",
      "    https://scikit-learn.org/stable/modules/preprocessing.html\n",
      "Please also refer to the documentation for alternative solver options:\n",
      "    https://scikit-learn.org/stable/modules/linear_model.html#logistic-regression\n",
      "  n_iter_i = _check_optimize_result(\n",
      "/home/wjy/miniconda3/envs/jupyter/lib/python3.10/site-packages/sklearn/linear_model/_logistic.py:814: ConvergenceWarning: lbfgs failed to converge (status=1):\n",
      "STOP: TOTAL NO. of f AND g EVALUATIONS EXCEEDS LIMIT.\n",
      "\n",
      "Increase the number of iterations (max_iter) or scale the data as shown in:\n",
      "    https://scikit-learn.org/stable/modules/preprocessing.html\n",
      "Please also refer to the documentation for alternative solver options:\n",
      "    https://scikit-learn.org/stable/modules/linear_model.html#logistic-regression\n",
      "  n_iter_i = _check_optimize_result(\n",
      "/home/wjy/miniconda3/envs/jupyter/lib/python3.10/site-packages/sklearn/linear_model/_logistic.py:814: ConvergenceWarning: lbfgs failed to converge (status=1):\n",
      "STOP: TOTAL NO. of f AND g EVALUATIONS EXCEEDS LIMIT.\n",
      "\n",
      "Increase the number of iterations (max_iter) or scale the data as shown in:\n",
      "    https://scikit-learn.org/stable/modules/preprocessing.html\n",
      "Please also refer to the documentation for alternative solver options:\n",
      "    https://scikit-learn.org/stable/modules/linear_model.html#logistic-regression\n",
      "  n_iter_i = _check_optimize_result(\n"
     ]
    },
    {
     "name": "stderr",
     "output_type": "stream",
     "text": [
      "/home/wjy/miniconda3/envs/jupyter/lib/python3.10/site-packages/sklearn/linear_model/_logistic.py:814: ConvergenceWarning: lbfgs failed to converge (status=1):\n",
      "STOP: TOTAL NO. of f AND g EVALUATIONS EXCEEDS LIMIT.\n",
      "\n",
      "Increase the number of iterations (max_iter) or scale the data as shown in:\n",
      "    https://scikit-learn.org/stable/modules/preprocessing.html\n",
      "Please also refer to the documentation for alternative solver options:\n",
      "    https://scikit-learn.org/stable/modules/linear_model.html#logistic-regression\n",
      "  n_iter_i = _check_optimize_result(\n",
      "/home/wjy/miniconda3/envs/jupyter/lib/python3.10/site-packages/sklearn/linear_model/_logistic.py:814: ConvergenceWarning: lbfgs failed to converge (status=1):\n",
      "STOP: TOTAL NO. of f AND g EVALUATIONS EXCEEDS LIMIT.\n",
      "\n",
      "Increase the number of iterations (max_iter) or scale the data as shown in:\n",
      "    https://scikit-learn.org/stable/modules/preprocessing.html\n",
      "Please also refer to the documentation for alternative solver options:\n",
      "    https://scikit-learn.org/stable/modules/linear_model.html#logistic-regression\n",
      "  n_iter_i = _check_optimize_result(\n",
      "/home/wjy/miniconda3/envs/jupyter/lib/python3.10/site-packages/sklearn/linear_model/_logistic.py:814: ConvergenceWarning: lbfgs failed to converge (status=1):\n",
      "STOP: TOTAL NO. of f AND g EVALUATIONS EXCEEDS LIMIT.\n",
      "\n",
      "Increase the number of iterations (max_iter) or scale the data as shown in:\n",
      "    https://scikit-learn.org/stable/modules/preprocessing.html\n",
      "Please also refer to the documentation for alternative solver options:\n",
      "    https://scikit-learn.org/stable/modules/linear_model.html#logistic-regression\n",
      "  n_iter_i = _check_optimize_result(\n",
      "/home/wjy/miniconda3/envs/jupyter/lib/python3.10/site-packages/sklearn/linear_model/_logistic.py:814: ConvergenceWarning: lbfgs failed to converge (status=1):\n",
      "STOP: TOTAL NO. of f AND g EVALUATIONS EXCEEDS LIMIT.\n",
      "\n",
      "Increase the number of iterations (max_iter) or scale the data as shown in:\n",
      "    https://scikit-learn.org/stable/modules/preprocessing.html\n",
      "Please also refer to the documentation for alternative solver options:\n",
      "    https://scikit-learn.org/stable/modules/linear_model.html#logistic-regression\n",
      "  n_iter_i = _check_optimize_result(\n",
      "/home/wjy/miniconda3/envs/jupyter/lib/python3.10/site-packages/sklearn/linear_model/_logistic.py:814: ConvergenceWarning: lbfgs failed to converge (status=1):\n",
      "STOP: TOTAL NO. of f AND g EVALUATIONS EXCEEDS LIMIT.\n",
      "\n",
      "Increase the number of iterations (max_iter) or scale the data as shown in:\n",
      "    https://scikit-learn.org/stable/modules/preprocessing.html\n",
      "Please also refer to the documentation for alternative solver options:\n",
      "    https://scikit-learn.org/stable/modules/linear_model.html#logistic-regression\n",
      "  n_iter_i = _check_optimize_result(\n",
      "/home/wjy/miniconda3/envs/jupyter/lib/python3.10/site-packages/sklearn/linear_model/_logistic.py:814: ConvergenceWarning: lbfgs failed to converge (status=1):\n",
      "STOP: TOTAL NO. of f AND g EVALUATIONS EXCEEDS LIMIT.\n",
      "\n",
      "Increase the number of iterations (max_iter) or scale the data as shown in:\n",
      "    https://scikit-learn.org/stable/modules/preprocessing.html\n",
      "Please also refer to the documentation for alternative solver options:\n",
      "    https://scikit-learn.org/stable/modules/linear_model.html#logistic-regression\n",
      "  n_iter_i = _check_optimize_result(\n",
      "/home/wjy/miniconda3/envs/jupyter/lib/python3.10/site-packages/sklearn/linear_model/_logistic.py:814: ConvergenceWarning: lbfgs failed to converge (status=1):\n",
      "STOP: TOTAL NO. of f AND g EVALUATIONS EXCEEDS LIMIT.\n",
      "\n",
      "Increase the number of iterations (max_iter) or scale the data as shown in:\n",
      "    https://scikit-learn.org/stable/modules/preprocessing.html\n",
      "Please also refer to the documentation for alternative solver options:\n",
      "    https://scikit-learn.org/stable/modules/linear_model.html#logistic-regression\n",
      "  n_iter_i = _check_optimize_result(\n",
      "/home/wjy/miniconda3/envs/jupyter/lib/python3.10/site-packages/sklearn/linear_model/_logistic.py:814: ConvergenceWarning: lbfgs failed to converge (status=1):\n",
      "STOP: TOTAL NO. of f AND g EVALUATIONS EXCEEDS LIMIT.\n",
      "\n",
      "Increase the number of iterations (max_iter) or scale the data as shown in:\n",
      "    https://scikit-learn.org/stable/modules/preprocessing.html\n",
      "Please also refer to the documentation for alternative solver options:\n",
      "    https://scikit-learn.org/stable/modules/linear_model.html#logistic-regression\n",
      "  n_iter_i = _check_optimize_result(\n",
      "/home/wjy/miniconda3/envs/jupyter/lib/python3.10/site-packages/sklearn/linear_model/_logistic.py:814: ConvergenceWarning: lbfgs failed to converge (status=1):\n",
      "STOP: TOTAL NO. of f AND g EVALUATIONS EXCEEDS LIMIT.\n",
      "\n",
      "Increase the number of iterations (max_iter) or scale the data as shown in:\n",
      "    https://scikit-learn.org/stable/modules/preprocessing.html\n",
      "Please also refer to the documentation for alternative solver options:\n",
      "    https://scikit-learn.org/stable/modules/linear_model.html#logistic-regression\n",
      "  n_iter_i = _check_optimize_result(\n",
      "/home/wjy/miniconda3/envs/jupyter/lib/python3.10/site-packages/sklearn/linear_model/_logistic.py:814: ConvergenceWarning: lbfgs failed to converge (status=1):\n",
      "STOP: TOTAL NO. of f AND g EVALUATIONS EXCEEDS LIMIT.\n",
      "\n",
      "Increase the number of iterations (max_iter) or scale the data as shown in:\n",
      "    https://scikit-learn.org/stable/modules/preprocessing.html\n",
      "Please also refer to the documentation for alternative solver options:\n",
      "    https://scikit-learn.org/stable/modules/linear_model.html#logistic-regression\n",
      "  n_iter_i = _check_optimize_result(\n",
      "/home/wjy/miniconda3/envs/jupyter/lib/python3.10/site-packages/sklearn/linear_model/_logistic.py:814: ConvergenceWarning: lbfgs failed to converge (status=1):\n",
      "STOP: TOTAL NO. of f AND g EVALUATIONS EXCEEDS LIMIT.\n",
      "\n",
      "Increase the number of iterations (max_iter) or scale the data as shown in:\n",
      "    https://scikit-learn.org/stable/modules/preprocessing.html\n",
      "Please also refer to the documentation for alternative solver options:\n",
      "    https://scikit-learn.org/stable/modules/linear_model.html#logistic-regression\n",
      "  n_iter_i = _check_optimize_result(\n",
      "/home/wjy/miniconda3/envs/jupyter/lib/python3.10/site-packages/sklearn/linear_model/_logistic.py:814: ConvergenceWarning: lbfgs failed to converge (status=1):\n",
      "STOP: TOTAL NO. of f AND g EVALUATIONS EXCEEDS LIMIT.\n",
      "\n",
      "Increase the number of iterations (max_iter) or scale the data as shown in:\n",
      "    https://scikit-learn.org/stable/modules/preprocessing.html\n",
      "Please also refer to the documentation for alternative solver options:\n",
      "    https://scikit-learn.org/stable/modules/linear_model.html#logistic-regression\n",
      "  n_iter_i = _check_optimize_result(\n",
      "/home/wjy/miniconda3/envs/jupyter/lib/python3.10/site-packages/sklearn/linear_model/_logistic.py:814: ConvergenceWarning: lbfgs failed to converge (status=1):\n",
      "STOP: TOTAL NO. of f AND g EVALUATIONS EXCEEDS LIMIT.\n",
      "\n",
      "Increase the number of iterations (max_iter) or scale the data as shown in:\n",
      "    https://scikit-learn.org/stable/modules/preprocessing.html\n",
      "Please also refer to the documentation for alternative solver options:\n",
      "    https://scikit-learn.org/stable/modules/linear_model.html#logistic-regression\n",
      "  n_iter_i = _check_optimize_result(\n",
      "/home/wjy/miniconda3/envs/jupyter/lib/python3.10/site-packages/sklearn/linear_model/_logistic.py:814: ConvergenceWarning: lbfgs failed to converge (status=1):\n",
      "STOP: TOTAL NO. of f AND g EVALUATIONS EXCEEDS LIMIT.\n",
      "\n",
      "Increase the number of iterations (max_iter) or scale the data as shown in:\n",
      "    https://scikit-learn.org/stable/modules/preprocessing.html\n",
      "Please also refer to the documentation for alternative solver options:\n",
      "    https://scikit-learn.org/stable/modules/linear_model.html#logistic-regression\n",
      "  n_iter_i = _check_optimize_result(\n",
      "/home/wjy/miniconda3/envs/jupyter/lib/python3.10/site-packages/sklearn/linear_model/_logistic.py:814: ConvergenceWarning: lbfgs failed to converge (status=1):\n",
      "STOP: TOTAL NO. of f AND g EVALUATIONS EXCEEDS LIMIT.\n",
      "\n",
      "Increase the number of iterations (max_iter) or scale the data as shown in:\n",
      "    https://scikit-learn.org/stable/modules/preprocessing.html\n",
      "Please also refer to the documentation for alternative solver options:\n",
      "    https://scikit-learn.org/stable/modules/linear_model.html#logistic-regression\n",
      "  n_iter_i = _check_optimize_result(\n",
      "/home/wjy/miniconda3/envs/jupyter/lib/python3.10/site-packages/sklearn/linear_model/_logistic.py:814: ConvergenceWarning: lbfgs failed to converge (status=1):\n",
      "STOP: TOTAL NO. of f AND g EVALUATIONS EXCEEDS LIMIT.\n",
      "\n",
      "Increase the number of iterations (max_iter) or scale the data as shown in:\n",
      "    https://scikit-learn.org/stable/modules/preprocessing.html\n",
      "Please also refer to the documentation for alternative solver options:\n",
      "    https://scikit-learn.org/stable/modules/linear_model.html#logistic-regression\n",
      "  n_iter_i = _check_optimize_result(\n",
      "/home/wjy/miniconda3/envs/jupyter/lib/python3.10/site-packages/sklearn/linear_model/_logistic.py:814: ConvergenceWarning: lbfgs failed to converge (status=1):\n",
      "STOP: TOTAL NO. of f AND g EVALUATIONS EXCEEDS LIMIT.\n",
      "\n",
      "Increase the number of iterations (max_iter) or scale the data as shown in:\n",
      "    https://scikit-learn.org/stable/modules/preprocessing.html\n",
      "Please also refer to the documentation for alternative solver options:\n",
      "    https://scikit-learn.org/stable/modules/linear_model.html#logistic-regression\n",
      "  n_iter_i = _check_optimize_result(\n"
     ]
    },
    {
     "name": "stderr",
     "output_type": "stream",
     "text": [
      "/home/wjy/miniconda3/envs/jupyter/lib/python3.10/site-packages/sklearn/linear_model/_logistic.py:814: ConvergenceWarning: lbfgs failed to converge (status=1):\n",
      "STOP: TOTAL NO. of f AND g EVALUATIONS EXCEEDS LIMIT.\n",
      "\n",
      "Increase the number of iterations (max_iter) or scale the data as shown in:\n",
      "    https://scikit-learn.org/stable/modules/preprocessing.html\n",
      "Please also refer to the documentation for alternative solver options:\n",
      "    https://scikit-learn.org/stable/modules/linear_model.html#logistic-regression\n",
      "  n_iter_i = _check_optimize_result(\n",
      "/home/wjy/miniconda3/envs/jupyter/lib/python3.10/site-packages/sklearn/linear_model/_logistic.py:814: ConvergenceWarning: lbfgs failed to converge (status=1):\n",
      "STOP: TOTAL NO. of f AND g EVALUATIONS EXCEEDS LIMIT.\n",
      "\n",
      "Increase the number of iterations (max_iter) or scale the data as shown in:\n",
      "    https://scikit-learn.org/stable/modules/preprocessing.html\n",
      "Please also refer to the documentation for alternative solver options:\n",
      "    https://scikit-learn.org/stable/modules/linear_model.html#logistic-regression\n",
      "  n_iter_i = _check_optimize_result(\n",
      "/home/wjy/miniconda3/envs/jupyter/lib/python3.10/site-packages/sklearn/linear_model/_logistic.py:814: ConvergenceWarning: lbfgs failed to converge (status=1):\n",
      "STOP: TOTAL NO. of f AND g EVALUATIONS EXCEEDS LIMIT.\n",
      "\n",
      "Increase the number of iterations (max_iter) or scale the data as shown in:\n",
      "    https://scikit-learn.org/stable/modules/preprocessing.html\n",
      "Please also refer to the documentation for alternative solver options:\n",
      "    https://scikit-learn.org/stable/modules/linear_model.html#logistic-regression\n",
      "  n_iter_i = _check_optimize_result(\n",
      "/home/wjy/miniconda3/envs/jupyter/lib/python3.10/site-packages/sklearn/linear_model/_logistic.py:814: ConvergenceWarning: lbfgs failed to converge (status=1):\n",
      "STOP: TOTAL NO. of f AND g EVALUATIONS EXCEEDS LIMIT.\n",
      "\n",
      "Increase the number of iterations (max_iter) or scale the data as shown in:\n",
      "    https://scikit-learn.org/stable/modules/preprocessing.html\n",
      "Please also refer to the documentation for alternative solver options:\n",
      "    https://scikit-learn.org/stable/modules/linear_model.html#logistic-regression\n",
      "  n_iter_i = _check_optimize_result(\n",
      "/home/wjy/miniconda3/envs/jupyter/lib/python3.10/site-packages/sklearn/linear_model/_logistic.py:814: ConvergenceWarning: lbfgs failed to converge (status=1):\n",
      "STOP: TOTAL NO. of f AND g EVALUATIONS EXCEEDS LIMIT.\n",
      "\n",
      "Increase the number of iterations (max_iter) or scale the data as shown in:\n",
      "    https://scikit-learn.org/stable/modules/preprocessing.html\n",
      "Please also refer to the documentation for alternative solver options:\n",
      "    https://scikit-learn.org/stable/modules/linear_model.html#logistic-regression\n",
      "  n_iter_i = _check_optimize_result(\n",
      "/home/wjy/miniconda3/envs/jupyter/lib/python3.10/site-packages/sklearn/linear_model/_logistic.py:814: ConvergenceWarning: lbfgs failed to converge (status=1):\n",
      "STOP: TOTAL NO. of f AND g EVALUATIONS EXCEEDS LIMIT.\n",
      "\n",
      "Increase the number of iterations (max_iter) or scale the data as shown in:\n",
      "    https://scikit-learn.org/stable/modules/preprocessing.html\n",
      "Please also refer to the documentation for alternative solver options:\n",
      "    https://scikit-learn.org/stable/modules/linear_model.html#logistic-regression\n",
      "  n_iter_i = _check_optimize_result(\n",
      "/home/wjy/miniconda3/envs/jupyter/lib/python3.10/site-packages/sklearn/linear_model/_logistic.py:814: ConvergenceWarning: lbfgs failed to converge (status=1):\n",
      "STOP: TOTAL NO. of f AND g EVALUATIONS EXCEEDS LIMIT.\n",
      "\n",
      "Increase the number of iterations (max_iter) or scale the data as shown in:\n",
      "    https://scikit-learn.org/stable/modules/preprocessing.html\n",
      "Please also refer to the documentation for alternative solver options:\n",
      "    https://scikit-learn.org/stable/modules/linear_model.html#logistic-regression\n",
      "  n_iter_i = _check_optimize_result(\n",
      "/home/wjy/miniconda3/envs/jupyter/lib/python3.10/site-packages/sklearn/linear_model/_logistic.py:814: ConvergenceWarning: lbfgs failed to converge (status=1):\n",
      "STOP: TOTAL NO. of f AND g EVALUATIONS EXCEEDS LIMIT.\n",
      "\n",
      "Increase the number of iterations (max_iter) or scale the data as shown in:\n",
      "    https://scikit-learn.org/stable/modules/preprocessing.html\n",
      "Please also refer to the documentation for alternative solver options:\n",
      "    https://scikit-learn.org/stable/modules/linear_model.html#logistic-regression\n",
      "  n_iter_i = _check_optimize_result(\n",
      "/home/wjy/miniconda3/envs/jupyter/lib/python3.10/site-packages/sklearn/linear_model/_logistic.py:814: ConvergenceWarning: lbfgs failed to converge (status=1):\n",
      "STOP: TOTAL NO. of f AND g EVALUATIONS EXCEEDS LIMIT.\n",
      "\n",
      "Increase the number of iterations (max_iter) or scale the data as shown in:\n",
      "    https://scikit-learn.org/stable/modules/preprocessing.html\n",
      "Please also refer to the documentation for alternative solver options:\n",
      "    https://scikit-learn.org/stable/modules/linear_model.html#logistic-regression\n",
      "  n_iter_i = _check_optimize_result(\n",
      "/home/wjy/miniconda3/envs/jupyter/lib/python3.10/site-packages/sklearn/linear_model/_logistic.py:814: ConvergenceWarning: lbfgs failed to converge (status=1):\n",
      "STOP: TOTAL NO. of f AND g EVALUATIONS EXCEEDS LIMIT.\n",
      "\n",
      "Increase the number of iterations (max_iter) or scale the data as shown in:\n",
      "    https://scikit-learn.org/stable/modules/preprocessing.html\n",
      "Please also refer to the documentation for alternative solver options:\n",
      "    https://scikit-learn.org/stable/modules/linear_model.html#logistic-regression\n",
      "  n_iter_i = _check_optimize_result(\n",
      "/home/wjy/miniconda3/envs/jupyter/lib/python3.10/site-packages/sklearn/linear_model/_logistic.py:814: ConvergenceWarning: lbfgs failed to converge (status=1):\n",
      "STOP: TOTAL NO. of f AND g EVALUATIONS EXCEEDS LIMIT.\n",
      "\n",
      "Increase the number of iterations (max_iter) or scale the data as shown in:\n",
      "    https://scikit-learn.org/stable/modules/preprocessing.html\n",
      "Please also refer to the documentation for alternative solver options:\n",
      "    https://scikit-learn.org/stable/modules/linear_model.html#logistic-regression\n",
      "  n_iter_i = _check_optimize_result(\n"
     ]
    },
    {
     "name": "stdout",
     "output_type": "stream",
     "text": [
      "Best Penalty: l2\n",
      "Best C: 0.01\n"
     ]
    },
    {
     "data": {
      "text/plain": [
       "0.9575868007290026"
      ]
     },
     "execution_count": 13,
     "metadata": {},
     "output_type": "execute_result"
    }
   ],
   "source": [
    "# Logistic Regression Parameters tunning\n",
    "LR = LogisticRegression(random_state=20220706, class_weight = class_weight, max_iter=10000000)  # 样本不平衡严重，设置权重以缓解\n",
    "# 或者\n",
    "# LR = LogisticRegression(class_weight = 'balanced')  # 自动决定\n",
    "\n",
    "# Create regularization penalty space\n",
    "penalty = [ 'l2']\n",
    "\n",
    "# Create regularization hyperparameter space\n",
    "C = np.logspace(-2, 2)\n",
    "\n",
    "\n",
    "lr_param_grid = {'penalty': penalty, 'C': C }\n",
    "\n",
    "clf = GridSearchCV(LogisticRegression(), lr_param_grid)\n",
    "\n",
    "gsLR = GridSearchCV(LR,param_grid = lr_param_grid, cv=10, scoring=\"roc_auc\", n_jobs= 15, verbose = 1)  # 以roc_auc作为评判标准\n",
    "\n",
    "gsLR.fit(X, label_train)\n",
    "\n",
    "LR_best = gsLR.best_estimator_  # 选择最好的模型（此时参数调至最优）\n",
    "\n",
    "# View best hyperparameters\n",
    "print('Best Penalty:', LR_best.get_params()['penalty'])  # LR_best.get_params()返回的是字典类型的数据，里面包含各个优化后参数的值\n",
    "print('Best C:', LR_best.get_params()['C'])\n",
    "\n",
    "# Best score\n",
    "gsLR.best_score_  # 此score根据GridSearchCV的scoring参数来决定，这里是最好的roc_auc"
   ]
  },
  {
   "cell_type": "code",
   "execution_count": 15,
   "id": "c688053f",
   "metadata": {
    "ExecuteTime": {
     "end_time": "2022-07-05T03:05:29.375936Z",
     "start_time": "2022-07-05T03:05:29.365930Z"
    }
   },
   "outputs": [
    {
     "data": {
      "text/plain": [
       "['other_models/LR_best.m']"
      ]
     },
     "execution_count": 15,
     "metadata": {},
     "output_type": "execute_result"
    }
   ],
   "source": [
    "# 该函数用于快速保存模型，模型文件为LR_best.m\n",
    "joblib.dump(LR_best, \"other_models/LR_best.m\")"
   ]
  },
  {
   "cell_type": "markdown",
   "id": "29ba19ee-e086-4f37-9fb3-2b311576536a",
   "metadata": {
    "tags": []
   },
   "source": [
    "# SVM 调优"
   ]
  },
  {
   "cell_type": "code",
   "execution_count": 23,
   "id": "faa40648",
   "metadata": {
    "ExecuteTime": {
     "end_time": "2022-07-05T05:40:46.234929Z",
     "start_time": "2022-07-05T05:39:44.535704Z"
    }
   },
   "outputs": [
    {
     "name": "stdout",
     "output_type": "stream",
     "text": [
      "Fitting 10 folds for each of 3 candidates, totalling 30 fits\n",
      "{'C': 0.4, 'break_ties': False, 'cache_size': 200, 'class_weight': {0: 2.1942645698427383, 1: 22.590476190476192}, 'coef0': 0.0, 'decision_function_shape': 'ovr', 'degree': 3, 'gamma': 0.0001, 'kernel': 'linear', 'max_iter': -1, 'probability': True, 'random_state': 20220706, 'shrinking': True, 'tol': 0.001, 'verbose': False}\n"
     ]
    },
    {
     "data": {
      "text/plain": [
       "0.9371159608315572"
      ]
     },
     "execution_count": 23,
     "metadata": {},
     "output_type": "execute_result"
    }
   ],
   "source": [
    "### SVC classifier\n",
    "SVMC = SVC(random_state=20220706, probability=True, class_weight = class_weight)\n",
    "\n",
    "#Cs = [0.1,0.2,0.4,0.5]\n",
    "Cs=[0.4]\n",
    "gammas = [0.0001,0.001,0.002]\n",
    "    \n",
    "svc_param_grid = {'kernel': ['linear'], \n",
    "                  'gamma': gammas,\n",
    "                  'C': Cs}\n",
    "\n",
    "gsSVMC = GridSearchCV(SVMC,param_grid = svc_param_grid, cv=10, scoring=\"roc_auc\", n_jobs= 15, verbose = 1)\n",
    "\n",
    "gsSVMC.fit(X, label_train)\n",
    "\n",
    "SVMC_best = gsSVMC.best_estimator_\n",
    "\n",
    "print(SVMC_best.get_params())\n",
    "\n",
    "\n",
    "# Best score\n",
    "gsSVMC.best_score_\n"
   ]
  },
  {
   "cell_type": "code",
   "execution_count": 24,
   "id": "776a9e31",
   "metadata": {
    "ExecuteTime": {
     "end_time": "2022-07-05T05:41:27.548954Z",
     "start_time": "2022-07-05T05:41:27.535364Z"
    }
   },
   "outputs": [
    {
     "data": {
      "text/plain": [
       "['other_models/SVM_best.m']"
      ]
     },
     "execution_count": 24,
     "metadata": {},
     "output_type": "execute_result"
    }
   ],
   "source": [
    "joblib.dump(SVMC_best, \"other_models/SVM_best.m\")##可以再调一下"
   ]
  },
  {
   "cell_type": "markdown",
   "id": "d35756f3-57ed-44f9-b638-3a647e6b5a9e",
   "metadata": {
    "tags": []
   },
   "source": [
    "# XGB 调优"
   ]
  },
  {
   "cell_type": "code",
   "execution_count": 25,
   "id": "4b6636c1",
   "metadata": {},
   "outputs": [],
   "source": [
    "from pandas import MultiIndex\n",
    "from pandas import MultiIndex, Int64Index"
   ]
  },
  {
   "cell_type": "code",
   "execution_count": 242,
   "id": "71c7631a",
   "metadata": {},
   "outputs": [],
   "source": [
    "# 设置正负样本权重--类别权重\n",
    "#class_weight = {0:w_negative, 1:w_positive}  \n",
    "\n",
    "# 设置正负样本权重--样本权重，用于GradientBoostingClassifier、XGBClassifier、KNeighborsClassifier\n",
    "#w_array = np.array([1.0] * X.shape[0])\n",
    "#w_array[label_train == 1] = 22.59\n",
    "#w_array[label_train == 0] = 2.19"
   ]
  },
  {
   "cell_type": "code",
   "execution_count": 28,
   "id": "03147c3e",
   "metadata": {
    "ExecuteTime": {
     "start_time": "2022-07-05T05:46:20.055Z"
    }
   },
   "outputs": [
    {
     "name": "stdout",
     "output_type": "stream",
     "text": [
      "Fitting 5 folds for each of 10 candidates, totalling 50 fits\n",
      "[01:25:03] WARNING: ../src/learner.cc:1115: Starting in XGBoost 1.3.0, the default evaluation metric used with the objective 'binary:logistic' was changed from 'error' to 'logloss'. Explicitly set eval_metric if you'd like to restore the old behavior.\n",
      "{'objective': 'binary:logistic', 'use_label_encoder': False, 'base_score': 0.5, 'booster': 'gbtree', 'colsample_bylevel': 1, 'colsample_bynode': 1, 'colsample_bytree': 0.83333, 'enable_categorical': False, 'gamma': 0.5, 'gpu_id': -1, 'importance_type': None, 'interaction_constraints': '', 'learning_rate': 0.300000012, 'max_delta_step': 0, 'max_depth': 2, 'min_child_weight': 7, 'missing': nan, 'monotone_constraints': '()', 'n_estimators': 100, 'n_jobs': 1, 'num_parallel_tree': 1, 'predictor': 'auto', 'random_state': 20220706, 'reg_alpha': 0, 'reg_lambda': 1, 'scale_pos_weight': 1, 'subsample': 0.6666, 'tree_method': 'exact', 'validate_parameters': 1, 'verbosity': None, 'nthread': 1, 'max_features': None}\n"
     ]
    },
    {
     "data": {
      "text/plain": [
       "0.9890390445305959"
      ]
     },
     "execution_count": 28,
     "metadata": {},
     "output_type": "execute_result"
    }
   ],
   "source": [
    "### XGB classifier 注意，该分类器接受样本权重，而不是类别权重\n",
    "XGB = XGBClassifier(use_label_encoder=False, nthread=1, random_state=20220706,max_features=None)\n",
    "\n",
    "#max_depth = [1,2,4,8,10]\n",
    "max_depth = [2]\n",
    "#min_child_weight = np.linspace(1, 10, 4, endpoint=True) \n",
    "min_child_weight = [7]\n",
    "\n",
    "gamma = np.linspace(0.1,1,10, endpoint=True)\n",
    "#subsample = np.linspace(0.5, 1, 4, endpoint=True)\n",
    "subsample=[0.6666]\n",
    "#colsample_bytree = np.linspace(0.5, 1, 4, endpoint=True)\n",
    "colsample_bytree=[0.83333]\n",
    "XGB_param_grid = {\n",
    "        'min_child_weight': min_child_weight,\n",
    "        'gamma': gamma,\n",
    "        'subsample': subsample,\n",
    "        'colsample_bytree': colsample_bytree,\n",
    "        'max_depth': max_depth\n",
    "        }\n",
    "\n",
    "\n",
    "gsXGB = GridSearchCV(estimator = XGB, \n",
    "                     param_grid = XGB_param_grid, \n",
    "                     cv=5, scoring=\"roc_auc\", \n",
    "                     n_jobs= 15, verbose = 1)\n",
    "\n",
    "gsXGB.fit(X, label_train, sample_weight = w_array)\n",
    "\n",
    "XGB_best = gsXGB.best_estimator_\n",
    "print(XGB_best.get_params())\n",
    "\n",
    "# Best score\n",
    "gsXGB.best_score_"
   ]
  },
  {
   "cell_type": "code",
   "execution_count": 29,
   "id": "7b7c8217",
   "metadata": {},
   "outputs": [
    {
     "data": {
      "text/plain": [
       "['other_models/XGB_besta.m']"
      ]
     },
     "execution_count": 29,
     "metadata": {},
     "output_type": "execute_result"
    }
   ],
   "source": [
    "joblib.dump(XGB_best, \"other_models/XGB_besta.m\")"
   ]
  },
  {
   "cell_type": "markdown",
   "id": "1f5e6c9b-1784-4081-986a-3cc1494001ae",
   "metadata": {
    "tags": []
   },
   "source": [
    "# Random Forest 调优"
   ]
  },
  {
   "cell_type": "code",
   "execution_count": 35,
   "id": "6352ed59",
   "metadata": {},
   "outputs": [
    {
     "name": "stdout",
     "output_type": "stream",
     "text": [
      "Fitting 10 folds for each of 16 candidates, totalling 160 fits\n",
      "{'bootstrap': True, 'ccp_alpha': 0.0, 'class_weight': {0: 2.1942645698427383, 1: 22.590476190476192}, 'criterion': 'gini', 'max_depth': 15, 'max_features': None, 'max_leaf_nodes': None, 'max_samples': None, 'min_impurity_decrease': 0.0, 'min_samples_leaf': 8, 'min_samples_split': 6, 'min_weight_fraction_leaf': 0.0, 'n_estimators': 542, 'n_jobs': None, 'oob_score': False, 'random_state': 20220706, 'verbose': 0, 'warm_start': False}\n"
     ]
    },
    {
     "data": {
      "text/plain": [
       "0.9787833997467026"
      ]
     },
     "execution_count": 35,
     "metadata": {},
     "output_type": "execute_result"
    }
   ],
   "source": [
    "# Random Forest  Parameters tunning \n",
    "RFC = RandomForestClassifier(random_state=20220706, class_weight = class_weight,max_features=None)\n",
    "\n",
    "# Number of trees in random forest\n",
    "#n_estimators = [int(x) for x in np.linspace(start = 200, stop = 1400, num = 8)]\n",
    "n_estimators=[542]\n",
    "# Number of features to consider at every split\n",
    "#max_features = ['auto', 'sqrt']\n",
    "# Maximum number of levels in tree\n",
    "#max_depth = [int(x) for x in np.linspace(1, 20, num = 5)]\n",
    "max_depth=[15]\n",
    "max_depth.append(None)\n",
    "# Minimum number of samples required to split a node\n",
    "min_samples_split = [ 6,7,8,9,]\n",
    "# Minimum number of samples required at each leaf node\n",
    "#min_samples_leaf = [ 5,6,7]\n",
    "min_samples_leaf = [ 8]\n",
    "\n",
    "# Method of selecting samples for training each tree\n",
    "bootstrap = [True, False]\n",
    "\n",
    "## Search grid for optimal parameters\n",
    "rf_param_grid = {\"max_depth\": max_depth,\n",
    "              \"min_samples_split\": min_samples_split,\n",
    "              \"min_samples_leaf\": min_samples_leaf,\n",
    "              \"bootstrap\": bootstrap,\n",
    "              \"n_estimators\" :n_estimators,\n",
    "              \"criterion\": [\"gini\"]}\n",
    "\n",
    "\n",
    "gsRFC = GridSearchCV(RFC,param_grid = rf_param_grid, cv=10, scoring=\"roc_auc\", n_jobs= 15, verbose = 1)\n",
    "\n",
    "gsRFC.fit(X, label_train)\n",
    "\n",
    "RFC_best = gsRFC.best_estimator_\n",
    "\n",
    "print(RFC_best.get_params())\n",
    "\n",
    "\n",
    "# Best score\n",
    "gsRFC.best_score_"
   ]
  },
  {
   "cell_type": "code",
   "execution_count": 59,
   "id": "0481e65a",
   "metadata": {},
   "outputs": [
    {
     "data": {
      "text/plain": [
       "['other_models/RFC_besta.m']"
      ]
     },
     "execution_count": 59,
     "metadata": {},
     "output_type": "execute_result"
    }
   ],
   "source": [
    "joblib.dump(RFC_best, \"other_models/RFC_besta.m\")"
   ]
  },
  {
   "cell_type": "markdown",
   "id": "48311f8f",
   "metadata": {},
   "source": [
    "joblib.dump(RFC_best, \"other_models/RFC_besta.m\")   "
   ]
  },
  {
   "cell_type": "markdown",
   "id": "97e59a21-6675-484a-9582-100f32560015",
   "metadata": {
    "tags": []
   },
   "source": [
    "# Extra Trees 调优"
   ]
  },
  {
   "cell_type": "code",
   "execution_count": 42,
   "id": "14e2f8b2",
   "metadata": {},
   "outputs": [
    {
     "name": "stdout",
     "output_type": "stream",
     "text": [
      "Fitting 10 folds for each of 48 candidates, totalling 480 fits\n"
     ]
    },
    {
     "name": "stderr",
     "output_type": "stream",
     "text": [
      "/home/wjy/miniconda3/envs/jupyter/lib/python3.10/site-packages/sklearn/model_selection/_validation.py:372: FitFailedWarning: \n",
      "160 fits failed out of a total of 480.\n",
      "The score on these train-test partitions for these parameters will be set to nan.\n",
      "If these failures are not expected, you can try to debug them by setting error_score='raise'.\n",
      "\n",
      "Below are more details about the failures:\n",
      "--------------------------------------------------------------------------------\n",
      "80 fits failed with the following error:\n",
      "Traceback (most recent call last):\n",
      "  File \"/home/wjy/miniconda3/envs/jupyter/lib/python3.10/site-packages/sklearn/model_selection/_validation.py\", line 681, in _fit_and_score\n",
      "    estimator.fit(X_train, y_train, **fit_params)\n",
      "  File \"/home/wjy/miniconda3/envs/jupyter/lib/python3.10/site-packages/sklearn/ensemble/_forest.py\", line 442, in fit\n",
      "    trees = Parallel(\n",
      "  File \"/home/wjy/miniconda3/envs/jupyter/lib/python3.10/site-packages/joblib/parallel.py\", line 1043, in __call__\n",
      "    if self.dispatch_one_batch(iterator):\n",
      "  File \"/home/wjy/miniconda3/envs/jupyter/lib/python3.10/site-packages/joblib/parallel.py\", line 861, in dispatch_one_batch\n",
      "    self._dispatch(tasks)\n",
      "  File \"/home/wjy/miniconda3/envs/jupyter/lib/python3.10/site-packages/joblib/parallel.py\", line 779, in _dispatch\n",
      "    job = self._backend.apply_async(batch, callback=cb)\n",
      "  File \"/home/wjy/miniconda3/envs/jupyter/lib/python3.10/site-packages/joblib/_parallel_backends.py\", line 208, in apply_async\n",
      "    result = ImmediateResult(func)\n",
      "  File \"/home/wjy/miniconda3/envs/jupyter/lib/python3.10/site-packages/joblib/_parallel_backends.py\", line 572, in __init__\n",
      "    self.results = batch()\n",
      "  File \"/home/wjy/miniconda3/envs/jupyter/lib/python3.10/site-packages/joblib/parallel.py\", line 262, in __call__\n",
      "    return [func(*args, **kwargs)\n",
      "  File \"/home/wjy/miniconda3/envs/jupyter/lib/python3.10/site-packages/joblib/parallel.py\", line 262, in <listcomp>\n",
      "    return [func(*args, **kwargs)\n",
      "  File \"/home/wjy/miniconda3/envs/jupyter/lib/python3.10/site-packages/sklearn/utils/fixes.py\", line 211, in __call__\n",
      "    return self.function(*args, **kwargs)\n",
      "  File \"/home/wjy/miniconda3/envs/jupyter/lib/python3.10/site-packages/sklearn/ensemble/_forest.py\", line 185, in _parallel_build_trees\n",
      "    tree.fit(X, y, sample_weight=curr_sample_weight, check_input=False)\n",
      "  File \"/home/wjy/miniconda3/envs/jupyter/lib/python3.10/site-packages/sklearn/tree/_classes.py\", line 937, in fit\n",
      "    super().fit(\n",
      "  File \"/home/wjy/miniconda3/envs/jupyter/lib/python3.10/site-packages/sklearn/tree/_classes.py\", line 250, in fit\n",
      "    raise ValueError(\n",
      "ValueError: min_samples_split must be an integer greater than 1 or a float in (0.0, 1.0]; got the integer 1\n",
      "\n",
      "--------------------------------------------------------------------------------\n",
      "80 fits failed with the following error:\n",
      "Traceback (most recent call last):\n",
      "  File \"/home/wjy/miniconda3/envs/jupyter/lib/python3.10/site-packages/sklearn/model_selection/_validation.py\", line 681, in _fit_and_score\n",
      "    estimator.fit(X_train, y_train, **fit_params)\n",
      "  File \"/home/wjy/miniconda3/envs/jupyter/lib/python3.10/site-packages/sklearn/ensemble/_forest.py\", line 442, in fit\n",
      "    trees = Parallel(\n",
      "  File \"/home/wjy/miniconda3/envs/jupyter/lib/python3.10/site-packages/joblib/parallel.py\", line 1043, in __call__\n",
      "    if self.dispatch_one_batch(iterator):\n",
      "  File \"/home/wjy/miniconda3/envs/jupyter/lib/python3.10/site-packages/joblib/parallel.py\", line 861, in dispatch_one_batch\n",
      "    self._dispatch(tasks)\n",
      "  File \"/home/wjy/miniconda3/envs/jupyter/lib/python3.10/site-packages/joblib/parallel.py\", line 779, in _dispatch\n",
      "    job = self._backend.apply_async(batch, callback=cb)\n",
      "  File \"/home/wjy/miniconda3/envs/jupyter/lib/python3.10/site-packages/joblib/_parallel_backends.py\", line 208, in apply_async\n",
      "    result = ImmediateResult(func)\n",
      "  File \"/home/wjy/miniconda3/envs/jupyter/lib/python3.10/site-packages/joblib/_parallel_backends.py\", line 572, in __init__\n",
      "    self.results = batch()\n",
      "  File \"/home/wjy/miniconda3/envs/jupyter/lib/python3.10/site-packages/joblib/parallel.py\", line 262, in __call__\n",
      "    return [func(*args, **kwargs)\n",
      "  File \"/home/wjy/miniconda3/envs/jupyter/lib/python3.10/site-packages/joblib/parallel.py\", line 262, in <listcomp>\n",
      "    return [func(*args, **kwargs)\n",
      "  File \"/home/wjy/miniconda3/envs/jupyter/lib/python3.10/site-packages/sklearn/utils/fixes.py\", line 211, in __call__\n",
      "    return self.function(*args, **kwargs)\n",
      "  File \"/home/wjy/miniconda3/envs/jupyter/lib/python3.10/site-packages/sklearn/ensemble/_forest.py\", line 187, in _parallel_build_trees\n",
      "    tree.fit(X, y, sample_weight=sample_weight, check_input=False)\n",
      "  File \"/home/wjy/miniconda3/envs/jupyter/lib/python3.10/site-packages/sklearn/tree/_classes.py\", line 937, in fit\n",
      "    super().fit(\n",
      "  File \"/home/wjy/miniconda3/envs/jupyter/lib/python3.10/site-packages/sklearn/tree/_classes.py\", line 250, in fit\n",
      "    raise ValueError(\n",
      "ValueError: min_samples_split must be an integer greater than 1 or a float in (0.0, 1.0]; got the integer 1\n",
      "\n",
      "  warnings.warn(some_fits_failed_message, FitFailedWarning)\n",
      "/home/wjy/miniconda3/envs/jupyter/lib/python3.10/site-packages/sklearn/model_selection/_search.py:969: UserWarning: One or more of the test scores are non-finite: [       nan 0.97863443 0.97826576        nan 0.97975311 0.97975311\n",
      "        nan 0.97944506 0.97944506        nan 0.97947031 0.97947031\n",
      "        nan 0.97842824 0.97796026        nan 0.9793205  0.9793205\n",
      "        nan 0.97970431 0.97970431        nan 0.97960754 0.97960754\n",
      "        nan 0.9791723  0.97931965        nan 0.97972284 0.97972284\n",
      "        nan 0.98097195 0.98097195        nan 0.98018325 0.98018325\n",
      "        nan 0.97550968 0.97533593        nan 0.97838538 0.97838538\n",
      "        nan 0.98038527 0.98038527        nan 0.97988192 0.97988192]\n",
      "  warnings.warn(\n"
     ]
    },
    {
     "name": "stdout",
     "output_type": "stream",
     "text": [
      "{'bootstrap': False, 'ccp_alpha': 0.0, 'class_weight': {0: 2.1942645698427383, 1: 22.590476190476192}, 'criterion': 'gini', 'max_depth': 7, 'max_features': None, 'max_leaf_nodes': None, 'max_samples': None, 'min_impurity_decrease': 0.0, 'min_samples_leaf': 5, 'min_samples_split': 2, 'min_weight_fraction_leaf': 0.0, 'n_estimators': 1160, 'n_jobs': None, 'oob_score': False, 'random_state': 20220706, 'verbose': 0, 'warm_start': False}\n"
     ]
    },
    {
     "data": {
      "text/plain": [
       "0.9809719519352547"
      ]
     },
     "execution_count": 42,
     "metadata": {},
     "output_type": "execute_result"
    }
   ],
   "source": [
    "# ExtraTrees Parametersother_models/tunning \n",
    "ETC = ExtraTreesClassifier(random_state=20220706, class_weight = class_weight,max_features=None)\n",
    "\n",
    "# Number of trees in random forest\n",
    "#n_estimators = [int(x) for x in np.linspace(start = 200, stop = 1400, num = 6)]\n",
    "n_estimators=[1160]\n",
    "# Number of features to consider at every split\n",
    "# Maximum number of levels in tree\n",
    "#max_depth = [int(x) for x in np.linspace(5, 15, num = 5)]\n",
    "max_depth=[7]\n",
    "max_depth.append(None)\n",
    "# Minimum number of samples required to split a node\n",
    "min_samples_split = [ 1,2,3]\n",
    "# Minimum number of samples required at each leaf node\n",
    "#min_samples_leaf = [ 4,5,6]\n",
    "min_samples_leaf=[1,3,5,7,]\n",
    "# Method of selecting samples for training each tree\n",
    "bootstrap = [True, False]\n",
    "\n",
    "## Search grid for optimal parameters\n",
    "et_param_grid = {\"max_depth\": max_depth,\n",
    "              \"min_samples_split\": min_samples_split,\n",
    "              \"min_samples_leaf\": min_samples_leaf,\n",
    "              \"bootstrap\": bootstrap,\n",
    "              \"n_estimators\" :n_estimators,\n",
    "              \"criterion\": [\"gini\"]}\n",
    "\n",
    "\n",
    "gsETC = GridSearchCV(ETC,param_grid = et_param_grid, cv=10, scoring=\"roc_auc\", n_jobs= 15, verbose = 1)\n",
    "\n",
    "gsETC.fit(X, label_train)\n",
    "\n",
    "ETC_best = gsETC.best_estimator_\n",
    "\n",
    "print(ETC_best.get_params())\n",
    "\n",
    "# Best score\n",
    "gsETC.best_score_"
   ]
  },
  {
   "cell_type": "code",
   "execution_count": 43,
   "id": "a4999d77-18af-497b-a662-ef0b2f717ad4",
   "metadata": {},
   "outputs": [
    {
     "data": {
      "text/plain": [
       "['other_models/ETC_besta.m']"
      ]
     },
     "execution_count": 43,
     "metadata": {},
     "output_type": "execute_result"
    }
   ],
   "source": [
    "#挑min_samples_leaf，结果变化不大，auc=0.9809\n",
    "joblib.dump(ETC_best, \"other_models/ETC_besta.m\")"
   ]
  },
  {
   "cell_type": "markdown",
   "id": "8de4e853-29c1-4048-a754-a8b355505dc8",
   "metadata": {
    "tags": []
   },
   "source": [
    "# Kneighbors 调优"
   ]
  },
  {
   "cell_type": "code",
   "execution_count": 45,
   "id": "e96ff7d6-e480-42f3-85e8-a0a0b96d0b0a",
   "metadata": {},
   "outputs": [
    {
     "name": "stdout",
     "output_type": "stream",
     "text": [
      "Fitting 10 folds for each of 20 candidates, totalling 200 fits\n",
      "{'algorithm': 'auto', 'leaf_size': 30, 'metric': 'minkowski', 'metric_params': None, 'n_jobs': None, 'n_neighbors': 23, 'p': 2, 'weights': 'distance'}\n"
     ]
    },
    {
     "data": {
      "text/plain": [
       "0.9710414542983349"
      ]
     },
     "execution_count": 45,
     "metadata": {},
     "output_type": "execute_result"
    }
   ],
   "source": [
    "# 构建模型\n",
    "KNB = KNeighborsClassifier(algorithm='auto', leaf_size=30, p=2)\n",
    "\n",
    "# the number of neighbors\n",
    "n_neighbors = [int(x) for x in np.linspace(start = 10, stop = 30, num = 10)]\n",
    "# the form of weight\n",
    "weights = ['uniform', 'distance']\n",
    "\n",
    "## Search grid for optimal parameters\n",
    "kn_param_grid = {\"n_neighbors\": n_neighbors,\n",
    "                 \"weights\": weights}\n",
    "\n",
    "\n",
    "gsKNB = GridSearchCV(KNB, param_grid = kn_param_grid, cv=10, scoring=\"roc_auc\", n_jobs= 15, verbose = 1)\n",
    "\n",
    "gsKNB.fit(X, label_train)\n",
    "\n",
    "KNB_best = gsKNB.best_estimator_\n",
    "\n",
    "print(KNB_best.get_params())\n",
    "\n",
    "\n",
    "# Best score\n",
    "gsKNB.best_score_"
   ]
  },
  {
   "cell_type": "code",
   "execution_count": 46,
   "id": "eca102de-4f96-4d70-b436-acaa40ee78a5",
   "metadata": {},
   "outputs": [
    {
     "data": {
      "text/plain": [
       "['other_models/KNB_best.m']"
      ]
     },
     "execution_count": 46,
     "metadata": {},
     "output_type": "execute_result"
    }
   ],
   "source": [
    "joblib.dump(KNB_best, \"other_models/KNB_best.m\")"
   ]
  },
  {
   "cell_type": "markdown",
   "id": "b28cbe03-4fb9-4b21-b747-56a265f7c43a",
   "metadata": {
    "tags": []
   },
   "source": [
    "# DecisionTree 调优"
   ]
  },
  {
   "cell_type": "code",
   "execution_count": 51,
   "id": "9fbea855-26a2-460f-be0f-3e29db569799",
   "metadata": {},
   "outputs": [
    {
     "name": "stdout",
     "output_type": "stream",
     "text": [
      "Fitting 5 folds for each of 125 candidates, totalling 625 fits\n",
      "{'ccp_alpha': 0.0, 'class_weight': {0: 2.1942645698427383, 1: 22.590476190476192}, 'criterion': 'gini', 'max_depth': 5, 'max_features': None, 'max_leaf_nodes': None, 'min_impurity_decrease': 0.0, 'min_samples_leaf': 5, 'min_samples_split': 30, 'min_weight_fraction_leaf': 0.0, 'random_state': 20220706, 'splitter': 'best'}\n"
     ]
    },
    {
     "data": {
      "text/plain": [
       "0.8779543478084186"
      ]
     },
     "execution_count": 51,
     "metadata": {},
     "output_type": "execute_result"
    }
   ],
   "source": [
    "# 构建初始模型\n",
    "DET = DecisionTreeClassifier(random_state=20220706, class_weight=class_weight,max_features=None)\n",
    "\n",
    "# min_samples_split\n",
    "min_samples_split = [int(x) for x in np.linspace(start = 10, stop = 50, num = 5)]\n",
    "# max_depth\n",
    "max_depth = [int(x) for x in np.linspace(start = 1, stop = 20, num = 5)]\n",
    "# min_samples_leaf\n",
    "min_samples_leaf = [int(x) for x in np.linspace(start = 1, stop = 10, num = 5)]\n",
    "# max features\n",
    "\n",
    "## Search grid for optimal parameters\n",
    "det_param_grid = {\"min_samples_split\": min_samples_split,\n",
    "                 \"max_depth\": max_depth,\n",
    "                 \"min_samples_leaf\" :min_samples_leaf}\n",
    "\n",
    "# 网格搜索范围大，因此采用5折交叉验证以降低运算时间\n",
    "gsDET = GridSearchCV(DET, param_grid = det_param_grid, cv=5, scoring=\"roc_auc\", n_jobs= 15, verbose = 1)\n",
    "\n",
    "gsDET.fit(X, label_train)\n",
    "\n",
    "DET_best = gsDET.best_estimator_\n",
    "\n",
    "print(DET_best.get_params())\n",
    "\n",
    "# Best score\n",
    "gsDET.best_score_"
   ]
  },
  {
   "cell_type": "code",
   "execution_count": 52,
   "id": "ba73a7fc-7676-4d69-a8a9-8e3ad1e415b1",
   "metadata": {},
   "outputs": [
    {
     "data": {
      "text/plain": [
       "['other_models/DET_besta.m']"
      ]
     },
     "execution_count": 52,
     "metadata": {},
     "output_type": "execute_result"
    }
   ],
   "source": [
    "joblib.dump(DET_best, \"other_models/DET_besta.m\")"
   ]
  },
  {
   "cell_type": "markdown",
   "id": "f9ff2f6f-5a99-42a1-8165-3f1e50a47ca2",
   "metadata": {
    "tags": []
   },
   "source": [
    "# AdaBoost 调优"
   ]
  },
  {
   "cell_type": "code",
   "execution_count": 53,
   "id": "2ad0760a-0fa1-412c-9d56-43f64981d7ae",
   "metadata": {},
   "outputs": [
    {
     "name": "stdout",
     "output_type": "stream",
     "text": [
      "Fitting 5 folds for each of 2500 candidates, totalling 12500 fits\n",
      "{'algorithm': 'SAMME.R', 'base_estimator': None, 'learning_rate': 1.265342857142857, 'n_estimators': 18, 'random_state': 20220706}\n"
     ]
    },
    {
     "data": {
      "text/plain": [
       "0.9858399572493275"
      ]
     },
     "execution_count": 53,
     "metadata": {},
     "output_type": "execute_result"
    }
   ],
   "source": [
    "DET_best = joblib.load(\"other_models/DET_besta.m\")\n",
    "# 指定基分类器，默认是决策树，我们采用上面调优的决策树\n",
    "ADA = AdaBoostClassifier(random_state=20220706)\n",
    "\n",
    "n_estimators = [int(x) for x in np.linspace(start = 5, stop = 100, num = 50)]\n",
    "learning_rate = np.linspace(start = 0.0001, stop = 2, num = 50)\n",
    "\n",
    "## Search grid for optimal parameters\n",
    "ada_param_grid = {\"n_estimators\": n_estimators,\n",
    "                  \"learning_rate\": learning_rate}\n",
    "\n",
    "gsADA = GridSearchCV(ADA, param_grid = ada_param_grid, cv=5, scoring=\"roc_auc\", n_jobs= 15, verbose = 1)\n",
    "\n",
    "gsADA.fit(X, label_train)\n",
    "\n",
    "ADA_best = gsADA.best_estimator_\n",
    "\n",
    "print(ADA_best.get_params())\n",
    "\n",
    "# Best score\n",
    "gsADA.best_score_"
   ]
  },
  {
   "cell_type": "code",
   "execution_count": 54,
   "id": "7f9abd32-c892-446d-9f4a-ccc58ad21758",
   "metadata": {},
   "outputs": [
    {
     "data": {
      "text/plain": [
       "['other_models/ADA_besta.m']"
      ]
     },
     "execution_count": 54,
     "metadata": {},
     "output_type": "execute_result"
    }
   ],
   "source": [
    "joblib.dump(ADA_best, \"other_models/ADA_besta.m\")"
   ]
  },
  {
   "cell_type": "code",
   "execution_count": 132,
   "id": "adfa1561",
   "metadata": {},
   "outputs": [],
   "source": [
    "w_array = np.array([1.0] * X.shape[0])\n",
    "w_array[label_train == 1] = 22.59\n",
    "w_array[label_train == 0] = 2.19"
   ]
  },
  {
   "cell_type": "markdown",
   "id": "bff5b58a-747c-4103-a000-f8ebed8f7d2e",
   "metadata": {
    "tags": []
   },
   "source": [
    "# 对GBoosting进行参数调优"
   ]
  },
  {
   "cell_type": "code",
   "execution_count": 57,
   "id": "f3c6a428-7db5-4472-9046-4f789b326322",
   "metadata": {},
   "outputs": [
    {
     "name": "stdout",
     "output_type": "stream",
     "text": [
      "AUC Score (Test Set) is: 0.980541\n",
      "AUC Score (Train Set) is: 1.000000\n",
      "Total runnning time is : 4.190073s\n"
     ]
    }
   ],
   "source": [
    "# 直接用默认的参数试试看\n",
    "import time\n",
    "\n",
    "start = time.time()\n",
    "GBT = GradientBoostingClassifier(random_state=20220706,learning_rate=0.1,max_depth=3,\n",
    "                                n_estimators=680, subsample=0.5,\n",
    "                                 min_samples_split=2, min_samples_leaf=1,max_features=None\n",
    "                                )\n",
    "GBT.fit(X, label_train, sample_weight=w_array)  # 设置样本权重\n",
    "#GBT.fit(X, label_train)  # 设置样本权重\n",
    "y_predprob = GBT.predict_proba(X_test)[:,1]  # 测试集\n",
    "y_predprob_train = GBT.predict_proba(X)[:,1]  # 训练集\n",
    "end = time.time()\n",
    "\n",
    "\n",
    "\n",
    "print(\"AUC Score (Test Set) is: %f\" % roc_auc_score(label_test, y_predprob))\n",
    "print(\"AUC Score (Train Set) is: %f\" % roc_auc_score(label_train, y_predprob_train))\n",
    "print(\"Total runnning time is : %fs\" % (end-start))"
   ]
  },
  {
   "cell_type": "code",
   "execution_count": null,
   "id": "e67c29f9",
   "metadata": {},
   "outputs": [],
   "source": [
    "joblib.dump(GBT, \"GBT/GBT_best_1020.m\")"
   ]
  },
  {
   "cell_type": "markdown",
   "id": "4253c583-0fe0-4050-aa6b-557730b1b99c",
   "metadata": {
    "tags": []
   },
   "source": [
    "# 大致先给出参数范围，后续再继续调优"
   ]
  },
  {
   "cell_type": "code",
   "execution_count": 141,
   "id": "e63ca492-2f5d-4b34-a262-85d09969c168",
   "metadata": {},
   "outputs": [
    {
     "name": "stdout",
     "output_type": "stream",
     "text": [
      "Fitting 5 folds for each of 3500 candidates, totalling 17500 fits\n",
      "{'ccp_alpha': 0.0, 'criterion': 'friedman_mse', 'init': None, 'learning_rate': 0.15, 'loss': 'deviance', 'max_depth': 3, 'max_features': None, 'max_leaf_nodes': None, 'min_impurity_decrease': 0.0, 'min_samples_leaf': 1, 'min_samples_split': 2, 'min_weight_fraction_leaf': 0.0, 'n_estimators': 662, 'n_iter_no_change': None, 'random_state': 20220706, 'subsample': 0.6, 'tol': 0.0001, 'validation_fraction': 0.1, 'verbose': 0, 'warm_start': False}\n"
     ]
    },
    {
     "data": {
      "text/plain": [
       "0.9797060281699299"
      ]
     },
     "execution_count": 141,
     "metadata": {},
     "output_type": "execute_result"
    }
   ],
   "source": [
    "# GBoosting Parameters tunning \n",
    "GBT_tuning = GradientBoostingClassifier(random_state=20220706,max_features=None)\n",
    "\n",
    "# learning rate\n",
    "learning_rate = [0.1,0.15,0.2,0.25,0.3]\n",
    "# Number of trees in random forest\n",
    "n_estimators = [int(x) for x in np.linspace(start = 600, stop = 800, num = 100)]\n",
    "# Number of features to consider at every split\n",
    "# subsample \n",
    "subsample = [0.5,0.6, 0.7, 0.75,0.8, 0.85, 0.9]\n",
    "\n",
    "## Search grid for optimal parameters\n",
    "gbt_param_grid = {\"learning_rate\": learning_rate,\n",
    "                 #\"max_features\": max_features,\n",
    "                 \"n_estimators\" :n_estimators,\n",
    "                 \"subsample\": subsample\n",
    "                 }\n",
    "\n",
    "# 网格搜索范围大，因此采用5折交叉验证以降低运算时间\n",
    "gsGBT = GridSearchCV(GBT_tuning, param_grid = gbt_param_grid, cv=5, scoring=\"roc_auc\", n_jobs= 15, verbose = 1)\n",
    "\n",
    "gsGBT.fit(X, label_train, sample_weight=w_array)\n",
    "\n",
    "GBT_best = gsGBT.best_estimator_\n",
    "\n",
    "print(GBT_best.get_params())\n",
    "\n",
    "# Best score\n",
    "gsGBT.best_score_"
   ]
  },
  {
   "cell_type": "code",
   "execution_count": 143,
   "id": "5a2a620d-b6ae-4f61-920f-38444391d6cf",
   "metadata": {},
   "outputs": [
    {
     "name": "stdout",
     "output_type": "stream",
     "text": [
      "AUC Score (Test Set) is: 0.977143\n",
      "AUC Score (Train Set) is: 1.000000\n"
     ]
    },
    {
     "data": {
      "text/plain": [
       "['GBT/GBT_best_1a.m']"
      ]
     },
     "execution_count": 143,
     "metadata": {},
     "output_type": "execute_result"
    }
   ],
   "source": [
    "# 所得模型在测试集和验证集上的AUC分数\n",
    "train_prob = GBT_best.predict_proba(X)[:,1]\n",
    "test_prob = GBT_best.predict_proba(X_test)[:,1]\n",
    "\n",
    "print(\"AUC Score (Test Set) is: %f\" % roc_auc_score(label_test, test_prob))\n",
    "print(\"AUC Score (Train Set) is: %f\" % roc_auc_score(label_train, train_prob))\n",
    "\n",
    "# 保存模型\n",
    "#joblib.dump(GBT_best, \"GBT/GBT_best_1a.m\")"
   ]
  },
  {
   "cell_type": "markdown",
   "id": "7aa77aa4-a9a0-4f60-85c1-df1ab91a3a6b",
   "metadata": {
    "tags": []
   },
   "source": [
    "# 以上述所调参数为基础，继续调整其它参数"
   ]
  },
  {
   "cell_type": "code",
   "execution_count": 143,
   "id": "c9f70a05-8d8d-4c41-96eb-026436342999",
   "metadata": {
    "tags": []
   },
   "outputs": [
    {
     "name": "stdout",
     "output_type": "stream",
     "text": [
      "Fitting 5 folds for each of 2500 candidates, totalling 12500 fits\n"
     ]
    },
    {
     "name": "stderr",
     "output_type": "stream",
     "text": [
      "/home/wjy/miniconda3/envs/jupyter/lib/python3.10/site-packages/sklearn/model_selection/_validation.py:372: FitFailedWarning: \n",
      "125 fits failed out of a total of 12500.\n",
      "The score on these train-test partitions for these parameters will be set to nan.\n",
      "If these failures are not expected, you can try to debug them by setting error_score='raise'.\n",
      "\n",
      "Below are more details about the failures:\n",
      "--------------------------------------------------------------------------------\n",
      "125 fits failed with the following error:\n",
      "Traceback (most recent call last):\n",
      "  File \"/home/wjy/miniconda3/envs/jupyter/lib/python3.10/site-packages/sklearn/model_selection/_validation.py\", line 681, in _fit_and_score\n",
      "    estimator.fit(X_train, y_train, **fit_params)\n",
      "  File \"/home/wjy/miniconda3/envs/jupyter/lib/python3.10/site-packages/sklearn/ensemble/_gb.py\", line 586, in fit\n",
      "    n_stages = self._fit_stages(\n",
      "  File \"/home/wjy/miniconda3/envs/jupyter/lib/python3.10/site-packages/sklearn/ensemble/_gb.py\", line 663, in _fit_stages\n",
      "    raw_predictions = self._fit_stage(\n",
      "  File \"/home/wjy/miniconda3/envs/jupyter/lib/python3.10/site-packages/sklearn/ensemble/_gb.py\", line 246, in _fit_stage\n",
      "    tree.fit(X, residual, sample_weight=sample_weight, check_input=False)\n",
      "  File \"/home/wjy/miniconda3/envs/jupyter/lib/python3.10/site-packages/sklearn/tree/_classes.py\", line 1315, in fit\n",
      "    super().fit(\n",
      "  File \"/home/wjy/miniconda3/envs/jupyter/lib/python3.10/site-packages/sklearn/tree/_classes.py\", line 250, in fit\n",
      "    raise ValueError(\n",
      "ValueError: min_samples_split must be an integer greater than 1 or a float in (0.0, 1.0]; got the integer 1\n",
      "\n",
      "  warnings.warn(some_fits_failed_message, FitFailedWarning)\n",
      "/home/wjy/miniconda3/envs/jupyter/lib/python3.10/site-packages/sklearn/model_selection/_search.py:969: UserWarning: One or more of the test scores are non-finite: [       nan 0.96963889 0.96963889 ... 0.97271312 0.96907281 0.96632734]\n",
      "  warnings.warn(\n"
     ]
    },
    {
     "name": "stdout",
     "output_type": "stream",
     "text": [
      "{'ccp_alpha': 0.0, 'criterion': 'friedman_mse', 'init': None, 'learning_rate': 0.15, 'loss': 'deviance', 'max_depth': 4, 'max_features': None, 'max_leaf_nodes': None, 'min_impurity_decrease': 0.0, 'min_samples_leaf': 1, 'min_samples_split': 242, 'min_weight_fraction_leaf': 0.0, 'n_estimators': 662, 'n_iter_no_change': None, 'random_state': 20220706, 'subsample': 0.6, 'tol': 0.0001, 'validation_fraction': 0.1, 'verbose': 0, 'warm_start': False}\n"
     ]
    },
    {
     "data": {
      "text/plain": [
       "0.9822149887434067"
      ]
     },
     "execution_count": 143,
     "metadata": {},
     "output_type": "execute_result"
    }
   ],
   "source": [
    "GBT_tuning = GradientBoostingClassifier(random_state=20220706, learning_rate=0.15,\n",
    "                                    n_estimators=662, subsample=0.6,max_features=None)  # 采用之前优化的参数\n",
    "\n",
    "# 调整 min_samples_split, max_depth 和 min_samples_leaf\n",
    "# min_samples_split\n",
    "min_samples_split = [int(x) for x in np.linspace(start = 1, stop = 300, num = 100)]\n",
    "# max_depth\n",
    "max_depth = [int(x) for x in np.linspace(start = 1, stop = 8, num = 5)]\n",
    "# min_samples_leaf\n",
    "min_samples_leaf = [int(x) for x in np.linspace(start = 1, stop = 3, num = 5)]\n",
    "\n",
    "## Search grid for optimal parameters\n",
    "gbt_param_grid = {\"min_samples_split\": min_samples_split,\n",
    "                 \"max_depth\": max_depth,\n",
    "                 \"min_samples_leaf\" :min_samples_leaf}\n",
    "\n",
    "gsGBT = GridSearchCV(GBT_tuning, param_grid = gbt_param_grid, cv=5, scoring=\"roc_auc\", n_jobs= 15, verbose = 1)\n",
    "\n",
    "gsGBT.fit(X, label_train, sample_weight=w_array)\n",
    "\n",
    "GBT_best = gsGBT.best_estimator_\n",
    "\n",
    "print(GBT_best.get_params())\n",
    "\n",
    "# Best score\n",
    "gsGBT.best_score_"
   ]
  },
  {
   "cell_type": "code",
   "execution_count": 145,
   "id": "a8afdb99-31a6-41a6-8825-37cebef52146",
   "metadata": {},
   "outputs": [
    {
     "name": "stdout",
     "output_type": "stream",
     "text": [
      "AUC Score (Test Set) is: 0.980232\n",
      "AUC Score (Train Set) is: 1.000000\n"
     ]
    },
    {
     "data": {
      "text/plain": [
       "['GBT/GBT_best_2.m']"
      ]
     },
     "execution_count": 145,
     "metadata": {},
     "output_type": "execute_result"
    }
   ],
   "source": [
    "# 所得模型在测试集和验证集上的AUC分数\n",
    "train_prob = GBT_best.predict_proba(X)[:,1]\n",
    "test_prob = GBT_best.predict_proba(X_test)[:,1]\n",
    "\n",
    "print(\"AUC Score (Test Set) is: %f\" % roc_auc_score(label_test, test_prob))\n",
    "print(\"AUC Score (Train Set) is: %f\" % roc_auc_score(label_train, train_prob))\n",
    "\n",
    "# 保存模型\n",
    "joblib.dump(GBT_best, \"GBT/GBT_best_2.m\")"
   ]
  },
  {
   "cell_type": "markdown",
   "id": "6852137e-5c0d-482a-a409-acd22a5a0197",
   "metadata": {
    "tags": []
   },
   "source": [
    "# 对单个参数进行调优"
   ]
  },
  {
   "cell_type": "code",
   "execution_count": 151,
   "id": "00ab0b81-6489-4f96-80f4-e6fdb0fb5981",
   "metadata": {},
   "outputs": [
    {
     "name": "stdout",
     "output_type": "stream",
     "text": [
      "Fitting 5 folds for each of 10 candidates, totalling 50 fits\n",
      "{'ccp_alpha': 0.0, 'criterion': 'friedman_mse', 'init': None, 'learning_rate': 0.15555555555555556, 'loss': 'deviance', 'max_depth': 4, 'max_features': None, 'max_leaf_nodes': None, 'min_impurity_decrease': 0.0, 'min_samples_leaf': 1, 'min_samples_split': 242, 'min_weight_fraction_leaf': 0.0, 'n_estimators': 662, 'n_iter_no_change': None, 'random_state': 20220706, 'subsample': 0.6, 'tol': 0.0001, 'validation_fraction': 0.1, 'verbose': 0, 'warm_start': False}\n"
     ]
    },
    {
     "data": {
      "text/plain": [
       "0.9806738107429351"
      ]
     },
     "execution_count": 151,
     "metadata": {},
     "output_type": "execute_result"
    }
   ],
   "source": [
    "# 对learning rate 调优\n",
    "GBT_tuning = GradientBoostingClassifier(random_state=20220706,\n",
    "                                        max_features=None, n_estimators=662, subsample=0.6,\n",
    "                                        min_samples_split=242, min_samples_leaf=1, max_depth=4)  # 采用之前优化的参数\n",
    "\n",
    "learning_rate = np.linspace(0.1, 0.2, 10)\n",
    "## Search grid for optimal parameters\n",
    "gbt_param_grid = {\"learning_rate\": learning_rate}\n",
    "\n",
    "gsGBT = GridSearchCV(GBT_tuning, param_grid=gbt_param_grid, cv=5, scoring=\"roc_auc\", n_jobs= 20, verbose = 1)\n",
    "\n",
    "gsGBT.fit(X, label_train, sample_weight=w_array)\n",
    "\n",
    "GBT_best = gsGBT.best_estimator_\n",
    "\n",
    "print(GBT_best.get_params())\n",
    "\n",
    "# Best score\n",
    "gsGBT.best_score_"
   ]
  },
  {
   "cell_type": "code",
   "execution_count": 152,
   "id": "a66ce456-0524-4772-a14d-03df19838e01",
   "metadata": {},
   "outputs": [
    {
     "name": "stdout",
     "output_type": "stream",
     "text": [
      "AUC Score (Test Set) is: 0.980386\n",
      "AUC Score (Train Set) is: 1.000000\n"
     ]
    }
   ],
   "source": [
    "# 所得模型在测试集和验证集上的AUC分数\n",
    "train_prob = GBT_best.predict_proba(X)[:,1]\n",
    "test_prob = GBT_best.predict_proba(X_test)[:,1]\n",
    "\n",
    "print(\"AUC Score (Test Set) is: %f\" % roc_auc_score(label_test, test_prob))\n",
    "print(\"AUC Score (Train Set) is: %f\" % roc_auc_score(label_train, train_prob))\n",
    "\n",
    "# 保存模型\n",
    "#joblib.dump(GBT_best, \"GBT/GBT_best_3a.m\")"
   ]
  },
  {
   "cell_type": "code",
   "execution_count": 153,
   "id": "d718040e-f338-428f-923c-c03752e9128c",
   "metadata": {},
   "outputs": [
    {
     "name": "stdout",
     "output_type": "stream",
     "text": [
      "Fitting 5 folds for each of 300 candidates, totalling 1500 fits\n",
      "{'ccp_alpha': 0.0, 'criterion': 'friedman_mse', 'init': None, 'learning_rate': 0.1555555, 'loss': 'deviance', 'max_depth': 4, 'max_features': None, 'max_leaf_nodes': None, 'min_impurity_decrease': 0.0, 'min_samples_leaf': 1, 'min_samples_split': 244, 'min_weight_fraction_leaf': 0.0, 'n_estimators': 759, 'n_iter_no_change': None, 'random_state': 20220706, 'subsample': 0.6, 'tol': 0.0001, 'validation_fraction': 0.1, 'verbose': 0, 'warm_start': False}\n"
     ]
    },
    {
     "data": {
      "text/plain": [
       "0.9802265948195288"
      ]
     },
     "execution_count": 153,
     "metadata": {},
     "output_type": "execute_result"
    }
   ],
   "source": [
    "# 对 n_estimators 调优\n",
    "GBT_tuning = GradientBoostingClassifier(random_state=20220706, learning_rate = 0.1555555,\n",
    "                                        max_features=None, subsample=0.6,\n",
    "                                        min_samples_split=244, min_samples_leaf=1, max_depth=4)  # 采用之前优化的参数\n",
    "\n",
    "n_estimators = [int(x) for x in np.linspace(start = 600, stop = 800, num = 300)]\n",
    "\n",
    "## Search grid for optimal parameters\n",
    "gbt_param_grid = {\"n_estimators\": n_estimators}\n",
    "\n",
    "gsGBT = GridSearchCV(GBT_tuning, param_grid=gbt_param_grid, cv=5, scoring=\"roc_auc\", n_jobs= 20, verbose = 1)\n",
    "\n",
    "gsGBT.fit(X, label_train, sample_weight=w_array)\n",
    "\n",
    "GBT_best = gsGBT.best_estimator_\n",
    "\n",
    "print(GBT_best.get_params())\n",
    "\n",
    "# Best score\n",
    "gsGBT.best_score_"
   ]
  },
  {
   "cell_type": "code",
   "execution_count": 155,
   "id": "4aa4ec33-a046-4bc8-924a-3f34c7b7b9e7",
   "metadata": {},
   "outputs": [
    {
     "name": "stdout",
     "output_type": "stream",
     "text": [
      "AUC Score (Test Set) is: 0.982394\n",
      "AUC Score (Train Set) is: 1.000000\n"
     ]
    },
    {
     "data": {
      "text/plain": [
       "['GBT/GBT_best_3.m']"
      ]
     },
     "execution_count": 155,
     "metadata": {},
     "output_type": "execute_result"
    }
   ],
   "source": [
    "# 所得模型在测试集和验证集上的AUC分数\n",
    "train_prob = GBT_best.predict_proba(X)[:,1]\n",
    "test_prob = GBT_best.predict_proba(X_test)[:,1]\n",
    "\n",
    "print(\"AUC Score (Test Set) is: %f\" % roc_auc_score(label_test, test_prob))\n",
    "print(\"AUC Score (Train Set) is: %f\" % roc_auc_score(label_train, train_prob))\n",
    "\n",
    "# 保存模型\n",
    "joblib.dump(GBT_best, \"GBT/GBT_best_3.m\")"
   ]
  },
  {
   "cell_type": "code",
   "execution_count": 98,
   "id": "1df59725",
   "metadata": {},
   "outputs": [
    {
     "name": "stdout",
     "output_type": "stream",
     "text": [
      "Train AUC is 1.000000\n",
      "Test AUC is 0.933202\n"
     ]
    }
   ],
   "source": [
    "#挑选特征的模型\n",
    "gbm = GradientBoostingClassifier(random_state=1, max_depth=9, learning_rate=0.01, subsample=0.8, \n",
    "                                 min_samples_leaf=2, n_estimators=737)\n",
    "\n",
    "gbm.fit(X, label_train, sample_weight=w_array)\n",
    "\n",
    "print(\"Train AUC is %f\" % roc_auc_score(label_train, gbm.predict_proba(X)[:,1]))\n",
    "print(\"Test AUC is %f\" % roc_auc_score(label_test, gbm.predict_proba(X_test)[:,1]))"
   ]
  },
  {
   "cell_type": "code",
   "execution_count": 99,
   "id": "07c39b88",
   "metadata": {},
   "outputs": [
    {
     "data": {
      "text/plain": [
       "Counter({True: 16, False: 64})"
      ]
     },
     "execution_count": 99,
     "metadata": {},
     "output_type": "execute_result"
    }
   ],
   "source": [
    "# 挑选特征\n",
    "Counter(gbm.feature_importances_ >= 0.01)"
   ]
  },
  {
   "cell_type": "code",
   "execution_count": 100,
   "id": "4668b7aa",
   "metadata": {},
   "outputs": [],
   "source": [
    "mask = gbm.feature_importances_ >= 0.01"
   ]
  },
  {
   "cell_type": "code",
   "execution_count": 200,
   "id": "b28bb8d3",
   "metadata": {},
   "outputs": [
    {
     "name": "stdout",
     "output_type": "stream",
     "text": [
      "Train AUC is 1.000000\n",
      "Test AUC is 0.927302\n"
     ]
    },
    {
     "data": {
      "text/plain": [
       "['GBT/GBT_best_y.m']"
      ]
     },
     "execution_count": 200,
     "metadata": {},
     "output_type": "execute_result"
    }
   ],
   "source": [
    "X_train_select = X[:,mask]\n",
    "X_test_select = X_test[:,mask]\n",
    "alldata_select=alldata[:,mask]\n",
    "\n",
    "gbm = GradientBoostingClassifier(random_state=1, max_depth=10, learning_rate=0.01, subsample=0.8, \n",
    "                                 min_samples_leaf=2, n_estimators=737)\n",
    "\n",
    "gbm.fit(X_train_select, label_train, sample_weight=w_array)\n",
    "\n",
    "\n",
    "print(\"Train AUC is %f\" % roc_auc_score(label_train, gbm.predict_proba(X_train_select)[:,1]))\n",
    "print(\"Test AUC is %f\" % roc_auc_score(label_test, gbm.predict_proba(X_test_select)[:,1]))\n",
    "joblib.dump(gbm, \"GBT/GBT_best_y.m\")"
   ]
  },
  {
   "cell_type": "markdown",
   "id": "9422975b-ccc2-4734-9208-96a012768f87",
   "metadata": {},
   "source": [
    "# 用测试集检验各个模型的效果"
   ]
  },
  {
   "cell_type": "code",
   "execution_count": 156,
   "id": "6b293dea",
   "metadata": {},
   "outputs": [],
   "source": [
    "# 加载各个模型\n",
    "SVMC_best = joblib.load(\"other_models/SVM_best.m\")\n",
    "ETC_best = joblib.load(\"other_models/ETC_besta.m\")\n",
    "RFC_best = joblib.load(\"other_models/RFC_besta.m\")\n",
    "XGB_best = joblib.load(\"other_models/XGB_besta.m\")\n",
    "LR_best = joblib.load(\"other_models/LR_best.m\")\n",
    "ADA_best = joblib.load(\"other_models/ADA_besta.m\")\n",
    "DET_best = joblib.load(\"other_models/DET_besta.m\")\n",
    "KNB_best = joblib.load(\"other_models/KNB_best.m\")\n",
    "GBT_best = joblib.load(\"GBT/GBT_best_3.m\")  # 在测试集上最优\n",
    "#GBTy_best = joblib.load(\"GBT/GBT_best_y.m\")#yao"
   ]
  },
  {
   "cell_type": "code",
   "execution_count": 183,
   "id": "ee6f30a1",
   "metadata": {},
   "outputs": [
    {
     "ename": "ValueError",
     "evalue": "Found input variables with inconsistent numbers of samples: [284, 284, 1186]",
     "output_type": "error",
     "traceback": [
      "\u001b[0;31m---------------------------------------------------------------------------\u001b[0m",
      "\u001b[0;31mValueError\u001b[0m                                Traceback (most recent call last)",
      "Input \u001b[0;32mIn [183]\u001b[0m, in \u001b[0;36m<cell line: 5>\u001b[0;34m()\u001b[0m\n\u001b[1;32m      2\u001b[0m \u001b[38;5;28;01mfrom\u001b[39;00m \u001b[38;5;21;01msklearn\u001b[39;00m\u001b[38;5;21;01m.\u001b[39;00m\u001b[38;5;21;01mmetrics\u001b[39;00m \u001b[38;5;28;01mimport\u001b[39;00m accuracy_score, recall_score, precision_score, roc_auc_score, f1_score, log_loss\n\u001b[1;32m      3\u001b[0m \u001b[38;5;66;03m#sns.set_theme(font='Helvetica')\u001b[39;00m\n\u001b[1;32m      5\u001b[0m accuracy_test \u001b[38;5;241m=\u001b[39m {\u001b[38;5;124m\"\u001b[39m\u001b[38;5;124mAlgorithm\u001b[39m\u001b[38;5;124m\"\u001b[39m:[\u001b[38;5;124m\"\u001b[39m\u001b[38;5;124mExtraTrees\u001b[39m\u001b[38;5;124m\"\u001b[39m,\n\u001b[1;32m      6\u001b[0m                               \u001b[38;5;124m\"\u001b[39m\u001b[38;5;124mRandomForest\u001b[39m\u001b[38;5;124m\"\u001b[39m,\n\u001b[1;32m      7\u001b[0m                               \u001b[38;5;124m\"\u001b[39m\u001b[38;5;124mLogisticRegression\u001b[39m\u001b[38;5;124m\"\u001b[39m, \u001b[38;5;124m\"\u001b[39m\u001b[38;5;124mSVM\u001b[39m\u001b[38;5;124m\"\u001b[39m,\n\u001b[1;32m      8\u001b[0m                               \u001b[38;5;124m\"\u001b[39m\u001b[38;5;124mXGBoost\u001b[39m\u001b[38;5;124m\"\u001b[39m, \u001b[38;5;124m\"\u001b[39m\u001b[38;5;124mAdaBoost\u001b[39m\u001b[38;5;124m\"\u001b[39m, \u001b[38;5;124m\"\u001b[39m\u001b[38;5;124mDecisionTree\u001b[39m\u001b[38;5;124m\"\u001b[39m,\n\u001b[1;32m      9\u001b[0m                               \u001b[38;5;124m\"\u001b[39m\u001b[38;5;124mKNeighbors\u001b[39m\u001b[38;5;124m\"\u001b[39m, \u001b[38;5;124m\"\u001b[39m\u001b[38;5;124mGradientBoosting\u001b[39m\u001b[38;5;124m\"\u001b[39m],\n\u001b[1;32m     10\u001b[0m                  \u001b[38;5;124m\"\u001b[39m\u001b[38;5;124mAUC\u001b[39m\u001b[38;5;124m\"\u001b[39m: [roc_auc_score(label_test, ETC_best\u001b[38;5;241m.\u001b[39mpredict_proba(X_test)[:,\u001b[38;5;241m1\u001b[39m]),\n\u001b[1;32m     11\u001b[0m                          roc_auc_score(label_test, RFC_best\u001b[38;5;241m.\u001b[39mpredict_proba(X_test)[:,\u001b[38;5;241m1\u001b[39m]),\n\u001b[1;32m     12\u001b[0m                          roc_auc_score(label_test, LR_best\u001b[38;5;241m.\u001b[39mpredict_proba(X_test)[:,\u001b[38;5;241m1\u001b[39m]),\n\u001b[1;32m     13\u001b[0m                          roc_auc_score(label_test, SVMC_best\u001b[38;5;241m.\u001b[39mpredict_proba(X_test)[:,\u001b[38;5;241m1\u001b[39m]),\n\u001b[1;32m     14\u001b[0m                          roc_auc_score(label_test, XGB_best\u001b[38;5;241m.\u001b[39mpredict_proba(X_test)[:,\u001b[38;5;241m1\u001b[39m]),\n\u001b[1;32m     15\u001b[0m                          roc_auc_score(label_test, ADA_best\u001b[38;5;241m.\u001b[39mpredict_proba(X_test)[:,\u001b[38;5;241m1\u001b[39m]),\n\u001b[1;32m     16\u001b[0m                          roc_auc_score(label_test, DET_best\u001b[38;5;241m.\u001b[39mpredict_proba(X_test)[:,\u001b[38;5;241m1\u001b[39m]),\n\u001b[1;32m     17\u001b[0m                          roc_auc_score(label_test, KNB_best\u001b[38;5;241m.\u001b[39mpredict_proba(X_test)[:,\u001b[38;5;241m1\u001b[39m]),\n\u001b[1;32m     18\u001b[0m                          \u001b[38;5;66;03m#roc_auc_score(label_test, GBTy_best.predict_proba(X_test_select)[:,1]),\u001b[39;00m\n\u001b[1;32m     19\u001b[0m                          roc_auc_score(label_test, GBT_best\u001b[38;5;241m.\u001b[39mpredict_proba(X_test)[:,\u001b[38;5;241m1\u001b[39m]),\n\u001b[1;32m     20\u001b[0m                          ],\n\u001b[1;32m     21\u001b[0m                  \u001b[38;5;124m\"\u001b[39m\u001b[38;5;124mAccuracy\u001b[39m\u001b[38;5;124m\"\u001b[39m:[accuracy_score(label_test, ETC_best\u001b[38;5;241m.\u001b[39mpredict(X_test)),\n\u001b[1;32m     22\u001b[0m                              accuracy_score(label_test, RFC_best\u001b[38;5;241m.\u001b[39mpredict(X_test)),\n\u001b[1;32m     23\u001b[0m                              accuracy_score(label_test, LR_best\u001b[38;5;241m.\u001b[39mpredict(X_test)),\n\u001b[1;32m     24\u001b[0m                              accuracy_score(label_test, SVMC_best\u001b[38;5;241m.\u001b[39mpredict(X_test)),\n\u001b[1;32m     25\u001b[0m                              accuracy_score(label_test, XGB_best\u001b[38;5;241m.\u001b[39mpredict(X_test)),\n\u001b[1;32m     26\u001b[0m                              accuracy_score(label_test, ADA_best\u001b[38;5;241m.\u001b[39mpredict(X_test)),\n\u001b[1;32m     27\u001b[0m                              accuracy_score(label_test, DET_best\u001b[38;5;241m.\u001b[39mpredict(X_test)),\n\u001b[1;32m     28\u001b[0m                              accuracy_score(label_test, KNB_best\u001b[38;5;241m.\u001b[39mpredict(X_test)),\n\u001b[1;32m     29\u001b[0m                              \u001b[38;5;66;03m#accuracy_score(label_test, GBTy_best.predict(X_test_select)),\u001b[39;00m\n\u001b[1;32m     30\u001b[0m                              accuracy_score(label_test, GBT_best\u001b[38;5;241m.\u001b[39mpredict(X_test)),\n\u001b[1;32m     31\u001b[0m                             ],\n\u001b[1;32m     32\u001b[0m                  \u001b[38;5;124m\"\u001b[39m\u001b[38;5;124mRecall\u001b[39m\u001b[38;5;124m\"\u001b[39m:[recall_score(label_test, ETC_best\u001b[38;5;241m.\u001b[39mpredict(X_test)),\n\u001b[1;32m     33\u001b[0m                            recall_score(label_test, RFC_best\u001b[38;5;241m.\u001b[39mpredict(X_test)),\n\u001b[1;32m     34\u001b[0m                            recall_score(label_test, LR_best\u001b[38;5;241m.\u001b[39mpredict(X_test)),\n\u001b[1;32m     35\u001b[0m                            recall_score(label_test, SVMC_best\u001b[38;5;241m.\u001b[39mpredict(X_test)),\n\u001b[1;32m     36\u001b[0m                            recall_score(label_test, XGB_best\u001b[38;5;241m.\u001b[39mpredict(X_test)),\n\u001b[1;32m     37\u001b[0m                            recall_score(label_test, ADA_best\u001b[38;5;241m.\u001b[39mpredict(X_test)),\n\u001b[1;32m     38\u001b[0m                            recall_score(label_test, DET_best\u001b[38;5;241m.\u001b[39mpredict(X_test)),\n\u001b[1;32m     39\u001b[0m                            recall_score(label_test, KNB_best\u001b[38;5;241m.\u001b[39mpredict(X_test)),\n\u001b[1;32m     40\u001b[0m                            \u001b[38;5;66;03m#recall_score(label_test, GBTy_best.predict(X_test_select)),\u001b[39;00m\n\u001b[1;32m     41\u001b[0m                            recall_score(label_test, GBT_best\u001b[38;5;241m.\u001b[39mpredict(X_test)),\n\u001b[1;32m     42\u001b[0m                           ],\n\u001b[1;32m     43\u001b[0m                  \u001b[38;5;66;03m#\"Precision\":[precision_score(label_test, ETC_best.predict(X_test),average='weighted'),\u001b[39;00m\n\u001b[1;32m     44\u001b[0m                               \u001b[38;5;66;03m#precision_score(label_test, RFC_best.predict(X_test),average='weighted'),\u001b[39;00m\n\u001b[1;32m     45\u001b[0m                               \u001b[38;5;66;03m#precision_score(label_test, LR_best.predict(X_test),average='weighted'),\u001b[39;00m\n\u001b[1;32m     46\u001b[0m                               \u001b[38;5;66;03m#precision_score(label_test, SVMC_best.predict(X_test),average='weighted'),\u001b[39;00m\n\u001b[1;32m     47\u001b[0m                               \u001b[38;5;66;03m#precision_score(label_test, XGB_best.predict(X_test),average='weighted'),\u001b[39;00m\n\u001b[1;32m     48\u001b[0m                               \u001b[38;5;66;03m#precision_score(label_test, ADA_best.predict(X_test),average='weighted'),\u001b[39;00m\n\u001b[1;32m     49\u001b[0m                               \u001b[38;5;66;03m#precision_score(label_test, DET_best.predict(X_test),average='weighted'),\u001b[39;00m\n\u001b[1;32m     50\u001b[0m                               \u001b[38;5;66;03m#precision_score(label_test, KNB_best.predict(X_test),average='weighted'),\u001b[39;00m\n\u001b[1;32m     51\u001b[0m                               \u001b[38;5;66;03m#precision_score(label_test, GBT_best.predict(X_test),average='weighted'),\u001b[39;00m\n\u001b[1;32m     52\u001b[0m                              \u001b[38;5;66;03m#],\u001b[39;00m\n\u001b[0;32m---> 53\u001b[0m                  \u001b[38;5;124m\"\u001b[39m\u001b[38;5;124mPrecision\u001b[39m\u001b[38;5;124m\"\u001b[39m:[\u001b[43mprecision_score\u001b[49m\u001b[43m(\u001b[49m\u001b[43mlabel_test\u001b[49m\u001b[43m,\u001b[49m\u001b[43m \u001b[49m\u001b[43mETC_best\u001b[49m\u001b[38;5;241;43m.\u001b[39;49m\u001b[43mpredict\u001b[49m\u001b[43m(\u001b[49m\u001b[43mX_test\u001b[49m\u001b[43m)\u001b[49m\u001b[43m,\u001b[49m\u001b[43maverage\u001b[49m\u001b[38;5;241;43m=\u001b[39;49m\u001b[38;5;124;43m'\u001b[39;49m\u001b[38;5;124;43mweighted\u001b[39;49m\u001b[38;5;124;43m'\u001b[39;49m\u001b[43m,\u001b[49m\u001b[43msample_weight\u001b[49m\u001b[38;5;241;43m=\u001b[39;49m\u001b[43mw_array\u001b[49m\u001b[43m)\u001b[49m,\n\u001b[1;32m     54\u001b[0m                               precision_score(label_test, RFC_best\u001b[38;5;241m.\u001b[39mpredict(X_test),average\u001b[38;5;241m=\u001b[39m\u001b[38;5;124m'\u001b[39m\u001b[38;5;124mweighted\u001b[39m\u001b[38;5;124m'\u001b[39m,sample_weight\u001b[38;5;241m=\u001b[39mw_array),\n\u001b[1;32m     55\u001b[0m                               precision_score(label_test, LR_best\u001b[38;5;241m.\u001b[39mpredict(X_test),average\u001b[38;5;241m=\u001b[39m\u001b[38;5;124m'\u001b[39m\u001b[38;5;124mweighted\u001b[39m\u001b[38;5;124m'\u001b[39m,sample_weight\u001b[38;5;241m=\u001b[39mw_array),\n\u001b[1;32m     56\u001b[0m                               precision_score(label_test, SVMC_best\u001b[38;5;241m.\u001b[39mpredict(X_test),average\u001b[38;5;241m=\u001b[39m\u001b[38;5;124m'\u001b[39m\u001b[38;5;124mweighted\u001b[39m\u001b[38;5;124m'\u001b[39m,sample_weight\u001b[38;5;241m=\u001b[39mw_array),\n\u001b[1;32m     57\u001b[0m                               precision_score(label_test, XGB_best\u001b[38;5;241m.\u001b[39mpredict(X_test),average\u001b[38;5;241m=\u001b[39m\u001b[38;5;124m'\u001b[39m\u001b[38;5;124mweighted\u001b[39m\u001b[38;5;124m'\u001b[39m,sample_weight\u001b[38;5;241m=\u001b[39mw_array),\n\u001b[1;32m     58\u001b[0m                               precision_score(label_test, ADA_best\u001b[38;5;241m.\u001b[39mpredict(X_test),average\u001b[38;5;241m=\u001b[39m\u001b[38;5;124m'\u001b[39m\u001b[38;5;124mweighted\u001b[39m\u001b[38;5;124m'\u001b[39m,sample_weight\u001b[38;5;241m=\u001b[39mw_array),\n\u001b[1;32m     59\u001b[0m                               precision_score(label_test, DET_best\u001b[38;5;241m.\u001b[39mpredict(X_test),average\u001b[38;5;241m=\u001b[39m\u001b[38;5;124m'\u001b[39m\u001b[38;5;124mweighted\u001b[39m\u001b[38;5;124m'\u001b[39m,sample_weight\u001b[38;5;241m=\u001b[39mw_array),\n\u001b[1;32m     60\u001b[0m                               precision_score(label_test, KNB_best\u001b[38;5;241m.\u001b[39mpredict(X_test),average\u001b[38;5;241m=\u001b[39m\u001b[38;5;124m'\u001b[39m\u001b[38;5;124mweighted\u001b[39m\u001b[38;5;124m'\u001b[39m,sample_weight\u001b[38;5;241m=\u001b[39mw_array),\n\u001b[1;32m     61\u001b[0m                               \u001b[38;5;66;03m#precision_score(label_test, GBTy_best.predict(X_test_select),average='weighted'),\u001b[39;00m\n\u001b[1;32m     62\u001b[0m                               precision_score(label_test, GBT_best\u001b[38;5;241m.\u001b[39mpredict(X_test),average\u001b[38;5;241m=\u001b[39m\u001b[38;5;124m'\u001b[39m\u001b[38;5;124mweighted\u001b[39m\u001b[38;5;124m'\u001b[39m),\n\u001b[1;32m     63\u001b[0m                              ],\n\u001b[1;32m     64\u001b[0m                  \n\u001b[1;32m     65\u001b[0m                  \u001b[38;5;124m\"\u001b[39m\u001b[38;5;124mF1\u001b[39m\u001b[38;5;124m\"\u001b[39m:[f1_score(label_test, ETC_best\u001b[38;5;241m.\u001b[39mpredict(X_test)),\n\u001b[1;32m     66\u001b[0m                              f1_score(label_test, RFC_best\u001b[38;5;241m.\u001b[39mpredict(X_test)),\n\u001b[1;32m     67\u001b[0m                              f1_score(label_test, LR_best\u001b[38;5;241m.\u001b[39mpredict(X_test)),\n\u001b[1;32m     68\u001b[0m                              f1_score(label_test, SVMC_best\u001b[38;5;241m.\u001b[39mpredict(X_test)),\n\u001b[1;32m     69\u001b[0m                              f1_score(label_test, XGB_best\u001b[38;5;241m.\u001b[39mpredict(X_test)),\n\u001b[1;32m     70\u001b[0m                              f1_score(label_test, ADA_best\u001b[38;5;241m.\u001b[39mpredict(X_test)),\n\u001b[1;32m     71\u001b[0m                              f1_score(label_test, DET_best\u001b[38;5;241m.\u001b[39mpredict(X_test)),\n\u001b[1;32m     72\u001b[0m                              f1_score(label_test, KNB_best\u001b[38;5;241m.\u001b[39mpredict(X_test)),\n\u001b[1;32m     73\u001b[0m                              \u001b[38;5;66;03m#f1_score(label_test, GBTy_best.predict(X_test_select)),\u001b[39;00m\n\u001b[1;32m     74\u001b[0m                              accuracy_score(label_test, GBT_best\u001b[38;5;241m.\u001b[39mpredict(X_test)),\n\u001b[1;32m     75\u001b[0m                      \n\u001b[1;32m     76\u001b[0m                  ]\n\u001b[1;32m     77\u001b[0m                 }\n\u001b[1;32m     79\u001b[0m accuracy_test \u001b[38;5;241m=\u001b[39m pd\u001b[38;5;241m.\u001b[39mDataFrame(accuracy_test)\n\u001b[1;32m     80\u001b[0m accuracy_test\u001b[38;5;241m.\u001b[39mindex \u001b[38;5;241m=\u001b[39m accuracy_test[\u001b[38;5;124m\"\u001b[39m\u001b[38;5;124mAlgorithm\u001b[39m\u001b[38;5;124m\"\u001b[39m]\n",
      "File \u001b[0;32m~/miniconda3/envs/jupyter/lib/python3.10/site-packages/sklearn/metrics/_classification.py:1738\u001b[0m, in \u001b[0;36mprecision_score\u001b[0;34m(y_true, y_pred, labels, pos_label, average, sample_weight, zero_division)\u001b[0m\n\u001b[1;32m   1618\u001b[0m \u001b[38;5;28;01mdef\u001b[39;00m \u001b[38;5;21mprecision_score\u001b[39m(\n\u001b[1;32m   1619\u001b[0m     y_true,\n\u001b[1;32m   1620\u001b[0m     y_pred,\n\u001b[0;32m   (...)\u001b[0m\n\u001b[1;32m   1626\u001b[0m     zero_division\u001b[38;5;241m=\u001b[39m\u001b[38;5;124m\"\u001b[39m\u001b[38;5;124mwarn\u001b[39m\u001b[38;5;124m\"\u001b[39m,\n\u001b[1;32m   1627\u001b[0m ):\n\u001b[1;32m   1628\u001b[0m     \u001b[38;5;124;03m\"\"\"Compute the precision.\u001b[39;00m\n\u001b[1;32m   1629\u001b[0m \n\u001b[1;32m   1630\u001b[0m \u001b[38;5;124;03m    The precision is the ratio ``tp / (tp + fp)`` where ``tp`` is the number of\u001b[39;00m\n\u001b[0;32m   (...)\u001b[0m\n\u001b[1;32m   1736\u001b[0m \u001b[38;5;124;03m    array([0.5, 1. , 1. ])\u001b[39;00m\n\u001b[1;32m   1737\u001b[0m \u001b[38;5;124;03m    \"\"\"\u001b[39;00m\n\u001b[0;32m-> 1738\u001b[0m     p, _, _, _ \u001b[38;5;241m=\u001b[39m \u001b[43mprecision_recall_fscore_support\u001b[49m\u001b[43m(\u001b[49m\n\u001b[1;32m   1739\u001b[0m \u001b[43m        \u001b[49m\u001b[43my_true\u001b[49m\u001b[43m,\u001b[49m\n\u001b[1;32m   1740\u001b[0m \u001b[43m        \u001b[49m\u001b[43my_pred\u001b[49m\u001b[43m,\u001b[49m\n\u001b[1;32m   1741\u001b[0m \u001b[43m        \u001b[49m\u001b[43mlabels\u001b[49m\u001b[38;5;241;43m=\u001b[39;49m\u001b[43mlabels\u001b[49m\u001b[43m,\u001b[49m\n\u001b[1;32m   1742\u001b[0m \u001b[43m        \u001b[49m\u001b[43mpos_label\u001b[49m\u001b[38;5;241;43m=\u001b[39;49m\u001b[43mpos_label\u001b[49m\u001b[43m,\u001b[49m\n\u001b[1;32m   1743\u001b[0m \u001b[43m        \u001b[49m\u001b[43maverage\u001b[49m\u001b[38;5;241;43m=\u001b[39;49m\u001b[43maverage\u001b[49m\u001b[43m,\u001b[49m\n\u001b[1;32m   1744\u001b[0m \u001b[43m        \u001b[49m\u001b[43mwarn_for\u001b[49m\u001b[38;5;241;43m=\u001b[39;49m\u001b[43m(\u001b[49m\u001b[38;5;124;43m\"\u001b[39;49m\u001b[38;5;124;43mprecision\u001b[39;49m\u001b[38;5;124;43m\"\u001b[39;49m\u001b[43m,\u001b[49m\u001b[43m)\u001b[49m\u001b[43m,\u001b[49m\n\u001b[1;32m   1745\u001b[0m \u001b[43m        \u001b[49m\u001b[43msample_weight\u001b[49m\u001b[38;5;241;43m=\u001b[39;49m\u001b[43msample_weight\u001b[49m\u001b[43m,\u001b[49m\n\u001b[1;32m   1746\u001b[0m \u001b[43m        \u001b[49m\u001b[43mzero_division\u001b[49m\u001b[38;5;241;43m=\u001b[39;49m\u001b[43mzero_division\u001b[49m\u001b[43m,\u001b[49m\n\u001b[1;32m   1747\u001b[0m \u001b[43m    \u001b[49m\u001b[43m)\u001b[49m\n\u001b[1;32m   1748\u001b[0m     \u001b[38;5;28;01mreturn\u001b[39;00m p\n",
      "File \u001b[0;32m~/miniconda3/envs/jupyter/lib/python3.10/site-packages/sklearn/metrics/_classification.py:1538\u001b[0m, in \u001b[0;36mprecision_recall_fscore_support\u001b[0;34m(y_true, y_pred, beta, labels, pos_label, average, warn_for, sample_weight, zero_division)\u001b[0m\n\u001b[1;32m   1536\u001b[0m \u001b[38;5;66;03m# Calculate tp_sum, pred_sum, true_sum ###\u001b[39;00m\n\u001b[1;32m   1537\u001b[0m samplewise \u001b[38;5;241m=\u001b[39m average \u001b[38;5;241m==\u001b[39m \u001b[38;5;124m\"\u001b[39m\u001b[38;5;124msamples\u001b[39m\u001b[38;5;124m\"\u001b[39m\n\u001b[0;32m-> 1538\u001b[0m MCM \u001b[38;5;241m=\u001b[39m \u001b[43mmultilabel_confusion_matrix\u001b[49m\u001b[43m(\u001b[49m\n\u001b[1;32m   1539\u001b[0m \u001b[43m    \u001b[49m\u001b[43my_true\u001b[49m\u001b[43m,\u001b[49m\n\u001b[1;32m   1540\u001b[0m \u001b[43m    \u001b[49m\u001b[43my_pred\u001b[49m\u001b[43m,\u001b[49m\n\u001b[1;32m   1541\u001b[0m \u001b[43m    \u001b[49m\u001b[43msample_weight\u001b[49m\u001b[38;5;241;43m=\u001b[39;49m\u001b[43msample_weight\u001b[49m\u001b[43m,\u001b[49m\n\u001b[1;32m   1542\u001b[0m \u001b[43m    \u001b[49m\u001b[43mlabels\u001b[49m\u001b[38;5;241;43m=\u001b[39;49m\u001b[43mlabels\u001b[49m\u001b[43m,\u001b[49m\n\u001b[1;32m   1543\u001b[0m \u001b[43m    \u001b[49m\u001b[43msamplewise\u001b[49m\u001b[38;5;241;43m=\u001b[39;49m\u001b[43msamplewise\u001b[49m\u001b[43m,\u001b[49m\n\u001b[1;32m   1544\u001b[0m \u001b[43m\u001b[49m\u001b[43m)\u001b[49m\n\u001b[1;32m   1545\u001b[0m tp_sum \u001b[38;5;241m=\u001b[39m MCM[:, \u001b[38;5;241m1\u001b[39m, \u001b[38;5;241m1\u001b[39m]\n\u001b[1;32m   1546\u001b[0m pred_sum \u001b[38;5;241m=\u001b[39m tp_sum \u001b[38;5;241m+\u001b[39m MCM[:, \u001b[38;5;241m0\u001b[39m, \u001b[38;5;241m1\u001b[39m]\n",
      "File \u001b[0;32m~/miniconda3/envs/jupyter/lib/python3.10/site-packages/sklearn/metrics/_classification.py:477\u001b[0m, in \u001b[0;36mmultilabel_confusion_matrix\u001b[0;34m(y_true, y_pred, sample_weight, labels, samplewise)\u001b[0m\n\u001b[1;32m    475\u001b[0m \u001b[38;5;28;01mif\u001b[39;00m sample_weight \u001b[38;5;129;01mis\u001b[39;00m \u001b[38;5;129;01mnot\u001b[39;00m \u001b[38;5;28;01mNone\u001b[39;00m:\n\u001b[1;32m    476\u001b[0m     sample_weight \u001b[38;5;241m=\u001b[39m column_or_1d(sample_weight)\n\u001b[0;32m--> 477\u001b[0m \u001b[43mcheck_consistent_length\u001b[49m\u001b[43m(\u001b[49m\u001b[43my_true\u001b[49m\u001b[43m,\u001b[49m\u001b[43m \u001b[49m\u001b[43my_pred\u001b[49m\u001b[43m,\u001b[49m\u001b[43m \u001b[49m\u001b[43msample_weight\u001b[49m\u001b[43m)\u001b[49m\n\u001b[1;32m    479\u001b[0m \u001b[38;5;28;01mif\u001b[39;00m y_type \u001b[38;5;129;01mnot\u001b[39;00m \u001b[38;5;129;01min\u001b[39;00m (\u001b[38;5;124m\"\u001b[39m\u001b[38;5;124mbinary\u001b[39m\u001b[38;5;124m\"\u001b[39m, \u001b[38;5;124m\"\u001b[39m\u001b[38;5;124mmulticlass\u001b[39m\u001b[38;5;124m\"\u001b[39m, \u001b[38;5;124m\"\u001b[39m\u001b[38;5;124mmultilabel-indicator\u001b[39m\u001b[38;5;124m\"\u001b[39m):\n\u001b[1;32m    480\u001b[0m     \u001b[38;5;28;01mraise\u001b[39;00m \u001b[38;5;167;01mValueError\u001b[39;00m(\u001b[38;5;124m\"\u001b[39m\u001b[38;5;132;01m%s\u001b[39;00m\u001b[38;5;124m is not supported\u001b[39m\u001b[38;5;124m\"\u001b[39m \u001b[38;5;241m%\u001b[39m y_type)\n",
      "File \u001b[0;32m~/miniconda3/envs/jupyter/lib/python3.10/site-packages/sklearn/utils/validation.py:331\u001b[0m, in \u001b[0;36mcheck_consistent_length\u001b[0;34m(*arrays)\u001b[0m\n\u001b[1;32m    329\u001b[0m uniques \u001b[38;5;241m=\u001b[39m np\u001b[38;5;241m.\u001b[39munique(lengths)\n\u001b[1;32m    330\u001b[0m \u001b[38;5;28;01mif\u001b[39;00m \u001b[38;5;28mlen\u001b[39m(uniques) \u001b[38;5;241m>\u001b[39m \u001b[38;5;241m1\u001b[39m:\n\u001b[0;32m--> 331\u001b[0m     \u001b[38;5;28;01mraise\u001b[39;00m \u001b[38;5;167;01mValueError\u001b[39;00m(\n\u001b[1;32m    332\u001b[0m         \u001b[38;5;124m\"\u001b[39m\u001b[38;5;124mFound input variables with inconsistent numbers of samples: \u001b[39m\u001b[38;5;132;01m%r\u001b[39;00m\u001b[38;5;124m\"\u001b[39m\n\u001b[1;32m    333\u001b[0m         \u001b[38;5;241m%\u001b[39m [\u001b[38;5;28mint\u001b[39m(l) \u001b[38;5;28;01mfor\u001b[39;00m l \u001b[38;5;129;01min\u001b[39;00m lengths]\n\u001b[1;32m    334\u001b[0m     )\n",
      "\u001b[0;31mValueError\u001b[0m: Found input variables with inconsistent numbers of samples: [284, 284, 1186]"
     ]
    },
    {
     "name": "stdout",
     "output_type": "stream",
     "text": [
      "[10:40:48] WARNING: ../src/learner.cc:1115: Starting in XGBoost 1.3.0, the default evaluation metric used with the objective 'binary:logistic' was changed from 'error' to 'logloss'. Explicitly set eval_metric if you'd like to restore the old behavior.\n",
      "[10:43:27] WARNING: ../src/learner.cc:1115: Starting in XGBoost 1.3.0, the default evaluation metric used with the objective 'binary:logistic' was changed from 'error' to 'logloss'. Explicitly set eval_metric if you'd like to restore the old behavior.\n",
      "[10:40:48] WARNING: ../src/learner.cc:1115: Starting in XGBoost 1.3.0, the default evaluation metric used with the objective 'binary:logistic' was changed from 'error' to 'logloss'. Explicitly set eval_metric if you'd like to restore the old behavior.\n",
      "[10:43:27] WARNING: ../src/learner.cc:1115: Starting in XGBoost 1.3.0, the default evaluation metric used with the objective 'binary:logistic' was changed from 'error' to 'logloss'. Explicitly set eval_metric if you'd like to restore the old behavior.\n",
      "[10:40:48] WARNING: ../src/learner.cc:1115: Starting in XGBoost 1.3.0, the default evaluation metric used with the objective 'binary:logistic' was changed from 'error' to 'logloss'. Explicitly set eval_metric if you'd like to restore the old behavior.\n",
      "[10:43:27] WARNING: ../src/learner.cc:1115: Starting in XGBoost 1.3.0, the default evaluation metric used with the objective 'binary:logistic' was changed from 'error' to 'logloss'. Explicitly set eval_metric if you'd like to restore the old behavior.\n",
      "[10:40:48] WARNING: ../src/learner.cc:1115: Starting in XGBoost 1.3.0, the default evaluation metric used with the objective 'binary:logistic' was changed from 'error' to 'logloss'. Explicitly set eval_metric if you'd like to restore the old behavior.\n",
      "[10:43:27] WARNING: ../src/learner.cc:1115: Starting in XGBoost 1.3.0, the default evaluation metric used with the objective 'binary:logistic' was changed from 'error' to 'logloss'. Explicitly set eval_metric if you'd like to restore the old behavior.\n",
      "[10:40:48] WARNING: ../src/learner.cc:1115: Starting in XGBoost 1.3.0, the default evaluation metric used with the objective 'binary:logistic' was changed from 'error' to 'logloss'. Explicitly set eval_metric if you'd like to restore the old behavior.\n",
      "[10:43:27] WARNING: ../src/learner.cc:1115: Starting in XGBoost 1.3.0, the default evaluation metric used with the objective 'binary:logistic' was changed from 'error' to 'logloss'. Explicitly set eval_metric if you'd like to restore the old behavior.\n",
      "[10:40:48] WARNING: ../src/learner.cc:1115: Starting in XGBoost 1.3.0, the default evaluation metric used with the objective 'binary:logistic' was changed from 'error' to 'logloss'. Explicitly set eval_metric if you'd like to restore the old behavior.\n",
      "[10:43:27] WARNING: ../src/learner.cc:1115: Starting in XGBoost 1.3.0, the default evaluation metric used with the objective 'binary:logistic' was changed from 'error' to 'logloss'. Explicitly set eval_metric if you'd like to restore the old behavior.\n",
      "[10:40:48] WARNING: ../src/learner.cc:1115: Starting in XGBoost 1.3.0, the default evaluation metric used with the objective 'binary:logistic' was changed from 'error' to 'logloss'. Explicitly set eval_metric if you'd like to restore the old behavior.\n",
      "[10:43:27] WARNING: ../src/learner.cc:1115: Starting in XGBoost 1.3.0, the default evaluation metric used with the objective 'binary:logistic' was changed from 'error' to 'logloss'. Explicitly set eval_metric if you'd like to restore the old behavior.\n",
      "[10:40:48] WARNING: ../src/learner.cc:1115: Starting in XGBoost 1.3.0, the default evaluation metric used with the objective 'binary:logistic' was changed from 'error' to 'logloss'. Explicitly set eval_metric if you'd like to restore the old behavior.\n",
      "[10:40:48] WARNING: ../src/learner.cc:1115: Starting in XGBoost 1.3.0, the default evaluation metric used with the objective 'binary:logistic' was changed from 'error' to 'logloss'. Explicitly set eval_metric if you'd like to restore the old behavior.\n",
      "[10:43:27] WARNING: ../src/learner.cc:1115: Starting in XGBoost 1.3.0, the default evaluation metric used with the objective 'binary:logistic' was changed from 'error' to 'logloss'. Explicitly set eval_metric if you'd like to restore the old behavior.\n",
      "[10:43:27] WARNING: ../src/learner.cc:1115: Starting in XGBoost 1.3.0, the default evaluation metric used with the objective 'binary:logistic' was changed from 'error' to 'logloss'. Explicitly set eval_metric if you'd like to restore the old behavior.\n",
      "[10:43:27] WARNING: ../src/learner.cc:1115: Starting in XGBoost 1.3.0, the default evaluation metric used with the objective 'binary:logistic' was changed from 'error' to 'logloss'. Explicitly set eval_metric if you'd like to restore the old behavior.\n",
      "[10:40:48] WARNING: ../src/learner.cc:1115: Starting in XGBoost 1.3.0, the default evaluation metric used with the objective 'binary:logistic' was changed from 'error' to 'logloss'. Explicitly set eval_metric if you'd like to restore the old behavior.\n"
     ]
    }
   ],
   "source": [
    "# 用测试集检验模型，采取四个指标\n",
    "from sklearn.metrics import accuracy_score, recall_score, precision_score, roc_auc_score, f1_score, log_loss\n",
    "#sns.set_theme(font='Helvetica')\n",
    "\n",
    "accuracy_test = {\"Algorithm\":[\"ExtraTrees\",\n",
    "                              \"RandomForest\",\n",
    "                              \"LogisticRegression\", \"SVM\",\n",
    "                              \"XGBoost\", \"AdaBoost\", \"DecisionTree\",\n",
    "                              \"KNeighbors\", \"GradientBoosting\"],\n",
    "                 \"AUC\": [roc_auc_score(label_test, ETC_best.predict_proba(X_test)[:,1]),\n",
    "                         roc_auc_score(label_test, RFC_best.predict_proba(X_test)[:,1]),\n",
    "                         roc_auc_score(label_test, LR_best.predict_proba(X_test)[:,1]),\n",
    "                         roc_auc_score(label_test, SVMC_best.predict_proba(X_test)[:,1]),\n",
    "                         roc_auc_score(label_test, XGB_best.predict_proba(X_test)[:,1]),\n",
    "                         roc_auc_score(label_test, ADA_best.predict_proba(X_test)[:,1]),\n",
    "                         roc_auc_score(label_test, DET_best.predict_proba(X_test)[:,1]),\n",
    "                         roc_auc_score(label_test, KNB_best.predict_proba(X_test)[:,1]),\n",
    "                         #roc_auc_score(label_test, GBTy_best.predict_proba(X_test_select)[:,1]),\n",
    "                         roc_auc_score(label_test, GBT_best.predict_proba(X_test)[:,1]),\n",
    "                         ],\n",
    "                 \"Accuracy\":[accuracy_score(label_test, ETC_best.predict(X_test)),\n",
    "                             accuracy_score(label_test, RFC_best.predict(X_test)),\n",
    "                             accuracy_score(label_test, LR_best.predict(X_test)),\n",
    "                             accuracy_score(label_test, SVMC_best.predict(X_test)),\n",
    "                             accuracy_score(label_test, XGB_best.predict(X_test)),\n",
    "                             accuracy_score(label_test, ADA_best.predict(X_test)),\n",
    "                             accuracy_score(label_test, DET_best.predict(X_test)),\n",
    "                             accuracy_score(label_test, KNB_best.predict(X_test)),\n",
    "                             #accuracy_score(label_test, GBTy_best.predict(X_test_select)),\n",
    "                             accuracy_score(label_test, GBT_best.predict(X_test)),\n",
    "                            ],\n",
    "                 \"Recall\":[recall_score(label_test, ETC_best.predict(X_test)),\n",
    "                           recall_score(label_test, RFC_best.predict(X_test)),\n",
    "                           recall_score(label_test, LR_best.predict(X_test)),\n",
    "                           recall_score(label_test, SVMC_best.predict(X_test)),\n",
    "                           recall_score(label_test, XGB_best.predict(X_test)),\n",
    "                           recall_score(label_test, ADA_best.predict(X_test)),\n",
    "                           recall_score(label_test, DET_best.predict(X_test)),\n",
    "                           recall_score(label_test, KNB_best.predict(X_test)),\n",
    "                           #recall_score(label_test, GBTy_best.predict(X_test_select)),\n",
    "                           recall_score(label_test, GBT_best.predict(X_test)),\n",
    "                          ],\n",
    "                 #\"Precision\":[precision_score(label_test, ETC_best.predict(X_test),average='weighted'),\n",
    "                              #precision_score(label_test, RFC_best.predict(X_test),average='weighted'),\n",
    "                              #precision_score(label_test, LR_best.predict(X_test),average='weighted'),\n",
    "                              #precision_score(label_test, SVMC_best.predict(X_test),average='weighted'),\n",
    "                              #precision_score(label_test, XGB_best.predict(X_test),average='weighted'),\n",
    "                              #precision_score(label_test, ADA_best.predict(X_test),average='weighted'),\n",
    "                              #precision_score(label_test, DET_best.predict(X_test),average='weighted'),\n",
    "                              #precision_score(label_test, KNB_best.predict(X_test),average='weighted'),\n",
    "                              #precision_score(label_test, GBT_best.predict(X_test),average='weighted'),\n",
    "                             #],\n",
    "                 \"Precision\":[precision_score(label_test, ETC_best.predict(X_test),average='weighted',sample_weight=w_array),\n",
    "                              precision_score(label_test, RFC_best.predict(X_test),average='weighted',sample_weight=w_array),\n",
    "                              precision_score(label_test, LR_best.predict(X_test),average='weighted',sample_weight=w_array),\n",
    "                              precision_score(label_test, SVMC_best.predict(X_test),average='weighted',sample_weight=w_array),\n",
    "                              precision_score(label_test, XGB_best.predict(X_test),average='weighted',sample_weight=w_array),\n",
    "                              precision_score(label_test, ADA_best.predict(X_test),average='weighted',sample_weight=w_array),\n",
    "                              precision_score(label_test, DET_best.predict(X_test),average='weighted',sample_weight=w_array),\n",
    "                              precision_score(label_test, KNB_best.predict(X_test),average='weighted',sample_weight=w_array),\n",
    "                              #precision_score(label_test, GBTy_best.predict(X_test_select),average='weighted'),\n",
    "                              precision_score(label_test, GBT_best.predict(X_test),average='weighted'),\n",
    "                             ],\n",
    "                 \n",
    "                 \"F1\":[f1_score(label_test, ETC_best.predict(X_test)),\n",
    "                             f1_score(label_test, RFC_best.predict(X_test)),\n",
    "                             f1_score(label_test, LR_best.predict(X_test)),\n",
    "                             f1_score(label_test, SVMC_best.predict(X_test)),\n",
    "                             f1_score(label_test, XGB_best.predict(X_test)),\n",
    "                             f1_score(label_test, ADA_best.predict(X_test)),\n",
    "                             f1_score(label_test, DET_best.predict(X_test)),\n",
    "                             f1_score(label_test, KNB_best.predict(X_test)),\n",
    "                             #f1_score(label_test, GBTy_best.predict(X_test_select)),\n",
    "                             accuracy_score(label_test, GBT_best.predict(X_test)),\n",
    "                     \n",
    "                 ]\n",
    "                }\n",
    "\n",
    "accuracy_test = pd.DataFrame(accuracy_test)\n",
    "accuracy_test.index = accuracy_test[\"Algorithm\"]\n",
    "accuracy_test.pop(\"Algorithm\")\n",
    "\n"
   ]
  },
  {
   "cell_type": "code",
   "execution_count": 185,
   "id": "46d12e1b",
   "metadata": {
    "scrolled": true
   },
   "outputs": [
    {
     "data": {
      "image/png": "[encoded data removed]",
      "text/plain": [
       "<Figure size 936x1440 with 2 Axes>"
      ]
     },
     "metadata": {},
     "output_type": "display_data"
    }
   ],
   "source": [
    "from matplotlib.colors import LinearSegmentedColormap\n",
    "\n",
    "fig = plt.figure(figsize=(13,20))\n",
    "##出图存为pdf用AI可改！\n",
    "mpl.rcParams['pdf.fonttype'] = 42\n",
    "mpl.rcParams['ps.fonttype'] = 42\n",
    "#plt.rcParams['svg.fonttype'] = 'none'\n",
    "#cmap = plt.get_cmap(\"Oranges\", revels.values.max()-revels.values.min()+1)\n",
    "#cmap = LinearSegmentedColormap.from_list(\"\",['ghostwhite','white', 'w','cornsilk', 'orange','darkorange','chocolate','orangered'],N=10000)\n",
    "g = sns.heatmap(accuracy_test, annot = True, fmt = \".3g\",cbar=True,vmin=0.5,vmax=1,annot_kws = {'fontsize':18},\n",
    "                cbar_kws={\"shrink\": 0.5},\n",
    "                #cmap=cmap,\n",
    "                cmap=\"YlOrBr\",\n",
    "                yticklabels='auto')\n",
    "#\"Oranges\"\n",
    "g.xaxis.tick_top()\n",
    "g.yaxis.label.set_visible(False)\n",
    "g.set_yticklabels(g.get_yticklabels(),rotation=360) ##字体旋转才能横放？\n",
    "plt.xticks(fontsize=20)\n",
    "plt.yticks(fontsize=20)\n",
    "                  \n",
    "#plt.savefig(\"ML_method_result.svg\", dpi = 700,bbox_inches='tight')\n",
    "plt.savefig(\"ML_method_result_ai.pdf\", dpi = 700,bbox_inches='tight')"
   ]
  },
  {
   "cell_type": "code",
   "execution_count": 161,
   "id": "33bd5a11",
   "metadata": {},
   "outputs": [
    {
     "data": {
      "text/plain": [
       "{'Algorithm': ['ExtraTrees',\n",
       "  'RandomForest',\n",
       "  'LogisticRegression',\n",
       "  'SVM',\n",
       "  'XGBoost',\n",
       "  'AdaBoost',\n",
       "  'DecisionTree',\n",
       "  'KNeighbors',\n",
       "  'GradientBoosting'],\n",
       " 'log loss': [1.2161709913158036,\n",
       "  1.4594046264821825,\n",
       "  1.0945527659906598,\n",
       "  1.5810115898716899,\n",
       "  1.0945471350228415,\n",
       "  1.2161653603479856,\n",
       "  2.918826145867819,\n",
       "  1.5810031434199625,\n",
       "  0.971830985915493]}"
      ]
     },
     "execution_count": 161,
     "metadata": {},
     "output_type": "execute_result"
    }
   ],
   "source": [
    "lgloss = {\n",
    "    \"Algorithm\":[\"ExtraTrees\",\n",
    "                              \"RandomForest\",\n",
    "                              \"LogisticRegression\", \"SVM\",\n",
    "                              \"XGBoost\", \"AdaBoost\", \"DecisionTree\",\n",
    "                              \"KNeighbors\", \"GradientBoosting\"\n",
    "                ],\n",
    "    \n",
    "    \"log loss\":[log_loss(label_test, ETC_best.predict(X_test)),\n",
    "                             log_loss(label_test, RFC_best.predict(X_test)),\n",
    "                             log_loss(label_test, LR_best.predict(X_test)),\n",
    "                             log_loss(label_test, SVMC_best.predict(X_test)),\n",
    "                             log_loss(label_test, XGB_best.predict(X_test)),\n",
    "                             log_loss(label_test, ADA_best.predict(X_test)),\n",
    "                             log_loss(label_test, DET_best.predict(X_test)),\n",
    "                             log_loss(label_test, KNB_best.predict(X_test)),\n",
    "                             #log_loss(label_test, GBTy_best.predict(X_test_select)),\n",
    "                             accuracy_score(label_test, GBT_best.predict(X_test)),\n",
    "                     \n",
    "                 ]\n",
    "    \n",
    "}\n",
    "lgloss"
   ]
  },
  {
   "cell_type": "code",
   "execution_count": 162,
   "id": "7d3c7981",
   "metadata": {},
   "outputs": [
    {
     "name": "stdout",
     "output_type": "stream",
     "text": [
      "/home/wjy/.cache/matplotlib\n"
     ]
    }
   ],
   "source": [
    "import matplotlib\n",
    "print(matplotlib.get_cachedir())"
   ]
  },
  {
   "cell_type": "code",
   "execution_count": 187,
   "id": "2fa57938",
   "metadata": {},
   "outputs": [
    {
     "data": {
      "image/png": "[encoded data removed]",
      "text/plain": [
       "<Figure size 864x1152 with 9 Axes>"
      ]
     },
     "metadata": {},
     "output_type": "display_data"
    }
   ],
   "source": [
    "#测试集混淆矩阵\n",
    "import seaborn as sns\n",
    "from sklearn.metrics import confusion_matrix\n",
    "from matplotlib import gridspec\n",
    "import numpy as np\n",
    "import matplotlib.pyplot as plt\n",
    "import matplotlib.ticker as ticker\n",
    "import pandas as pd\n",
    "import numpy\n",
    "from pandas import Series\n",
    "#\n",
    "la=np.array(label_test)\n",
    "#\n",
    "fig = plt.figure(figsize=(12,16))\n",
    "mpl.rcParams['pdf.fonttype'] = 42\n",
    "mpl.rcParams['ps.fonttype'] = 42\n",
    "#1行2列，纵向比例1：2\n",
    "gs = gridspec.GridSpec(3, 3)\n",
    "#不同区域句柄\n",
    "\n",
    "ax11 = plt.subplot(gs[0])\n",
    "#gbtcm=confusion_matrix(la,GBTy_best.predict(X_test_select))\n",
    "gbtcm=confusion_matrix(la,GBT_best.predict(X_test))\n",
    "sns.heatmap(gbtcm,fmt='.20g',cmap='Blues',annot=True,cbar=False,annot_kws = {'size':18},xticklabels=False)\n",
    "plt.title('Gradient Boosting Classifier')\n",
    "\n",
    "ax12 = plt.subplot(gs[2])\n",
    "rfccm=confusion_matrix(la,RFC_best.predict(X_test))\n",
    "sns.heatmap(rfccm,fmt='g',cmap='Blues',annot=True,cbar=False,annot_kws = {'size':18},xticklabels=False,yticklabels=False)\n",
    "plt.title('Random Forest Classifier')\n",
    "\n",
    "ax13 = plt.subplot(gs[1])\n",
    "lrcm=confusion_matrix(la,LR_best.predict(X_test))\n",
    "sns.heatmap(lrcm,fmt='g',cmap='Blues',annot=True,cbar=False,annot_kws = {'size':18},xticklabels=False,yticklabels=False)\n",
    "plt.title('Logistic Regression')\n",
    "\n",
    "ax21 = plt.subplot(gs[3])\n",
    "svcm=confusion_matrix(la,SVMC_best.predict(X_test))\n",
    "sns.heatmap(svcm,fmt='g',cmap='Blues',annot=True,cbar=False,annot_kws = {'size':18},xticklabels=False)\n",
    "plt.title('SVC')\n",
    "\n",
    "ax22 = plt.subplot(gs[4])\n",
    "xgbcm=confusion_matrix(la,XGB_best.predict(X_test))\n",
    "sns.heatmap(xgbcm,fmt='g',cmap='Blues',annot=True,cbar=False,annot_kws = {'size':18},xticklabels=False,yticklabels=False)\n",
    "plt.title('XGB Classifier')\n",
    "\n",
    "ax23 = plt.subplot(gs[5])\n",
    "adacm=confusion_matrix(la,ADA_best.predict(X_test))\n",
    "sns.heatmap(adacm,fmt='g',cmap='Blues',annot=True,cbar=False,annot_kws = {'size':18},xticklabels=False,yticklabels=False)\n",
    "plt.title('AdaBoost Classifier')\n",
    "\n",
    "ax31 = plt.subplot(gs[6])\n",
    "detcm=confusion_matrix(la,DET_best.predict(X_test))\n",
    "sns.heatmap(detcm,fmt='g',cmap='Blues',annot=True,cbar=False,annot_kws = {'size':18})\n",
    "plt.title('Decision Tree Classifier')\n",
    "\n",
    "\n",
    "ax32 = plt.subplot(gs[7])\n",
    "knbcm=confusion_matrix(la,KNB_best.predict(X_test))\n",
    "sns.heatmap(knbcm,fmt='g',cmap='Blues',annot=True,cbar=False,annot_kws = {'size':18},yticklabels=False)\n",
    "plt.title('KNeighbors Classifier')\n",
    "\n",
    "ax33 = plt.subplot(gs[8])\n",
    "etccm=confusion_matrix(la,ETC_best.predict(X_test))\n",
    "sns.heatmap(etccm,fmt='g',cmap='Blues',annot=True,cbar=False,annot_kws = {'size':18},yticklabels=False)\n",
    "plt.title('ExtraTrees Classifier')\n",
    "\n",
    "\n",
    "\n",
    "plt.savefig(\"cm.pdf\", dpi=300,bbox_inches='tight')"
   ]
  },
  {
   "cell_type": "code",
   "execution_count": 164,
   "id": "d680a312",
   "metadata": {},
   "outputs": [
    {
     "data": {
      "text/plain": [
       "<matplotlib.legend.Legend at 0x7f1851f8f640>"
      ]
     },
     "execution_count": 164,
     "metadata": {},
     "output_type": "execute_result"
    },
    {
     "data": {
      "image/png": "[encoded data removed]",
      "text/plain": [
       "<Figure size 864x720 with 1 Axes>"
      ]
     },
     "metadata": {},
     "output_type": "display_data"
    }
   ],
   "source": [
    "from sklearn.metrics import precision_recall_curve\n",
    "#plt.rc('font',family='Helvetica')\n",
    "la=np.array(label_test)\n",
    "plt.rc('font',family='Arial')\n",
    "\n",
    "detprecision, detrecall, detthreshold = precision_recall_curve(la,DET_best.predict_proba(X_test)[:,1], pos_label=1)\n",
    "plt.plot(detprecision, detrecall, label='Decision Tree Classifier',color='violet')\n",
    "\n",
    "detprecision, detrecall, detthreshold = precision_recall_curve(la,KNB_best.predict_proba(X_test)[:,1], pos_label=1)\n",
    "plt.plot(detprecision, detrecall, label='KNeighbors Classifier',color='pink')\n",
    "\n",
    "detprecision, detrecall, detthreshold = precision_recall_curve(la,ETC_best.predict_proba(X_test)[:,1], pos_label=1)\n",
    "plt.plot(detprecision, detrecall, label='ExtraTrees Classifier',color='olivedrab')\n",
    "\n",
    "detprecision, detrecall, detthreshold = precision_recall_curve(la,LR_best.predict_proba(X_test)[:,1], pos_label=1)\n",
    "plt.plot(detprecision, detrecall, label='Logistic Regression',color='palegreen')\n",
    "\n",
    "detprecision, detrecall, detthreshold = precision_recall_curve(la,SVMC_best.predict_proba(X_test)[:,1], pos_label=1)\n",
    "plt.plot(detprecision, detrecall, label='SVM',color='green')\n",
    "\n",
    "detprecision, detrecall, detthreshold = precision_recall_curve(la,XGB_best.predict_proba(X_test)[:,1], pos_label=1)\n",
    "plt.plot(detprecision, detrecall, label='XGB Classifier',color='cyan')\n",
    "\n",
    "detprecision, detrecall, detthreshold = precision_recall_curve(la,ADA_best.predict_proba(X_test)[:,1], pos_label=1)\n",
    "plt.plot(detprecision, detrecall, label='AdaBoost Classifier',color='deepskyblue')\n",
    "\n",
    "detprecision, detrecall, detthreshold = precision_recall_curve(la,RFC_best.predict_proba(X_test)[:,1], pos_label=1)\n",
    "plt.plot(detprecision, detrecall, label='Random Forest Classifier',color='darkorange')\n",
    "\n",
    "#detprecision, detrecall, detthreshold = precision_recall_curve(la,GBTy_best.predict_proba(X_test_select)[:,1], pos_label=1)\n",
    "detprecision, detrecall, detthreshold = precision_recall_curve(la,GBT_best.predict_proba(X_test)[:,1], pos_label=1)\n",
    "plt.plot(detprecision, detrecall, label='Gradient Boosting Classifier',color='red')\n",
    "\n",
    "\n",
    "plt.xlabel('Recall')\n",
    "plt.ylabel('Precision')\n",
    "plt.legend()"
   ]
  },
  {
   "cell_type": "code",
   "execution_count": 190,
   "id": "e9db72e6",
   "metadata": {},
   "outputs": [
    {
     "data": {
      "image/png": "[encoded data removed]",
      "text/plain": [
       "<Figure size 720x720 with 1 Axes>"
      ]
     },
     "metadata": {},
     "output_type": "display_data"
    }
   ],
   "source": [
    "#test\n",
    "from sklearn import metrics\n",
    "\n",
    "la=np.array(label_test)\n",
    "\n",
    "\n",
    "etc_auc = roc_auc_score(label_test, ETC_best.predict_proba(X_test)[:,1])\n",
    "rfc_auc =roc_auc_score(label_test, RFC_best.predict_proba(X_test)[:,1])\n",
    "lrc_auc =roc_auc_score(label_test, LR_best.predict_proba(X_test)[:,1])\n",
    "svmc_auc =roc_auc_score(label_test, SVMC_best.predict_proba(X_test)[:,1])\n",
    "xgb_auc =roc_auc_score(label_test, XGB_best.predict_proba(X_test)[:,1])\n",
    "ada_auc =roc_auc_score(label_test, ADA_best.predict_proba(X_test)[:,1])\n",
    "det_auc =roc_auc_score(label_test, DET_best.predict_proba(X_test)[:,1])\n",
    "knb_auc =roc_auc_score(label_test, KNB_best.predict_proba(X_test)[:,1])\n",
    "#gbt_auc =roc_auc_score(label_test, GBTy_best.predict_proba(X_test_select)[:,1])\n",
    "gbt_auc =roc_auc_score(label_test, GBT_best.predict_proba(X_test)[:,1])\n",
    "\n",
    "plt.rc('font',family='Arial')\n",
    "plt.figure(figsize=(10,10))\n",
    "mpl.rcParams['pdf.fonttype'] = 42\n",
    "mpl.rcParams['ps.fonttype'] = 42\n",
    "lw=1.5\n",
    "\n",
    "##拟合平滑\n",
    "#import scipy.signal\n",
    "\n",
    "#gbc\n",
    "gbtfpr,gbttpr,gbtthresholds = metrics.roc_curve(la,GBT_best.predict_proba(X_test)[:,1])\n",
    "#gbtfpr,gbttpr,gbtthresholds = metrics.roc_curve(la,GBTy_best.predict_proba(X_test_select)[:,1])\n",
    "plt.plot(gbtfpr,gbttpr,color='red',lw=lw,label='Gradient Boosting Classifier AUC= %0.4f' % gbt_auc)\n",
    "#lrc\n",
    "lrcfpr,lrctpr,lrcthresholds = metrics.roc_curve(la,LR_best.predict_proba(X_test)[:,1])\n",
    "plt.plot(lrcfpr,lrctpr,color='palegreen',lw=lw,label='Logistic Regression AUC= %0.4f' % lrc_auc)\n",
    "#xgb\n",
    "xgbfpr,xgbtpr,xgbthresholds = metrics.roc_curve(la,XGB_best.predict_proba(X_test)[:,1])\n",
    "plt.plot(xgbfpr,xgbtpr,color='cyan',lw=lw,label='XGB Classifier AUC= %0.4f' % xgb_auc)\n",
    "#etc\n",
    "etcfpr,etctpr,etcthresholds = metrics.roc_curve(la,ETC_best.predict_proba(X_test)[:,1])\n",
    "plt.plot(etcfpr,etctpr,color='olivedrab',lw=lw,label='ExtraTrees Classifier AUC= %0.4f' % etc_auc)\n",
    "#ada\n",
    "adafpr,adatpr,adathresholds = metrics.roc_curve(la,ADA_best.predict_proba(X_test)[:,1])\n",
    "plt.plot(adafpr,adatpr,color='deepskyblue',lw=lw,label='AdaBoost Classifier AUC= %0.4f' % ada_auc)\n",
    "#rfc\n",
    "rfcfpr,rfctpr,rfcthresholds = metrics.roc_curve(la,RFC_best.predict_proba(X_test)[:,1])\n",
    "plt.plot(rfcfpr,rfctpr,color='darkorange',lw=lw,label='Random Forest Classifier AUC= %0.4f' % rfc_auc)\n",
    "#svmc\n",
    "svmcfpr,svmctpr,svmcthresholds = metrics.roc_curve(la,SVMC_best.predict_proba(X_test)[:,1])\n",
    "plt.plot(svmcfpr,svmctpr,color='green',lw=lw,label='SVM AUC= %0.4f' % svmc_auc)\n",
    "#det\n",
    "rfcfpr,rfctpr,rfcthresholds = metrics.roc_curve(la,DET_best.predict_proba(X_test)[:,1])\n",
    "plt.plot(rfcfpr,rfctpr,color='violet',lw=lw,label='Decision Tree Classifier AUC= %0.4f' % det_auc)\n",
    "#knb\n",
    "detfpr,dettpr,detthresholds = metrics.roc_curve(la,KNB_best.predict_proba(X_test)[:,1])\n",
    "plt.plot(detfpr,dettpr,color='pink',lw=lw,label='KNeighbors Classifier AUC= %0.4f' % det_auc)\n",
    "\n",
    "plt.plot([0,1],[0,1],color='gray',lw=lw,linestyle='--')\n",
    "plt.xlabel('False Positive Rate',fontsize=16)\n",
    "plt.ylabel('True Positive Rate',fontsize=16)\n",
    "plt.title('RUC of different models on test dataset',fontsize=16)\n",
    "\n",
    "plt.legend(loc=\"lower right\",fontsize=13)\n",
    "\n",
    "plt.savefig(\"testAUC_y.pdf\", dpi=300,bbox_inches='tight')"
   ]
  },
  {
   "cell_type": "code",
   "execution_count": null,
   "id": "3423a6e9",
   "metadata": {},
   "outputs": [],
   "source": []
  },
  {
   "cell_type": "code",
   "execution_count": 191,
   "id": "8dd769e4-dcea-4f79-81a8-af53d172a68a",
   "metadata": {},
   "outputs": [
    {
     "data": {
      "text/html": [
       "<div>\n",
       "<style scoped>\n",
       "    .dataframe tbody tr th:only-of-type {\n",
       "        vertical-align: middle;\n",
       "    }\n",
       "\n",
       "    .dataframe tbody tr th {\n",
       "        vertical-align: top;\n",
       "    }\n",
       "\n",
       "    .dataframe thead th {\n",
       "        text-align: right;\n",
       "    }\n",
       "</style>\n",
       "<table border=\"1\" class=\"dataframe\">\n",
       "  <thead>\n",
       "    <tr style=\"text-align: right;\">\n",
       "      <th></th>\n",
       "      <th>AUC</th>\n",
       "      <th>Accuracy</th>\n",
       "      <th>Recall</th>\n",
       "      <th>Precision</th>\n",
       "      <th>F1</th>\n",
       "    </tr>\n",
       "    <tr>\n",
       "      <th>Algorithm</th>\n",
       "      <th></th>\n",
       "      <th></th>\n",
       "      <th></th>\n",
       "      <th></th>\n",
       "      <th></th>\n",
       "    </tr>\n",
       "  </thead>\n",
       "  <tbody>\n",
       "    <tr>\n",
       "      <th>GradientBoosting</th>\n",
       "      <td>0.982394</td>\n",
       "      <td>0.971831</td>\n",
       "      <td>0.80</td>\n",
       "      <td>0.971047</td>\n",
       "      <td>0.971831</td>\n",
       "    </tr>\n",
       "    <tr>\n",
       "      <th>LogisticRegression</th>\n",
       "      <td>0.981004</td>\n",
       "      <td>0.968310</td>\n",
       "      <td>0.84</td>\n",
       "      <td>0.968932</td>\n",
       "      <td>0.823529</td>\n",
       "    </tr>\n",
       "    <tr>\n",
       "      <th>XGBoost</th>\n",
       "      <td>0.979923</td>\n",
       "      <td>0.968310</td>\n",
       "      <td>0.76</td>\n",
       "      <td>0.967111</td>\n",
       "      <td>0.808511</td>\n",
       "    </tr>\n",
       "    <tr>\n",
       "      <th>ExtraTrees</th>\n",
       "      <td>0.976525</td>\n",
       "      <td>0.964789</td>\n",
       "      <td>0.84</td>\n",
       "      <td>0.966244</td>\n",
       "      <td>0.807692</td>\n",
       "    </tr>\n",
       "    <tr>\n",
       "      <th>AdaBoost</th>\n",
       "      <td>0.974054</td>\n",
       "      <td>0.964789</td>\n",
       "      <td>0.76</td>\n",
       "      <td>0.963726</td>\n",
       "      <td>0.791667</td>\n",
       "    </tr>\n",
       "    <tr>\n",
       "      <th>RandomForest</th>\n",
       "      <td>0.966178</td>\n",
       "      <td>0.957746</td>\n",
       "      <td>0.80</td>\n",
       "      <td>0.959435</td>\n",
       "      <td>0.769231</td>\n",
       "    </tr>\n",
       "    <tr>\n",
       "      <th>SVM</th>\n",
       "      <td>0.944093</td>\n",
       "      <td>0.954225</td>\n",
       "      <td>0.64</td>\n",
       "      <td>0.951304</td>\n",
       "      <td>0.711111</td>\n",
       "    </tr>\n",
       "    <tr>\n",
       "      <th>KNeighbors</th>\n",
       "      <td>0.940154</td>\n",
       "      <td>0.954225</td>\n",
       "      <td>0.52</td>\n",
       "      <td>0.953180</td>\n",
       "      <td>0.666667</td>\n",
       "    </tr>\n",
       "    <tr>\n",
       "      <th>DecisionTree</th>\n",
       "      <td>0.896834</td>\n",
       "      <td>0.915493</td>\n",
       "      <td>0.84</td>\n",
       "      <td>0.942048</td>\n",
       "      <td>0.636364</td>\n",
       "    </tr>\n",
       "  </tbody>\n",
       "</table>\n",
       "</div>"
      ],
      "text/plain": [
       "                         AUC  Accuracy  Recall  Precision        F1\n",
       "Algorithm                                                          \n",
       "GradientBoosting    0.982394  0.971831    0.80   0.971047  0.971831\n",
       "LogisticRegression  0.981004  0.968310    0.84   0.968932  0.823529\n",
       "XGBoost             0.979923  0.968310    0.76   0.967111  0.808511\n",
       "ExtraTrees          0.976525  0.964789    0.84   0.966244  0.807692\n",
       "AdaBoost            0.974054  0.964789    0.76   0.963726  0.791667\n",
       "RandomForest        0.966178  0.957746    0.80   0.959435  0.769231\n",
       "SVM                 0.944093  0.954225    0.64   0.951304  0.711111\n",
       "KNeighbors          0.940154  0.954225    0.52   0.953180  0.666667\n",
       "DecisionTree        0.896834  0.915493    0.84   0.942048  0.636364"
      ]
     },
     "execution_count": 191,
     "metadata": {},
     "output_type": "execute_result"
    }
   ],
   "source": [
    "# 展示结果\n",
    "accuracy_test.sort_values(by=\"AUC\", ascending=False)"
   ]
  },
  {
   "cell_type": "code",
   "execution_count": 192,
   "id": "371539dd",
   "metadata": {},
   "outputs": [
    {
     "data": {
      "image/png": "[encoded data removed]",
      "text/plain": [
       "<Figure size 720x720 with 1 Axes>"
      ]
     },
     "metadata": {},
     "output_type": "display_data"
    }
   ],
   "source": [
    "#train\n",
    "from sklearn import metrics\n",
    "\n",
    "la=np.array(label_train)\n",
    "\n",
    "\n",
    "etc_auc = roc_auc_score(label_train, ETC_best.predict_proba(X)[:,1])\n",
    "rfc_auc =roc_auc_score(label_train, RFC_best.predict_proba(X)[:,1])\n",
    "lrc_auc =roc_auc_score(label_train, LR_best.predict_proba(X)[:,1])\n",
    "svmc_auc =roc_auc_score(label_train, SVMC_best.predict_proba(X)[:,1])\n",
    "xgb_auc =roc_auc_score(label_train, XGB_best.predict_proba(X)[:,1])\n",
    "ada_auc =roc_auc_score(label_train, ADA_best.predict_proba(X)[:,1])\n",
    "det_auc =roc_auc_score(label_train, DET_best.predict_proba(X)[:,1])\n",
    "knb_auc =roc_auc_score(label_train, KNB_best.predict_proba(X)[:,1])\n",
    "#gbt_auc =roc_auc_score(label_train, GBTy_best.predict_proba(X_train_select)[:,1])\n",
    "gbt_auc =roc_auc_score(label_train, GBT_best.predict_proba(X)[:,1])\n",
    "\n",
    "plt.rc('font',family='Arial')\n",
    "plt.figure(figsize=(10,10))\n",
    "mpl.rcParams['pdf.fonttype'] = 42\n",
    "mpl.rcParams['ps.fonttype'] = 42\n",
    "lw=1.5\n",
    "\n",
    "#gbc\n",
    "#gbtfpr,gbttpr,gbtthresholds = metrics.roc_curve(la,GBTy_best.predict_proba(X_train_select)[:,1])\n",
    "gbtfpr,gbttpr,gbtthresholds = metrics.roc_curve(la,GBT_best.predict_proba(X)[:,1])\n",
    "plt.plot(gbtfpr,gbttpr,color='red',lw=lw,label='Gradient Boosting Classifier AUC= %0.4f' % gbt_auc)\n",
    "#xgb\n",
    "xgbfpr,xgbtpr,xgbthresholds = metrics.roc_curve(la,XGB_best.predict_proba(X)[:,1])\n",
    "plt.plot(xgbfpr,xgbtpr,color='cyan',lw=lw,label='XGB Classifier AUC= %0.4f' % xgb_auc)\n",
    "#svmc\n",
    "svmcfpr,svmctpr,svmcthresholds = metrics.roc_curve(la,SVMC_best.predict_proba(X)[:,1])\n",
    "plt.plot(svmcfpr,svmctpr,color='green',lw=lw,label='SVM AUC= %0.4f' % svmc_auc)\n",
    "#etc\n",
    "etcfpr,etctpr,etcthresholds = metrics.roc_curve(la,ETC_best.predict_proba(X)[:,1])\n",
    "plt.plot(etcfpr,etctpr,color='olivedrab',lw=lw,label='ExtraTrees Classifier AUC= %0.4f' % etc_auc)\n",
    "#ada\n",
    "adafpr,adatpr,adathresholds = metrics.roc_curve(la,ADA_best.predict_proba(X)[:,1])\n",
    "plt.plot(adafpr,adatpr,color='deepskyblue',lw=lw,label='AdaBoost Classifier AUC= %0.4f' % ada_auc)\n",
    "#lrc\n",
    "lrcfpr,lrctpr,lrcthresholds = metrics.roc_curve(la,LR_best.predict_proba(X)[:,1])\n",
    "plt.plot(lrcfpr,lrctpr,color='palegreen',lw=lw,label='Logistic Regression AUC= %0.4f' % lrc_auc)\n",
    "#det\n",
    "rfcfpr,rfctpr,rfcthresholds = metrics.roc_curve(la,DET_best.predict_proba(X)[:,1])\n",
    "plt.plot(rfcfpr,rfctpr,color='violet',lw=lw,label='Decision Tree Classifier AUC= %0.4f' % det_auc)\n",
    "#knb\n",
    "detfpr,dettpr,detthresholds = metrics.roc_curve(la,KNB_best.predict_proba(X)[:,1])\n",
    "plt.plot(detfpr,dettpr,color='pink',lw=lw,label='KNeighbors Classifier AUC= %0.4f' % det_auc)\n",
    "\n",
    "#rfc\n",
    "rfcfpr,rfctpr,rfcthresholds = metrics.roc_curve(la,RFC_best.predict_proba(X)[:,1])\n",
    "plt.plot(rfcfpr,rfctpr,color='darkorange',lw=lw,label='Random Forest Classifier AUC= %0.4f' % rfc_auc)\n",
    "\n",
    "\n",
    "\n",
    "\n",
    "\n",
    "plt.plot([0,1],[0,1],color='gray',lw=lw,linestyle='--')\n",
    "plt.xlabel('False Positive Rate',fontsize=16)\n",
    "plt.ylabel('True Positive Rate',fontsize=16)\n",
    "plt.title('RUC of different models on train dataset',fontsize=16)\n",
    "\n",
    "plt.legend(loc=\"lower right\",fontsize=13)\n",
    "\n",
    "plt.savefig(\"trainAUC_y.pdf\", dpi=300,bbox_inches='tight')"
   ]
  },
  {
   "cell_type": "code",
   "execution_count": 168,
   "id": "47aa3184",
   "metadata": {},
   "outputs": [
    {
     "name": "stdout",
     "output_type": "stream",
     "text": [
      "(1470, 81)\n"
     ]
    }
   ],
   "source": [
    "#datall\n",
    "import pandas as pd\n",
    "d1=pd.read_csv(\"dataset/trainall.csv\")\n",
    "d2=pd.read_csv(\"dataset/testall.csv\")\n",
    "\n",
    "frames=[d1,d2]\n",
    "alldata= pd.concat(frames)\n",
    "print(alldata.shape)"
   ]
  },
  {
   "cell_type": "code",
   "execution_count": 169,
   "id": "4d313e86",
   "metadata": {},
   "outputs": [
    {
     "data": {
      "text/plain": [
       "(1470, 80)"
      ]
     },
     "execution_count": 169,
     "metadata": {},
     "output_type": "execute_result"
    }
   ],
   "source": [
    "label_all = alldata.pop(\"type\")\n",
    "alldata = np.array(alldata)\n",
    "alldata.shape"
   ]
  },
  {
   "cell_type": "code",
   "execution_count": 193,
   "id": "5f4a230b",
   "metadata": {},
   "outputs": [
    {
     "data": {
      "image/png": "[encoded data removed]",
      "text/plain": [
       "<Figure size 720x720 with 1 Axes>"
      ]
     },
     "metadata": {},
     "output_type": "display_data"
    }
   ],
   "source": [
    "#all\n",
    "from sklearn import metrics\n",
    "#GBT_best = joblib.load(\"GBT/GBT_best_2.m\") \n",
    "#GBT_best = joblib.load(\"GBT/GBT_best_y.m\")\n",
    "la=np.array(label_all)\n",
    "\n",
    "\n",
    "etc_auc = roc_auc_score(label_all, ETC_best.predict_proba(alldata)[:,1])\n",
    "rfc_auc =roc_auc_score(label_all, RFC_best.predict_proba(alldata)[:,1])\n",
    "lrc_auc =roc_auc_score(label_all, LR_best.predict_proba(alldata)[:,1])\n",
    "svmc_auc =roc_auc_score(label_all, SVMC_best.predict_proba(alldata)[:,1])\n",
    "xgb_auc =roc_auc_score(label_all, XGB_best.predict_proba(alldata)[:,1])\n",
    "ada_auc =roc_auc_score(label_all, ADA_best.predict_proba(alldata)[:,1])\n",
    "det_auc =roc_auc_score(label_all, DET_best.predict_proba(alldata)[:,1])\n",
    "knb_auc =roc_auc_score(label_all, KNB_best.predict_proba(alldata)[:,1])\n",
    "#gbt_auc =roc_auc_score(label_all, GBT_best.predict_proba(alldata_select)[:,1])\n",
    "gbt_auc =roc_auc_score(label_all, GBT_best.predict_proba(alldata)[:,1])\n",
    "\n",
    "\n",
    "plt.figure(figsize=(10,10))\n",
    "mpl.rcParams['pdf.fonttype'] = 42\n",
    "mpl.rcParams['ps.fonttype'] = 42\n",
    "lw=1.5\n",
    "#gbc\n",
    "#gbtfpr,gbttpr,gbtthresholds = metrics.roc_curve(la,GBT_best.predict_proba(alldata_select)[:,1])\n",
    "gbtfpr,gbttpr,gbtthresholds = metrics.roc_curve(la,GBT_best.predict_proba(alldata)[:,1])\n",
    "plt.plot(gbtfpr,gbttpr,color='red',lw=lw,label='Gradient Boosting Classifier AUC= %0.4f' % gbt_auc)\n",
    "#xgb\n",
    "xgbfpr,xgbtpr,xgbthresholds = metrics.roc_curve(la,XGB_best.predict_proba(alldata)[:,1])\n",
    "plt.plot(xgbfpr,xgbtpr,color='cyan',lw=lw,label='XGB Classifier AUC= %0.4f' % xgb_auc)\n",
    "#etc\n",
    "etcfpr,etctpr,etcthresholds = metrics.roc_curve(la,ETC_best.predict_proba(alldata)[:,1])\n",
    "plt.plot(etcfpr,etctpr,color='olivedrab',lw=lw,label='ExtraTrees Classifier AUC= %0.4f' % etc_auc)\n",
    "#lrc\n",
    "lrcfpr,lrctpr,lrcthresholds = metrics.roc_curve(la,LR_best.predict_proba(alldata)[:,1])\n",
    "plt.plot(lrcfpr,lrctpr,color='palegreen',lw=lw,label='Logistic Regression AUC= %0.4f' % lrc_auc)\n",
    "#ada\n",
    "adafpr,adatpr,adathresholds = metrics.roc_curve(la,ADA_best.predict_proba(alldata)[:,1])\n",
    "plt.plot(adafpr,adatpr,color='deepskyblue',lw=lw,label='AdaBoost Classifier AUC= %0.4f' % ada_auc)\n",
    "#rfc\n",
    "rfcfpr,rfctpr,rfcthresholds = metrics.roc_curve(la,RFC_best.predict_proba(alldata)[:,1])\n",
    "plt.plot(rfcfpr,rfctpr,color='darkorange',lw=lw,label='Random Forest Classifier AUC= %0.4f' % rfc_auc)\n",
    "#svmc\n",
    "svmcfpr,svmctpr,svmcthresholds = metrics.roc_curve(la,SVMC_best.predict_proba(alldata)[:,1])\n",
    "plt.plot(svmcfpr,svmctpr,color='green',lw=lw,label='SVM AUC= %0.4f' % svmc_auc)\n",
    "#det\n",
    "rfcfpr,rfctpr,rfcthresholds = metrics.roc_curve(la,DET_best.predict_proba(alldata)[:,1])\n",
    "plt.plot(rfcfpr,rfctpr,color='violet',lw=lw,label='Decision Tree Classifier AUC= %0.4f' % det_auc)\n",
    "#knb\n",
    "detfpr,dettpr,detthresholds = metrics.roc_curve(la,KNB_best.predict_proba(alldata)[:,1])\n",
    "plt.plot(detfpr,dettpr,color='pink',lw=lw,label='KNeighbors Classifier AUC= %0.4f' % det_auc)\n",
    "\n",
    "\n",
    "plt.plot([0,1],[0,1],color='gray',lw=lw,linestyle='--')\n",
    "plt.xlabel('False Positive Rate',fontsize=16)\n",
    "plt.ylabel('True Positive Rate',fontsize=16)\n",
    "plt.title('RUC of different models on all dataset',fontsize=16)\n",
    "\n",
    "plt.legend(loc=\"lower right\",fontsize=13)\n",
    "\n",
    "plt.savefig(\"allAUC_model.pdf\", dpi=300,bbox_inches='tight')"
   ]
  },
  {
   "cell_type": "code",
   "execution_count": 194,
   "id": "a9aeae43",
   "metadata": {},
   "outputs": [],
   "source": [
    "#以调整好的模型五折交叉验证\n",
    "fmodels = list()\n",
    "# 列出我们想要测试的模型 \n",
    "random_state=20220706#，保证结果的可重复性\n",
    "# 设置正负样本权重--类别权重\n",
    "#class_weight = {0:w_negative, 1:w_positive}  \n",
    "\n",
    "# 设置正负样本权重--样本权重，用于GradientBoostingClassifier、XGBClassifier、KNeighborsClassifier\n",
    "#w_array = np.array([1.0] * X_test.shape[0])\n",
    "#w_array[label_test == 1] = 22.59\n",
    "#w_array[label_test == 0] = 2.19\n",
    "\n",
    "SVMC_best = joblib.load(\"other_models/SVM_best.m\")\n",
    "ETC_best = joblib.load(\"other_models/ETC_besta.m\")\n",
    "RFC_best = joblib.load(\"other_models/RFC_besta.m\")\n",
    "XGB_best = joblib.load(\"other_models/XGB_besta.m\")\n",
    "LR_best = joblib.load(\"other_models/LR_best.m\")\n",
    "ADA_best = joblib.load(\"other_models/ADA_besta.m\")\n",
    "DET_best = joblib.load(\"other_models/DET_besta.m\")\n",
    "KNB_best = joblib.load(\"other_models/KNB_best.m\")\n",
    "GBT_best = joblib.load(\"GBT/GBT_best_3.m\") \n",
    "\n",
    "fmodels.append(SVMC_best)  # 逻辑回归\n",
    "fmodels.append(ETC_best)  # 决策树\n",
    "fmodels.append(RFC_best)  # 随机森林\n",
    "fmodels.append(XGB_best)                     # 支持向量机\n",
    "fmodels.append(LR_best)    # 极端随机树\n",
    "fmodels.append(ADA_best) # 梯度提升树\n",
    "fmodels.append(DET_best)  # 自适应增强\n",
    "fmodels.append(KNB_best)   # K近邻算法\n",
    "fmodels.append(GBT_best) "
   ]
  },
  {
   "cell_type": "code",
   "execution_count": 195,
   "id": "d062caa3",
   "metadata": {},
   "outputs": [
    {
     "name": "stdout",
     "output_type": "stream",
     "text": [
      "go: SVC(C=0.4, class_weight={0: 2.1942645698427383, 1: 22.590476190476192},\n",
      "    gamma=0.0001, kernel='linear', probability=True, random_state=20220706)\n",
      "end: SVC(C=0.4, class_weight={0: 2.1942645698427383, 1: 22.590476190476192},\n",
      "    gamma=0.0001, kernel='linear', probability=True, random_state=20220706)\n",
      "go: ExtraTreesClassifier(class_weight={0: 2.1942645698427383,\n",
      "                                   1: 22.590476190476192},\n",
      "                     max_depth=7, max_features=None, min_samples_leaf=5,\n",
      "                     n_estimators=1160, random_state=20220706)\n",
      "end: ExtraTreesClassifier(class_weight={0: 2.1942645698427383,\n",
      "                                   1: 22.590476190476192},\n",
      "                     max_depth=7, max_features=None, min_samples_leaf=5,\n",
      "                     n_estimators=1160, random_state=20220706)\n",
      "go: RandomForestClassifier(class_weight={0: 2.1942645698427383,\n",
      "                                     1: 22.590476190476192},\n",
      "                       max_depth=15, max_features=None, min_samples_leaf=8,\n",
      "                       min_samples_split=6, n_estimators=542,\n",
      "                       random_state=20220706)\n",
      "end: RandomForestClassifier(class_weight={0: 2.1942645698427383,\n",
      "                                     1: 22.590476190476192},\n",
      "                       max_depth=15, max_features=None, min_samples_leaf=8,\n",
      "                       min_samples_split=6, n_estimators=542,\n",
      "                       random_state=20220706)\n",
      "go: XGBClassifier(base_score=0.5, booster='gbtree', colsample_bylevel=1,\n",
      "              colsample_bynode=1, colsample_bytree=0.83333,\n",
      "              enable_categorical=False, gamma=0.5, gpu_id=-1,\n",
      "              importance_type=None, interaction_constraints='',\n",
      "              learning_rate=0.300000012, max_delta_step=0, max_depth=2,\n",
      "              max_features=None, min_child_weight=7, missing=nan,\n",
      "              monotone_constraints='()', n_estimators=100, n_jobs=1, nthread=1,\n",
      "              num_parallel_tree=1, predictor='auto', random_state=20220706,\n",
      "              reg_alpha=0, reg_lambda=1, scale_pos_weight=1, subsample=0.6666,\n",
      "              tree_method='exact', use_label_encoder=False,\n",
      "              validate_parameters=1, ...)\n"
     ]
    },
    {
     "name": "stderr",
     "output_type": "stream",
     "text": [
      "/home/wjy/miniconda3/envs/jupyter/lib/python3.10/site-packages/xgboost/compat.py:36: FutureWarning: pandas.Int64Index is deprecated and will be removed from pandas in a future version. Use pandas.Index with the appropriate dtype instead.\n",
      "  from pandas import MultiIndex, Int64Index\n",
      "/home/wjy/miniconda3/envs/jupyter/lib/python3.10/site-packages/xgboost/compat.py:36: FutureWarning: pandas.Int64Index is deprecated and will be removed from pandas in a future version. Use pandas.Index with the appropriate dtype instead.\n",
      "  from pandas import MultiIndex, Int64Index\n",
      "/home/wjy/miniconda3/envs/jupyter/lib/python3.10/site-packages/xgboost/compat.py:36: FutureWarning: pandas.Int64Index is deprecated and will be removed from pandas in a future version. Use pandas.Index with the appropriate dtype instead.\n",
      "  from pandas import MultiIndex, Int64Index\n",
      "/home/wjy/miniconda3/envs/jupyter/lib/python3.10/site-packages/xgboost/compat.py:36: FutureWarning: pandas.Int64Index is deprecated and will be removed from pandas in a future version. Use pandas.Index with the appropriate dtype instead.\n",
      "  from pandas import MultiIndex, Int64Index\n",
      "/home/wjy/miniconda3/envs/jupyter/lib/python3.10/site-packages/xgboost/compat.py:36: FutureWarning: pandas.Int64Index is deprecated and will be removed from pandas in a future version. Use pandas.Index with the appropriate dtype instead.\n",
      "  from pandas import MultiIndex, Int64Index\n",
      "/home/wjy/miniconda3/envs/jupyter/lib/python3.10/site-packages/xgboost/compat.py:36: FutureWarning: pandas.Int64Index is deprecated and will be removed from pandas in a future version. Use pandas.Index with the appropriate dtype instead.\n",
      "  from pandas import MultiIndex, Int64Index\n",
      "/home/wjy/miniconda3/envs/jupyter/lib/python3.10/site-packages/xgboost/compat.py:36: FutureWarning: pandas.Int64Index is deprecated and will be removed from pandas in a future version. Use pandas.Index with the appropriate dtype instead.\n",
      "  from pandas import MultiIndex, Int64Index\n",
      "/home/wjy/miniconda3/envs/jupyter/lib/python3.10/site-packages/xgboost/compat.py:36: FutureWarning: pandas.Int64Index is deprecated and will be removed from pandas in a future version. Use pandas.Index with the appropriate dtype instead.\n",
      "  from pandas import MultiIndex, Int64Index\n",
      "/home/wjy/miniconda3/envs/jupyter/lib/python3.10/site-packages/xgboost/compat.py:36: FutureWarning: pandas.Int64Index is deprecated and will be removed from pandas in a future version. Use pandas.Index with the appropriate dtype instead.\n",
      "  from pandas import MultiIndex, Int64Index\n",
      "/home/wjy/miniconda3/envs/jupyter/lib/python3.10/site-packages/xgboost/compat.py:36: FutureWarning: pandas.Int64Index is deprecated and will be removed from pandas in a future version. Use pandas.Index with the appropriate dtype instead.\n",
      "  from pandas import MultiIndex, Int64Index\n"
     ]
    },
    {
     "name": "stdout",
     "output_type": "stream",
     "text": [
      "end: XGBClassifier(base_score=0.5, booster='gbtree', colsample_bylevel=1,\n",
      "              colsample_bynode=1, colsample_bytree=0.83333,\n",
      "              enable_categorical=False, gamma=0.5, gpu_id=-1,\n",
      "              importance_type=None, interaction_constraints='',\n",
      "              learning_rate=0.300000012, max_delta_step=0, max_depth=2,\n",
      "              max_features=None, min_child_weight=7, missing=nan,\n",
      "              monotone_constraints='()', n_estimators=100, n_jobs=1, nthread=1,\n",
      "              num_parallel_tree=1, predictor='auto', random_state=20220706,\n",
      "              reg_alpha=0, reg_lambda=1, scale_pos_weight=1, subsample=0.6666,\n",
      "              tree_method='exact', use_label_encoder=False,\n",
      "              validate_parameters=1, ...)\n",
      "go: LogisticRegression(C=0.01,\n",
      "                   class_weight={0: 2.1942645698427383, 1: 22.590476190476192},\n",
      "                   max_iter=100000, random_state=20220706)\n",
      "end: LogisticRegression(C=0.01,\n",
      "                   class_weight={0: 2.1942645698427383, 1: 22.590476190476192},\n",
      "                   max_iter=100000, random_state=20220706)\n",
      "go: AdaBoostClassifier(learning_rate=1.265342857142857, n_estimators=18,\n",
      "                   random_state=20220706)\n",
      "end: AdaBoostClassifier(learning_rate=1.265342857142857, n_estimators=18,\n",
      "                   random_state=20220706)\n",
      "go: DecisionTreeClassifier(class_weight={0: 2.1942645698427383,\n",
      "                                     1: 22.590476190476192},\n",
      "                       max_depth=5, min_samples_leaf=5, min_samples_split=30,\n",
      "                       random_state=20220706)\n",
      "end: DecisionTreeClassifier(class_weight={0: 2.1942645698427383,\n",
      "                                     1: 22.590476190476192},\n",
      "                       max_depth=5, min_samples_leaf=5, min_samples_split=30,\n",
      "                       random_state=20220706)\n",
      "go: KNeighborsClassifier(n_neighbors=23, weights='distance')\n",
      "end: KNeighborsClassifier(n_neighbors=23, weights='distance')\n",
      "go: GradientBoostingClassifier(learning_rate=0.1555555, max_depth=4,\n",
      "                           min_samples_split=244, n_estimators=759,\n",
      "                           random_state=20220706, subsample=0.6)\n",
      "end: GradientBoostingClassifier(learning_rate=0.1555555, max_depth=4,\n",
      "                           min_samples_split=244, n_estimators=759,\n",
      "                           random_state=20220706, subsample=0.6)\n"
     ]
    }
   ],
   "source": [
    "kfold = StratifiedKFold(n_splits = 10)   # 10折交叉验证\n",
    "\n",
    "pred_results = []\n",
    "pred_names = []\n",
    "\n",
    "# 模型先不设最优参数，使用默认参数试一下\n",
    "# 此举目的在于测试模型\n",
    "# 注意，模型在训练集上训练并测试！！！并不代表测试集的结果\n",
    "for model in fmodels:   # 将之前保存的模型逐个取出\n",
    "    \n",
    "    if model.__class__.__name__ not in ['GBT_best', 'XGB_best']:\n",
    "        \n",
    "        print(\"go:\", model)  # 模型开始\n",
    "        \n",
    "        pred_results.append(cross_val_score(model, \n",
    "                                  #X_test,\n",
    "                                  #label_test,\n",
    "                                X,\n",
    "                                  label_train,\n",
    "                                  scoring = \"roc_auc\", \n",
    "                                  cv = kfold, n_jobs=15)  # 开15个线程加快进度\n",
    "                           )  # 以roc_auc作为评估模型的标准\n",
    "\n",
    "        pred_names.append(model.__class__.__name__)  # 保存每个模型的name\n",
    "\n",
    "        print(\"end:\", model)  # 模型结束\n",
    "    else:\n",
    "        print(\"go:\", model)\n",
    "        \n",
    "        pred_results.append(cross_val_score(model, \n",
    "                          #X_test,\n",
    "                          #y = label_test,\n",
    "                        X,\n",
    "                        y = label_train,\n",
    "                          scoring = \"roc_auc\", \n",
    "                          cv = kfold, n_jobs=15,fit_params={'sample_weight': w_array})  # 开15个线程加快进度\n",
    "                   )  # 以roc_auc作为评估模型的标准\n",
    "\n",
    "        pred_names.append(model.__class__.__name__)  # 保存每个模型的name\n",
    "        \n",
    "        print(\"end\", model)\n",
    "\n",
    "pred_means = []\n",
    "pred_std = []\n",
    "\n",
    "for pred_result in pred_results:  # 10折交叉验证，每个模型重复训练10次，有10个auc\n",
    "    pred_means.append(pred_result.mean())\n",
    "    pred_std.append(pred_result.std())\n",
    "    \n",
    "pred_res = pd.DataFrame({\"CrossValMeans\":pred_means,\n",
    "                         \"CrossValerrors\": pred_std,\n",
    "                         \"Algorithm\":pred_names})\n"
   ]
  },
  {
   "cell_type": "code",
   "execution_count": 196,
   "id": "ff67e8ff",
   "metadata": {},
   "outputs": [
    {
     "data": {
      "text/html": [
       "<div>\n",
       "<style scoped>\n",
       "    .dataframe tbody tr th:only-of-type {\n",
       "        vertical-align: middle;\n",
       "    }\n",
       "\n",
       "    .dataframe tbody tr th {\n",
       "        vertical-align: top;\n",
       "    }\n",
       "\n",
       "    .dataframe thead th {\n",
       "        text-align: right;\n",
       "    }\n",
       "</style>\n",
       "<table border=\"1\" class=\"dataframe\">\n",
       "  <thead>\n",
       "    <tr style=\"text-align: right;\">\n",
       "      <th></th>\n",
       "      <th>CrossValMeans</th>\n",
       "      <th>CrossValerrors</th>\n",
       "      <th>Algorithm</th>\n",
       "    </tr>\n",
       "  </thead>\n",
       "  <tbody>\n",
       "    <tr>\n",
       "      <th>0</th>\n",
       "      <td>0.986249</td>\n",
       "      <td>0.013882</td>\n",
       "      <td>XGBClassifier</td>\n",
       "    </tr>\n",
       "    <tr>\n",
       "      <th>1</th>\n",
       "      <td>0.984589</td>\n",
       "      <td>0.011336</td>\n",
       "      <td>AdaBoostClassifier</td>\n",
       "    </tr>\n",
       "    <tr>\n",
       "      <th>2</th>\n",
       "      <td>0.980972</td>\n",
       "      <td>0.018798</td>\n",
       "      <td>ExtraTreesClassifier</td>\n",
       "    </tr>\n",
       "    <tr>\n",
       "      <th>3</th>\n",
       "      <td>0.978783</td>\n",
       "      <td>0.018295</td>\n",
       "      <td>RandomForestClassifier</td>\n",
       "    </tr>\n",
       "    <tr>\n",
       "      <th>4</th>\n",
       "      <td>0.971041</td>\n",
       "      <td>0.021905</td>\n",
       "      <td>KNeighborsClassifier</td>\n",
       "    </tr>\n",
       "    <tr>\n",
       "      <th>5</th>\n",
       "      <td>0.963875</td>\n",
       "      <td>0.059708</td>\n",
       "      <td>GradientBoostingClassifier</td>\n",
       "    </tr>\n",
       "    <tr>\n",
       "      <th>6</th>\n",
       "      <td>0.957587</td>\n",
       "      <td>0.045729</td>\n",
       "      <td>LogisticRegression</td>\n",
       "    </tr>\n",
       "    <tr>\n",
       "      <th>7</th>\n",
       "      <td>0.937116</td>\n",
       "      <td>0.040254</td>\n",
       "      <td>SVC</td>\n",
       "    </tr>\n",
       "    <tr>\n",
       "      <th>8</th>\n",
       "      <td>0.934667</td>\n",
       "      <td>0.036082</td>\n",
       "      <td>DecisionTreeClassifier</td>\n",
       "    </tr>\n",
       "  </tbody>\n",
       "</table>\n",
       "</div>"
      ],
      "text/plain": [
       "   CrossValMeans  CrossValerrors                   Algorithm\n",
       "0       0.986249        0.013882               XGBClassifier\n",
       "1       0.984589        0.011336          AdaBoostClassifier\n",
       "2       0.980972        0.018798        ExtraTreesClassifier\n",
       "3       0.978783        0.018295      RandomForestClassifier\n",
       "4       0.971041        0.021905        KNeighborsClassifier\n",
       "5       0.963875        0.059708  GradientBoostingClassifier\n",
       "6       0.957587        0.045729          LogisticRegression\n",
       "7       0.937116        0.040254                         SVC\n",
       "8       0.934667        0.036082      DecisionTreeClassifier"
      ]
     },
     "execution_count": 196,
     "metadata": {},
     "output_type": "execute_result"
    }
   ],
   "source": [
    "pred_res.sort_values(by='CrossValMeans', ascending = False, ignore_index=True)\n"
   ]
  },
  {
   "cell_type": "code",
   "execution_count": 197,
   "id": "6f6225e6",
   "metadata": {},
   "outputs": [],
   "source": [
    "pred_res=pred_res.sort_values(by='CrossValMeans', ascending = False, ignore_index=True)"
   ]
  },
  {
   "cell_type": "code",
   "execution_count": 198,
   "id": "71933c36",
   "metadata": {},
   "outputs": [
    {
     "name": "stderr",
     "output_type": "stream",
     "text": [
      "/home/wjy/miniconda3/envs/jupyter/lib/python3.10/site-packages/seaborn/_decorators.py:36: FutureWarning: Pass the following variables as keyword args: x, y. From version 0.12, the only valid positional argument will be `data`, and passing other arguments without an explicit keyword will result in an error or misinterpretation.\n",
      "  warnings.warn(\n"
     ]
    },
    {
     "data": {
      "image/png": "[encoded data removed]",
      "text/plain": [
       "<Figure size 864x576 with 1 Axes>"
      ]
     },
     "metadata": {},
     "output_type": "display_data"
    },
    {
     "name": "stdout",
     "output_type": "stream",
     "text": [
      "[06:20:16] WARNING: ../src/learner.cc:1115: Starting in XGBoost 1.3.0, the default evaluation metric used with the objective 'binary:logistic' was changed from 'error' to 'logloss'. Explicitly set eval_metric if you'd like to restore the old behavior.\n",
      "[06:20:16] WARNING: ../src/learner.cc:1115: Starting in XGBoost 1.3.0, the default evaluation metric used with the objective 'binary:logistic' was changed from 'error' to 'logloss'. Explicitly set eval_metric if you'd like to restore the old behavior.\n",
      "[06:20:16] WARNING: ../src/learner.cc:1115: Starting in XGBoost 1.3.0, the default evaluation metric used with the objective 'binary:logistic' was changed from 'error' to 'logloss'. Explicitly set eval_metric if you'd like to restore the old behavior.\n",
      "[06:20:16] WARNING: ../src/learner.cc:1115: Starting in XGBoost 1.3.0, the default evaluation metric used with the objective 'binary:logistic' was changed from 'error' to 'logloss'. Explicitly set eval_metric if you'd like to restore the old behavior.\n",
      "[06:20:16] WARNING: ../src/learner.cc:1115: Starting in XGBoost 1.3.0, the default evaluation metric used with the objective 'binary:logistic' was changed from 'error' to 'logloss'. Explicitly set eval_metric if you'd like to restore the old behavior.\n",
      "[06:20:16] WARNING: ../src/learner.cc:1115: Starting in XGBoost 1.3.0, the default evaluation metric used with the objective 'binary:logistic' was changed from 'error' to 'logloss'. Explicitly set eval_metric if you'd like to restore the old behavior.\n",
      "[06:20:16] WARNING: ../src/learner.cc:1115: Starting in XGBoost 1.3.0, the default evaluation metric used with the objective 'binary:logistic' was changed from 'error' to 'logloss'. Explicitly set eval_metric if you'd like to restore the old behavior.\n",
      "[06:20:16] WARNING: ../src/learner.cc:1115: Starting in XGBoost 1.3.0, the default evaluation metric used with the objective 'binary:logistic' was changed from 'error' to 'logloss'. Explicitly set eval_metric if you'd like to restore the old behavior.\n",
      "[06:20:16] WARNING: ../src/learner.cc:1115: Starting in XGBoost 1.3.0, the default evaluation metric used with the objective 'binary:logistic' was changed from 'error' to 'logloss'. Explicitly set eval_metric if you'd like to restore the old behavior.\n",
      "[06:20:16] WARNING: ../src/learner.cc:1115: Starting in XGBoost 1.3.0, the default evaluation metric used with the objective 'binary:logistic' was changed from 'error' to 'logloss'. Explicitly set eval_metric if you'd like to restore the old behavior.\n"
     ]
    }
   ],
   "source": [
    "plt.figure(figsize=(12,8))\n",
    "sns.set(context='notebook', style='ticks', font_scale=1.5)\n",
    "g = sns.barplot(\"CrossValMeans\",\"Algorithm\",\n",
    "                data = pred_res,\n",
    "                orient = \"h\"\n",
    "                ,**{'xerr':pred_std},\n",
    "                capsize=1,\n",
    "               palette=\"Set2\",\n",
    "               saturation=0.8)\n",
    "g.set_xlabel(\"10-fold Average AUC\",fontsize = 20)\n",
    "#g = g.set_title(\"K-fold Cross validation average AUC\",fontsize = 20)\n",
    "plt.savefig(\"10fold_AUC_y.svg\", dpi=300,bbox_inches='tight')"
   ]
  },
  {
   "cell_type": "code",
   "execution_count": null,
   "id": "add1d185",
   "metadata": {},
   "outputs": [],
   "source": []
  }
 ],
 "metadata": {
  "kernelspec": {
   "display_name": "Python [conda env:machine_learning]",
   "language": "python",
   "name": "conda-env-machine_learning-py"
  },
  "language_info": {
   "codemirror_mode": {
    "name": "ipython",
    "version": 3
   },
   "file_extension": ".py",
   "mimetype": "text/x-python",
   "name": "python",
   "nbconvert_exporter": "python",
   "pygments_lexer": "ipython3",
   "version": "3.8.12"
  },
  "toc": {
   "base_numbering": 1,
   "nav_menu": {},
   "number_sections": true,
   "sideBar": true,
   "skip_h1_title": false,
   "title_cell": "Table of Contents",
   "title_sidebar": "Contents",
   "toc_cell": false,
   "toc_position": {},
   "toc_section_display": true,
   "toc_window_display": false
  },
  "varInspector": {
   "cols": {
    "lenName": 16,
    "lenType": 16,
    "lenVar": 40
   },
   "kernels_config": {
    "python": {
     "delete_cmd_postfix": "",
     "delete_cmd_prefix": "del ",
     "library": "var_list.py",
     "varRefreshCmd": "print(var_dic_list())"
    },
    "r": {
     "delete_cmd_postfix": ") ",
     "delete_cmd_prefix": "rm(",
     "library": "var_list.r",
     "varRefreshCmd": "cat(var_dic_list()) "
    }
   },
   "types_to_exclude": [
    "module",
    "function",
    "builtin_function_or_method",
    "instance",
    "_Feature"
   ],
   "window_display": false
  }
 },
 "nbformat": 4,
 "nbformat_minor": 5
}
